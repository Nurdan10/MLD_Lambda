{
 "cells": [
  {
   "cell_type": "markdown",
   "metadata": {
    "executionInfo": {
     "elapsed": 1704,
     "status": "ok",
     "timestamp": 1606731504328,
     "user": {
      "displayName": "Richard C",
      "photoUrl": "",
      "userId": "08040814671867660929"
     },
     "user_tz": -180
    },
    "id": "sy5EcZ65lzy-"
   },
   "source": [
    "<a href=\"https://clarusway.com/contact-us/\"><img align=\"center\" src=\"https://i.ibb.co/B43qn24/officially-licensed-logo.png\" alt=\"Open in Clarusway LMS\" width=\"110\" height=\"200\" title=\"This notebook is licensed by Clarusway IT training school. Please contact the authorized persons about the conditions under which you can use or share.\"></a>"
   ]
  },
  {
   "cell_type": "markdown",
   "metadata": {},
   "source": [
    "# TRAINING AND MODEL/ENDPOINT CREATION FROM NOTEBOOK"
   ]
  },
  {
   "cell_type": "code",
   "execution_count": 1,
   "metadata": {},
   "outputs": [
    {
     "name": "stderr",
     "output_type": "stream",
     "text": [
      "/home/ec2-user/anaconda3/envs/python3/lib/python3.10/site-packages/sklearn/utils/_param_validation.py:11: UserWarning: A NumPy version >=1.23.5 and <2.3.0 is required for this version of SciPy (detected version 1.22.4)\n",
      "  from scipy.sparse import csr_matrix, issparse\n"
     ]
    }
   ],
   "source": [
    "import pandas as pd      \n",
    "import numpy as np \n",
    "from sklearn.metrics import mean_squared_error, mean_absolute_error, r2_score\n",
    "from sklearn.model_selection import train_test_split\n",
    "import warnings\n",
    "warnings.filterwarnings('ignore')"
   ]
  },
  {
   "cell_type": "code",
   "execution_count": 2,
   "metadata": {
    "executionInfo": {
     "elapsed": 825,
     "status": "ok",
     "timestamp": 1606731524112,
     "user": {
      "displayName": "Richard C",
      "photoUrl": "",
      "userId": "08040814671867660929"
     },
     "user_tz": -180
    },
    "id": "-AJL3lU-lzzA"
   },
   "outputs": [],
   "source": [
    "def eval_metrics(actual, pred):\n",
    "    rmse = np.sqrt(mean_squared_error(actual, pred))\n",
    "    mae = mean_absolute_error(actual, pred)\n",
    "    mse = mean_squared_error(actual, pred)\n",
    "    score = r2_score(actual, pred)\n",
    "    return print(\" r2_score:\", score, \"\\n\",\"mae:\", mae, \"\\n\",\"mse:\",mse, \"\\n\",\"rmse:\",rmse)"
   ]
  },
  {
   "cell_type": "code",
   "execution_count": 3,
   "metadata": {},
   "outputs": [],
   "source": [
    "train_data = pd.read_csv(\"train_data.csv\")\n",
    "test_data = pd.read_csv(\"test_data.csv\")"
   ]
  },
  {
   "cell_type": "code",
   "execution_count": 4,
   "metadata": {},
   "outputs": [
    {
     "data": {
      "text/plain": [
       "(12731, 6)"
      ]
     },
     "execution_count": 4,
     "metadata": {},
     "output_type": "execute_result"
    }
   ],
   "source": [
    "train_data.shape"
   ]
  },
  {
   "cell_type": "code",
   "execution_count": 5,
   "metadata": {},
   "outputs": [
    {
     "data": {
      "text/plain": [
       "(3183, 6)"
      ]
     },
     "execution_count": 5,
     "metadata": {},
     "output_type": "execute_result"
    }
   ],
   "source": [
    "test_data.shape"
   ]
  },
  {
   "cell_type": "code",
   "execution_count": 6,
   "metadata": {},
   "outputs": [
    {
     "data": {
      "text/html": [
       "<div>\n",
       "<style scoped>\n",
       "    .dataframe tbody tr th:only-of-type {\n",
       "        vertical-align: middle;\n",
       "    }\n",
       "\n",
       "    .dataframe tbody tr th {\n",
       "        vertical-align: top;\n",
       "    }\n",
       "\n",
       "    .dataframe thead th {\n",
       "        text-align: right;\n",
       "    }\n",
       "</style>\n",
       "<table border=\"1\" class=\"dataframe\">\n",
       "  <thead>\n",
       "    <tr style=\"text-align: right;\">\n",
       "      <th></th>\n",
       "      <th>price</th>\n",
       "      <th>age</th>\n",
       "      <th>hp_kW</th>\n",
       "      <th>km</th>\n",
       "      <th>Gearing_Type</th>\n",
       "      <th>make_model</th>\n",
       "    </tr>\n",
       "  </thead>\n",
       "  <tbody>\n",
       "    <tr>\n",
       "      <th>0</th>\n",
       "      <td>26379</td>\n",
       "      <td>0.0</td>\n",
       "      <td>100.0</td>\n",
       "      <td>5900.0</td>\n",
       "      <td>Manual</td>\n",
       "      <td>Opel Insignia</td>\n",
       "    </tr>\n",
       "    <tr>\n",
       "      <th>1</th>\n",
       "      <td>18990</td>\n",
       "      <td>0.0</td>\n",
       "      <td>66.0</td>\n",
       "      <td>1900.0</td>\n",
       "      <td>Manual</td>\n",
       "      <td>Opel Astra</td>\n",
       "    </tr>\n",
       "    <tr>\n",
       "      <th>2</th>\n",
       "      <td>12480</td>\n",
       "      <td>2.0</td>\n",
       "      <td>81.0</td>\n",
       "      <td>39792.0</td>\n",
       "      <td>Manual</td>\n",
       "      <td>Opel Astra</td>\n",
       "    </tr>\n",
       "    <tr>\n",
       "      <th>3</th>\n",
       "      <td>34490</td>\n",
       "      <td>0.0</td>\n",
       "      <td>154.0</td>\n",
       "      <td>10.0</td>\n",
       "      <td>Automatic</td>\n",
       "      <td>Opel Insignia</td>\n",
       "    </tr>\n",
       "    <tr>\n",
       "      <th>4</th>\n",
       "      <td>15888</td>\n",
       "      <td>2.0</td>\n",
       "      <td>60.0</td>\n",
       "      <td>11903.0</td>\n",
       "      <td>Manual</td>\n",
       "      <td>Audi A1</td>\n",
       "    </tr>\n",
       "  </tbody>\n",
       "</table>\n",
       "</div>"
      ],
      "text/plain": [
       "   price  age  hp_kW       km Gearing_Type     make_model\n",
       "0  26379  0.0  100.0   5900.0       Manual  Opel Insignia\n",
       "1  18990  0.0   66.0   1900.0       Manual     Opel Astra\n",
       "2  12480  2.0   81.0  39792.0       Manual     Opel Astra\n",
       "3  34490  0.0  154.0     10.0    Automatic  Opel Insignia\n",
       "4  15888  2.0   60.0  11903.0       Manual        Audi A1"
      ]
     },
     "execution_count": 6,
     "metadata": {},
     "output_type": "execute_result"
    }
   ],
   "source": [
    "train_data.head()"
   ]
  },
  {
   "cell_type": "code",
   "execution_count": 7,
   "metadata": {},
   "outputs": [
    {
     "data": {
      "text/html": [
       "<div>\n",
       "<style scoped>\n",
       "    .dataframe tbody tr th:only-of-type {\n",
       "        vertical-align: middle;\n",
       "    }\n",
       "\n",
       "    .dataframe tbody tr th {\n",
       "        vertical-align: top;\n",
       "    }\n",
       "\n",
       "    .dataframe thead th {\n",
       "        text-align: right;\n",
       "    }\n",
       "</style>\n",
       "<table border=\"1\" class=\"dataframe\">\n",
       "  <thead>\n",
       "    <tr style=\"text-align: right;\">\n",
       "      <th></th>\n",
       "      <th>price</th>\n",
       "      <th>age</th>\n",
       "      <th>hp_kW</th>\n",
       "      <th>km</th>\n",
       "      <th>Gearing_Type</th>\n",
       "      <th>make_model</th>\n",
       "    </tr>\n",
       "  </thead>\n",
       "  <tbody>\n",
       "    <tr>\n",
       "      <th>0</th>\n",
       "      <td>14500</td>\n",
       "      <td>2.0</td>\n",
       "      <td>141.0</td>\n",
       "      <td>80000.0</td>\n",
       "      <td>Automatic</td>\n",
       "      <td>Audi A1</td>\n",
       "    </tr>\n",
       "    <tr>\n",
       "      <th>1</th>\n",
       "      <td>16790</td>\n",
       "      <td>3.0</td>\n",
       "      <td>66.0</td>\n",
       "      <td>16200.0</td>\n",
       "      <td>Automatic</td>\n",
       "      <td>Audi A1</td>\n",
       "    </tr>\n",
       "    <tr>\n",
       "      <th>2</th>\n",
       "      <td>15090</td>\n",
       "      <td>3.0</td>\n",
       "      <td>85.0</td>\n",
       "      <td>63668.0</td>\n",
       "      <td>Automatic</td>\n",
       "      <td>Audi A1</td>\n",
       "    </tr>\n",
       "    <tr>\n",
       "      <th>3</th>\n",
       "      <td>17990</td>\n",
       "      <td>2.0</td>\n",
       "      <td>70.0</td>\n",
       "      <td>16103.0</td>\n",
       "      <td>Automatic</td>\n",
       "      <td>Audi A1</td>\n",
       "    </tr>\n",
       "    <tr>\n",
       "      <th>4</th>\n",
       "      <td>17990</td>\n",
       "      <td>3.0</td>\n",
       "      <td>92.0</td>\n",
       "      <td>26415.0</td>\n",
       "      <td>Automatic</td>\n",
       "      <td>Audi A1</td>\n",
       "    </tr>\n",
       "  </tbody>\n",
       "</table>\n",
       "</div>"
      ],
      "text/plain": [
       "   price  age  hp_kW       km Gearing_Type make_model\n",
       "0  14500  2.0  141.0  80000.0    Automatic    Audi A1\n",
       "1  16790  3.0   66.0  16200.0    Automatic    Audi A1\n",
       "2  15090  3.0   85.0  63668.0    Automatic    Audi A1\n",
       "3  17990  2.0   70.0  16103.0    Automatic    Audi A1\n",
       "4  17990  3.0   92.0  26415.0    Automatic    Audi A1"
      ]
     },
     "execution_count": 7,
     "metadata": {},
     "output_type": "execute_result"
    }
   ],
   "source": [
    "test_data.head()"
   ]
  },
  {
   "cell_type": "code",
   "execution_count": 8,
   "metadata": {},
   "outputs": [
    {
     "data": {
      "text/html": [
       "<div>\n",
       "<style scoped>\n",
       "    .dataframe tbody tr th:only-of-type {\n",
       "        vertical-align: middle;\n",
       "    }\n",
       "\n",
       "    .dataframe tbody tr th {\n",
       "        vertical-align: top;\n",
       "    }\n",
       "\n",
       "    .dataframe thead th {\n",
       "        text-align: right;\n",
       "    }\n",
       "</style>\n",
       "<table border=\"1\" class=\"dataframe\">\n",
       "  <thead>\n",
       "    <tr style=\"text-align: right;\">\n",
       "      <th></th>\n",
       "      <th>price</th>\n",
       "      <th>age</th>\n",
       "      <th>hp_kW</th>\n",
       "      <th>km</th>\n",
       "    </tr>\n",
       "  </thead>\n",
       "  <tbody>\n",
       "    <tr>\n",
       "      <th>count</th>\n",
       "      <td>12731.000000</td>\n",
       "      <td>12731.000000</td>\n",
       "      <td>12731.000000</td>\n",
       "      <td>12731.000000</td>\n",
       "    </tr>\n",
       "    <tr>\n",
       "      <th>mean</th>\n",
       "      <td>17996.286702</td>\n",
       "      <td>1.387244</td>\n",
       "      <td>88.382374</td>\n",
       "      <td>32002.454174</td>\n",
       "    </tr>\n",
       "    <tr>\n",
       "      <th>std</th>\n",
       "      <td>7349.138624</td>\n",
       "      <td>1.121765</td>\n",
       "      <td>26.693078</td>\n",
       "      <td>37081.360187</td>\n",
       "    </tr>\n",
       "    <tr>\n",
       "      <th>min</th>\n",
       "      <td>4950.000000</td>\n",
       "      <td>0.000000</td>\n",
       "      <td>40.000000</td>\n",
       "      <td>0.000000</td>\n",
       "    </tr>\n",
       "    <tr>\n",
       "      <th>25%</th>\n",
       "      <td>12850.000000</td>\n",
       "      <td>0.000000</td>\n",
       "      <td>66.000000</td>\n",
       "      <td>1699.500000</td>\n",
       "    </tr>\n",
       "    <tr>\n",
       "      <th>50%</th>\n",
       "      <td>16890.000000</td>\n",
       "      <td>1.000000</td>\n",
       "      <td>85.000000</td>\n",
       "      <td>20321.000000</td>\n",
       "    </tr>\n",
       "    <tr>\n",
       "      <th>75%</th>\n",
       "      <td>21910.000000</td>\n",
       "      <td>2.000000</td>\n",
       "      <td>101.000000</td>\n",
       "      <td>46375.000000</td>\n",
       "    </tr>\n",
       "    <tr>\n",
       "      <th>max</th>\n",
       "      <td>74600.000000</td>\n",
       "      <td>3.000000</td>\n",
       "      <td>294.000000</td>\n",
       "      <td>291800.000000</td>\n",
       "    </tr>\n",
       "  </tbody>\n",
       "</table>\n",
       "</div>"
      ],
      "text/plain": [
       "              price           age         hp_kW             km\n",
       "count  12731.000000  12731.000000  12731.000000   12731.000000\n",
       "mean   17996.286702      1.387244     88.382374   32002.454174\n",
       "std     7349.138624      1.121765     26.693078   37081.360187\n",
       "min     4950.000000      0.000000     40.000000       0.000000\n",
       "25%    12850.000000      0.000000     66.000000    1699.500000\n",
       "50%    16890.000000      1.000000     85.000000   20321.000000\n",
       "75%    21910.000000      2.000000    101.000000   46375.000000\n",
       "max    74600.000000      3.000000    294.000000  291800.000000"
      ]
     },
     "execution_count": 8,
     "metadata": {},
     "output_type": "execute_result"
    }
   ],
   "source": [
    "train_data.describe()"
   ]
  },
  {
   "cell_type": "code",
   "execution_count": 9,
   "metadata": {},
   "outputs": [
    {
     "data": {
      "text/html": [
       "<div>\n",
       "<style scoped>\n",
       "    .dataframe tbody tr th:only-of-type {\n",
       "        vertical-align: middle;\n",
       "    }\n",
       "\n",
       "    .dataframe tbody tr th {\n",
       "        vertical-align: top;\n",
       "    }\n",
       "\n",
       "    .dataframe thead th {\n",
       "        text-align: right;\n",
       "    }\n",
       "</style>\n",
       "<table border=\"1\" class=\"dataframe\">\n",
       "  <thead>\n",
       "    <tr style=\"text-align: right;\">\n",
       "      <th></th>\n",
       "      <th>price</th>\n",
       "      <th>age</th>\n",
       "      <th>hp_kW</th>\n",
       "      <th>km</th>\n",
       "    </tr>\n",
       "  </thead>\n",
       "  <tbody>\n",
       "    <tr>\n",
       "      <th>count</th>\n",
       "      <td>3183.000000</td>\n",
       "      <td>3183.000000</td>\n",
       "      <td>3183.000000</td>\n",
       "      <td>3183.000000</td>\n",
       "    </tr>\n",
       "    <tr>\n",
       "      <th>mean</th>\n",
       "      <td>18133.550424</td>\n",
       "      <td>1.399623</td>\n",
       "      <td>88.968269</td>\n",
       "      <td>32441.995475</td>\n",
       "    </tr>\n",
       "    <tr>\n",
       "      <th>std</th>\n",
       "      <td>7509.562135</td>\n",
       "      <td>1.119744</td>\n",
       "      <td>26.602421</td>\n",
       "      <td>36567.088540</td>\n",
       "    </tr>\n",
       "    <tr>\n",
       "      <th>min</th>\n",
       "      <td>5450.000000</td>\n",
       "      <td>0.000000</td>\n",
       "      <td>51.000000</td>\n",
       "      <td>0.000000</td>\n",
       "    </tr>\n",
       "    <tr>\n",
       "      <th>25%</th>\n",
       "      <td>12880.000000</td>\n",
       "      <td>0.000000</td>\n",
       "      <td>66.000000</td>\n",
       "      <td>2970.500000</td>\n",
       "    </tr>\n",
       "    <tr>\n",
       "      <th>50%</th>\n",
       "      <td>16990.000000</td>\n",
       "      <td>1.000000</td>\n",
       "      <td>85.000000</td>\n",
       "      <td>20900.000000</td>\n",
       "    </tr>\n",
       "    <tr>\n",
       "      <th>75%</th>\n",
       "      <td>21900.000000</td>\n",
       "      <td>2.000000</td>\n",
       "      <td>103.000000</td>\n",
       "      <td>48000.000000</td>\n",
       "    </tr>\n",
       "    <tr>\n",
       "      <th>max</th>\n",
       "      <td>68320.000000</td>\n",
       "      <td>3.000000</td>\n",
       "      <td>294.000000</td>\n",
       "      <td>317000.000000</td>\n",
       "    </tr>\n",
       "  </tbody>\n",
       "</table>\n",
       "</div>"
      ],
      "text/plain": [
       "              price          age        hp_kW             km\n",
       "count   3183.000000  3183.000000  3183.000000    3183.000000\n",
       "mean   18133.550424     1.399623    88.968269   32441.995475\n",
       "std     7509.562135     1.119744    26.602421   36567.088540\n",
       "min     5450.000000     0.000000    51.000000       0.000000\n",
       "25%    12880.000000     0.000000    66.000000    2970.500000\n",
       "50%    16990.000000     1.000000    85.000000   20900.000000\n",
       "75%    21900.000000     2.000000   103.000000   48000.000000\n",
       "max    68320.000000     3.000000   294.000000  317000.000000"
      ]
     },
     "execution_count": 9,
     "metadata": {},
     "output_type": "execute_result"
    }
   ],
   "source": [
    "test_data.describe()"
   ]
  },
  {
   "cell_type": "code",
   "execution_count": 10,
   "metadata": {},
   "outputs": [
    {
     "data": {
      "text/plain": [
       "make_model\n",
       "Audi A3           2488\n",
       "Audi A1           2111\n",
       "Opel Insignia     2044\n",
       "Opel Astra        1995\n",
       "Opel Corsa        1791\n",
       "Renault Clio      1488\n",
       "Renault Espace     786\n",
       "Renault Duster      28\n",
       "Name: count, dtype: int64"
      ]
     },
     "execution_count": 10,
     "metadata": {},
     "output_type": "execute_result"
    }
   ],
   "source": [
    "train_data.make_model.value_counts()"
   ]
  },
  {
   "cell_type": "code",
   "execution_count": 11,
   "metadata": {},
   "outputs": [
    {
     "data": {
      "text/plain": [
       "make_model\n",
       "Audi A3           609\n",
       "Opel Insignia     554\n",
       "Opel Astra        530\n",
       "Audi A1           503\n",
       "Opel Corsa        425\n",
       "Renault Clio      351\n",
       "Renault Espace    205\n",
       "Renault Duster      6\n",
       "Name: count, dtype: int64"
      ]
     },
     "execution_count": 11,
     "metadata": {},
     "output_type": "execute_result"
    }
   ],
   "source": [
    "test_data.make_model.value_counts()"
   ]
  },
  {
   "cell_type": "code",
   "execution_count": 12,
   "metadata": {},
   "outputs": [
    {
     "data": {
      "text/plain": [
       "Gearing_Type\n",
       "Manual            6496\n",
       "Automatic         5861\n",
       "Semi-automatic     374\n",
       "Name: count, dtype: int64"
      ]
     },
     "execution_count": 12,
     "metadata": {},
     "output_type": "execute_result"
    }
   ],
   "source": [
    "train_data.Gearing_Type.value_counts()"
   ]
  },
  {
   "cell_type": "markdown",
   "metadata": {},
   "source": [
    "# Split train_data into train and validation"
   ]
  },
  {
   "cell_type": "code",
   "execution_count": 13,
   "metadata": {},
   "outputs": [],
   "source": [
    "X = train_data.drop([\"price\"], axis = 1)\n",
    "y = train_data['price']"
   ]
  },
  {
   "cell_type": "code",
   "execution_count": 14,
   "metadata": {},
   "outputs": [],
   "source": [
    "X_train, X_val, y_train, y_val = train_test_split(X, y, test_size=0.25, random_state=1)"
   ]
  },
  {
   "cell_type": "code",
   "execution_count": 15,
   "metadata": {},
   "outputs": [
    {
     "data": {
      "text/html": [
       "<div>\n",
       "<style scoped>\n",
       "    .dataframe tbody tr th:only-of-type {\n",
       "        vertical-align: middle;\n",
       "    }\n",
       "\n",
       "    .dataframe tbody tr th {\n",
       "        vertical-align: top;\n",
       "    }\n",
       "\n",
       "    .dataframe thead th {\n",
       "        text-align: right;\n",
       "    }\n",
       "</style>\n",
       "<table border=\"1\" class=\"dataframe\">\n",
       "  <thead>\n",
       "    <tr style=\"text-align: right;\">\n",
       "      <th></th>\n",
       "      <th>age</th>\n",
       "      <th>hp_kW</th>\n",
       "      <th>km</th>\n",
       "      <th>Gearing_Type</th>\n",
       "      <th>make_model</th>\n",
       "    </tr>\n",
       "  </thead>\n",
       "  <tbody>\n",
       "    <tr>\n",
       "      <th>8699</th>\n",
       "      <td>2.0</td>\n",
       "      <td>51.0</td>\n",
       "      <td>40000.0</td>\n",
       "      <td>Manual</td>\n",
       "      <td>Opel Corsa</td>\n",
       "    </tr>\n",
       "    <tr>\n",
       "      <th>5137</th>\n",
       "      <td>3.0</td>\n",
       "      <td>70.0</td>\n",
       "      <td>97976.0</td>\n",
       "      <td>Manual</td>\n",
       "      <td>Audi A1</td>\n",
       "    </tr>\n",
       "    <tr>\n",
       "      <th>536</th>\n",
       "      <td>1.0</td>\n",
       "      <td>66.0</td>\n",
       "      <td>14500.0</td>\n",
       "      <td>Manual</td>\n",
       "      <td>Audi A1</td>\n",
       "    </tr>\n",
       "    <tr>\n",
       "      <th>876</th>\n",
       "      <td>3.0</td>\n",
       "      <td>55.0</td>\n",
       "      <td>25329.0</td>\n",
       "      <td>Manual</td>\n",
       "      <td>Opel Corsa</td>\n",
       "    </tr>\n",
       "    <tr>\n",
       "      <th>8690</th>\n",
       "      <td>2.0</td>\n",
       "      <td>125.0</td>\n",
       "      <td>37125.0</td>\n",
       "      <td>Automatic</td>\n",
       "      <td>Opel Insignia</td>\n",
       "    </tr>\n",
       "  </tbody>\n",
       "</table>\n",
       "</div>"
      ],
      "text/plain": [
       "      age  hp_kW       km Gearing_Type     make_model\n",
       "8699  2.0   51.0  40000.0       Manual     Opel Corsa\n",
       "5137  3.0   70.0  97976.0       Manual        Audi A1\n",
       "536   1.0   66.0  14500.0       Manual        Audi A1\n",
       "876   3.0   55.0  25329.0       Manual     Opel Corsa\n",
       "8690  2.0  125.0  37125.0    Automatic  Opel Insignia"
      ]
     },
     "execution_count": 15,
     "metadata": {},
     "output_type": "execute_result"
    }
   ],
   "source": [
    "X_train.head()"
   ]
  },
  {
   "cell_type": "code",
   "execution_count": 16,
   "metadata": {},
   "outputs": [
    {
     "data": {
      "text/plain": [
       "8699     8900\n",
       "5137    11490\n",
       "536     16800\n",
       "876      7899\n",
       "8690    19499\n",
       "Name: price, dtype: int64"
      ]
     },
     "execution_count": 16,
     "metadata": {},
     "output_type": "execute_result"
    }
   ],
   "source": [
    "y_train.head()"
   ]
  },
  {
   "cell_type": "code",
   "execution_count": 17,
   "metadata": {},
   "outputs": [],
   "source": [
    "from sklearn.compose import make_column_transformer\n",
    "from sklearn.preprocessing import OrdinalEncoder"
   ]
  },
  {
   "cell_type": "code",
   "execution_count": 18,
   "metadata": {},
   "outputs": [
    {
     "data": {
      "text/plain": [
       "Index(['Gearing_Type', 'make_model'], dtype='object')"
      ]
     },
     "execution_count": 18,
     "metadata": {},
     "output_type": "execute_result"
    }
   ],
   "source": [
    "cat = X_train.select_dtypes(\"object\").columns\n",
    "cat"
   ]
  },
  {
   "cell_type": "code",
   "execution_count": 19,
   "metadata": {},
   "outputs": [],
   "source": [
    "ord_enc = OrdinalEncoder()\n",
    "column_trans = make_column_transformer((ord_enc, cat), remainder='passthrough', verbose_feature_names_out=False).set_output(transform=\"pandas\") # remainder: # Keep other columns rather than cat in original form.\n",
    "                                                                                # remainder: # if you want to scale rest of cat columns use \"minmax\" instead passthrough\n",
    "    \n",
    "# Apply ord_enc to categoric variables and remain in original form rest of them.\n",
    "# ord_enc for DT based algorithms\n",
    "# For Linear reg, log reg vs. use one hot encoder "
   ]
  },
  {
   "cell_type": "code",
   "execution_count": null,
   "metadata": {},
   "outputs": [],
   "source": []
  },
  {
   "cell_type": "code",
   "execution_count": 20,
   "metadata": {},
   "outputs": [],
   "source": [
    "train = column_trans.fit_transform(X_train)\n",
    "validation = column_trans.transform(X_val)"
   ]
  },
  {
   "cell_type": "code",
   "execution_count": 21,
   "metadata": {},
   "outputs": [
    {
     "data": {
      "text/html": [
       "<div>\n",
       "<style scoped>\n",
       "    .dataframe tbody tr th:only-of-type {\n",
       "        vertical-align: middle;\n",
       "    }\n",
       "\n",
       "    .dataframe tbody tr th {\n",
       "        vertical-align: top;\n",
       "    }\n",
       "\n",
       "    .dataframe thead th {\n",
       "        text-align: right;\n",
       "    }\n",
       "</style>\n",
       "<table border=\"1\" class=\"dataframe\">\n",
       "  <thead>\n",
       "    <tr style=\"text-align: right;\">\n",
       "      <th></th>\n",
       "      <th>Gearing_Type</th>\n",
       "      <th>make_model</th>\n",
       "      <th>age</th>\n",
       "      <th>hp_kW</th>\n",
       "      <th>km</th>\n",
       "    </tr>\n",
       "  </thead>\n",
       "  <tbody>\n",
       "    <tr>\n",
       "      <th>8699</th>\n",
       "      <td>1.0</td>\n",
       "      <td>3.0</td>\n",
       "      <td>2.0</td>\n",
       "      <td>51.0</td>\n",
       "      <td>40000.0</td>\n",
       "    </tr>\n",
       "    <tr>\n",
       "      <th>5137</th>\n",
       "      <td>1.0</td>\n",
       "      <td>0.0</td>\n",
       "      <td>3.0</td>\n",
       "      <td>70.0</td>\n",
       "      <td>97976.0</td>\n",
       "    </tr>\n",
       "    <tr>\n",
       "      <th>536</th>\n",
       "      <td>1.0</td>\n",
       "      <td>0.0</td>\n",
       "      <td>1.0</td>\n",
       "      <td>66.0</td>\n",
       "      <td>14500.0</td>\n",
       "    </tr>\n",
       "    <tr>\n",
       "      <th>876</th>\n",
       "      <td>1.0</td>\n",
       "      <td>3.0</td>\n",
       "      <td>3.0</td>\n",
       "      <td>55.0</td>\n",
       "      <td>25329.0</td>\n",
       "    </tr>\n",
       "    <tr>\n",
       "      <th>8690</th>\n",
       "      <td>0.0</td>\n",
       "      <td>4.0</td>\n",
       "      <td>2.0</td>\n",
       "      <td>125.0</td>\n",
       "      <td>37125.0</td>\n",
       "    </tr>\n",
       "  </tbody>\n",
       "</table>\n",
       "</div>"
      ],
      "text/plain": [
       "      Gearing_Type  make_model  age  hp_kW       km\n",
       "8699           1.0         3.0  2.0   51.0  40000.0\n",
       "5137           1.0         0.0  3.0   70.0  97976.0\n",
       "536            1.0         0.0  1.0   66.0  14500.0\n",
       "876            1.0         3.0  3.0   55.0  25329.0\n",
       "8690           0.0         4.0  2.0  125.0  37125.0"
      ]
     },
     "execution_count": 21,
     "metadata": {},
     "output_type": "execute_result"
    }
   ],
   "source": [
    "train.head()"
   ]
  },
  {
   "cell_type": "code",
   "execution_count": 22,
   "metadata": {},
   "outputs": [],
   "source": [
    "train = pd.concat([pd.Series(y_train, index = X_train.index, name=\"price\", dtype=int), train], axis=1)\n",
    "validation = pd.concat([pd.Series(y_val, index = X_val.index, name=\"price\", dtype=int), validation], axis=1)"
   ]
  },
  {
   "cell_type": "code",
   "execution_count": 23,
   "metadata": {},
   "outputs": [
    {
     "data": {
      "text/html": [
       "<div>\n",
       "<style scoped>\n",
       "    .dataframe tbody tr th:only-of-type {\n",
       "        vertical-align: middle;\n",
       "    }\n",
       "\n",
       "    .dataframe tbody tr th {\n",
       "        vertical-align: top;\n",
       "    }\n",
       "\n",
       "    .dataframe thead th {\n",
       "        text-align: right;\n",
       "    }\n",
       "</style>\n",
       "<table border=\"1\" class=\"dataframe\">\n",
       "  <thead>\n",
       "    <tr style=\"text-align: right;\">\n",
       "      <th></th>\n",
       "      <th>price</th>\n",
       "      <th>Gearing_Type</th>\n",
       "      <th>make_model</th>\n",
       "      <th>age</th>\n",
       "      <th>hp_kW</th>\n",
       "      <th>km</th>\n",
       "    </tr>\n",
       "  </thead>\n",
       "  <tbody>\n",
       "    <tr>\n",
       "      <th>8699</th>\n",
       "      <td>8900</td>\n",
       "      <td>1.0</td>\n",
       "      <td>3.0</td>\n",
       "      <td>2.0</td>\n",
       "      <td>51.0</td>\n",
       "      <td>40000.0</td>\n",
       "    </tr>\n",
       "    <tr>\n",
       "      <th>5137</th>\n",
       "      <td>11490</td>\n",
       "      <td>1.0</td>\n",
       "      <td>0.0</td>\n",
       "      <td>3.0</td>\n",
       "      <td>70.0</td>\n",
       "      <td>97976.0</td>\n",
       "    </tr>\n",
       "    <tr>\n",
       "      <th>536</th>\n",
       "      <td>16800</td>\n",
       "      <td>1.0</td>\n",
       "      <td>0.0</td>\n",
       "      <td>1.0</td>\n",
       "      <td>66.0</td>\n",
       "      <td>14500.0</td>\n",
       "    </tr>\n",
       "    <tr>\n",
       "      <th>876</th>\n",
       "      <td>7899</td>\n",
       "      <td>1.0</td>\n",
       "      <td>3.0</td>\n",
       "      <td>3.0</td>\n",
       "      <td>55.0</td>\n",
       "      <td>25329.0</td>\n",
       "    </tr>\n",
       "    <tr>\n",
       "      <th>8690</th>\n",
       "      <td>19499</td>\n",
       "      <td>0.0</td>\n",
       "      <td>4.0</td>\n",
       "      <td>2.0</td>\n",
       "      <td>125.0</td>\n",
       "      <td>37125.0</td>\n",
       "    </tr>\n",
       "  </tbody>\n",
       "</table>\n",
       "</div>"
      ],
      "text/plain": [
       "      price  Gearing_Type  make_model  age  hp_kW       km\n",
       "8699   8900           1.0         3.0  2.0   51.0  40000.0\n",
       "5137  11490           1.0         0.0  3.0   70.0  97976.0\n",
       "536   16800           1.0         0.0  1.0   66.0  14500.0\n",
       "876    7899           1.0         3.0  3.0   55.0  25329.0\n",
       "8690  19499           0.0         4.0  2.0  125.0  37125.0"
      ]
     },
     "execution_count": 23,
     "metadata": {},
     "output_type": "execute_result"
    }
   ],
   "source": [
    "train.head()"
   ]
  },
  {
   "cell_type": "code",
   "execution_count": 24,
   "metadata": {},
   "outputs": [
    {
     "data": {
      "text/html": [
       "<div>\n",
       "<style scoped>\n",
       "    .dataframe tbody tr th:only-of-type {\n",
       "        vertical-align: middle;\n",
       "    }\n",
       "\n",
       "    .dataframe tbody tr th {\n",
       "        vertical-align: top;\n",
       "    }\n",
       "\n",
       "    .dataframe thead th {\n",
       "        text-align: right;\n",
       "    }\n",
       "</style>\n",
       "<table border=\"1\" class=\"dataframe\">\n",
       "  <thead>\n",
       "    <tr style=\"text-align: right;\">\n",
       "      <th></th>\n",
       "      <th>price</th>\n",
       "      <th>Gearing_Type</th>\n",
       "      <th>make_model</th>\n",
       "      <th>age</th>\n",
       "      <th>hp_kW</th>\n",
       "      <th>km</th>\n",
       "    </tr>\n",
       "  </thead>\n",
       "  <tbody>\n",
       "    <tr>\n",
       "      <th>3132</th>\n",
       "      <td>15480</td>\n",
       "      <td>0.0</td>\n",
       "      <td>2.0</td>\n",
       "      <td>3.0</td>\n",
       "      <td>100.0</td>\n",
       "      <td>56587.0</td>\n",
       "    </tr>\n",
       "    <tr>\n",
       "      <th>8123</th>\n",
       "      <td>24900</td>\n",
       "      <td>1.0</td>\n",
       "      <td>7.0</td>\n",
       "      <td>1.0</td>\n",
       "      <td>96.0</td>\n",
       "      <td>20000.0</td>\n",
       "    </tr>\n",
       "    <tr>\n",
       "      <th>10948</th>\n",
       "      <td>27400</td>\n",
       "      <td>0.0</td>\n",
       "      <td>0.0</td>\n",
       "      <td>0.0</td>\n",
       "      <td>85.0</td>\n",
       "      <td>10.0</td>\n",
       "    </tr>\n",
       "    <tr>\n",
       "      <th>1986</th>\n",
       "      <td>11975</td>\n",
       "      <td>1.0</td>\n",
       "      <td>2.0</td>\n",
       "      <td>2.0</td>\n",
       "      <td>74.0</td>\n",
       "      <td>38500.0</td>\n",
       "    </tr>\n",
       "    <tr>\n",
       "      <th>7487</th>\n",
       "      <td>12450</td>\n",
       "      <td>1.0</td>\n",
       "      <td>4.0</td>\n",
       "      <td>3.0</td>\n",
       "      <td>103.0</td>\n",
       "      <td>45000.0</td>\n",
       "    </tr>\n",
       "  </tbody>\n",
       "</table>\n",
       "</div>"
      ],
      "text/plain": [
       "       price  Gearing_Type  make_model  age  hp_kW       km\n",
       "3132   15480           0.0         2.0  3.0  100.0  56587.0\n",
       "8123   24900           1.0         7.0  1.0   96.0  20000.0\n",
       "10948  27400           0.0         0.0  0.0   85.0     10.0\n",
       "1986   11975           1.0         2.0  2.0   74.0  38500.0\n",
       "7487   12450           1.0         4.0  3.0  103.0  45000.0"
      ]
     },
     "execution_count": 24,
     "metadata": {},
     "output_type": "execute_result"
    }
   ],
   "source": [
    "validation.head()"
   ]
  },
  {
   "cell_type": "code",
   "execution_count": 25,
   "metadata": {},
   "outputs": [],
   "source": [
    "train.to_csv('train.csv', index=False, header=False)\n",
    "validation.to_csv('validation.csv', index=False, header=False)"
   ]
  },
  {
   "cell_type": "code",
   "execution_count": 26,
   "metadata": {},
   "outputs": [
    {
     "name": "stdout",
     "output_type": "stream",
     "text": [
      "sagemaker.config INFO - Not applying SDK defaults from location: /etc/xdg/sagemaker/config.yaml\n",
      "sagemaker.config INFO - Not applying SDK defaults from location: /home/ec2-user/.config/sagemaker/config.yaml\n"
     ]
    }
   ],
   "source": [
    "# Import sagemaker and boto3 libraries.\n",
    "import sagemaker, boto3\n",
    "bucket = 'de08-inclass-hillary'\n",
    "prefix = 'sm-autoscout-notebook'"
   ]
  },
  {
   "cell_type": "code",
   "execution_count": 27,
   "metadata": {},
   "outputs": [
    {
     "data": {
      "text/plain": [
       "'2.229.0'"
      ]
     },
     "execution_count": 27,
     "metadata": {},
     "output_type": "execute_result"
    }
   ],
   "source": [
    "sagemaker.__version__"
   ]
  },
  {
   "cell_type": "code",
   "execution_count": 28,
   "metadata": {},
   "outputs": [],
   "source": [
    "# Loading train and validation datasets into S3 bucket.\n",
    "boto3.Session().resource('s3').Bucket(bucket).Object(prefix + '/data/train.csv').upload_file('train.csv')\n",
    "boto3.Session().resource('s3').Bucket(bucket).Object(prefix + '/data/validation.csv').upload_file('validation.csv')"
   ]
  },
  {
   "cell_type": "code",
   "execution_count": 29,
   "metadata": {},
   "outputs": [
    {
     "name": "stdout",
     "output_type": "stream",
     "text": [
      "2024-08-26 07:31:11     298744 sm-autoscout-notebook/data/train.csv\r\n",
      "2024-08-26 07:31:11      99546 sm-autoscout-notebook/data/validation.csv\r\n"
     ]
    }
   ],
   "source": [
    "# Checking the lists of objects in bucket\n",
    "# We can check them also from AWS S3 console\n",
    "\n",
    "! aws s3 ls {bucket}/{prefix}/data --recursive"
   ]
  },
  {
   "cell_type": "markdown",
   "metadata": {},
   "source": [
    "# Train Model"
   ]
  },
  {
   "cell_type": "code",
   "execution_count": 106,
   "metadata": {},
   "outputs": [],
   "source": [
    "# %pip install --upgrade boto3  # if the following code raise an error, run this before then restart the kernel or define region name manually"
   ]
  },
  {
   "cell_type": "code",
   "execution_count": 30,
   "metadata": {},
   "outputs": [
    {
     "name": "stdout",
     "output_type": "stream",
     "text": [
      "AWS Region: us-east-1\n",
      "RoleArn:arn:aws:iam::046402772087:role/service-role/AmazonSageMaker-ExecutionRole-20240822T125482\n"
     ]
    }
   ],
   "source": [
    "# Defining the region and role variables which will be used for the connection to the AWS.\n",
    "region = sagemaker.Session().boto_region_name  # region = boto3.Session().region_name\n",
    "print(\"AWS Region: {}\".format(region))\n",
    "\n",
    "role = sagemaker.get_execution_role()\n",
    "print(\"RoleArn:{}\".format(role))"
   ]
  },
  {
   "cell_type": "code",
   "execution_count": 31,
   "metadata": {},
   "outputs": [],
   "source": [
    "from sagemaker.debugger import Rule, rule_configs\n",
    "\n",
    "# The Debugger built-in rules monitor various common conditions that are critical for the success of a training job"
   ]
  },
  {
   "cell_type": "code",
   "execution_count": 32,
   "metadata": {},
   "outputs": [],
   "source": [
    "# Defining output path in which outputs will be loaded during model training.\n",
    "s3_output_location = 's3://{}/{}/{}'.format(bucket, prefix, 'autoscout_model')"
   ]
  },
  {
   "cell_type": "code",
   "execution_count": 33,
   "metadata": {},
   "outputs": [
    {
     "name": "stdout",
     "output_type": "stream",
     "text": [
      "683313688378.dkr.ecr.us-east-1.amazonaws.com/sagemaker-xgboost:1.2-2\n"
     ]
    }
   ],
   "source": [
    "# Defining built-in algorithm name and version which we will use for model creation.\n",
    "container = sagemaker.image_uris.retrieve(\"xgboost\", region, version=\"1.2-2\")  # training code image for xgboost\n",
    "print(container)"
   ]
  },
  {
   "cell_type": "code",
   "execution_count": 111,
   "metadata": {},
   "outputs": [],
   "source": [
    "# for the latest version of xgboost\n",
    "# container = sagemaker.image_uris.retrieve(\"xgboost\", region, version=\"latest\")\n",
    "# print(container)"
   ]
  },
  {
   "cell_type": "code",
   "execution_count": 35,
   "metadata": {},
   "outputs": [],
   "source": [
    "# help(sagemaker.image_uris.retrieve)"
   ]
  },
  {
   "cell_type": "code",
   "execution_count": 36,
   "metadata": {},
   "outputs": [],
   "source": [
    "# Model creation using sagemaker estimator function\n",
    "\n",
    "xgb_model = sagemaker.estimator.Estimator(\n",
    "    container,\n",
    "    role,\n",
    "    instance_count=1,\n",
    "    instance_type='ml.m4.xlarge',\n",
    "    volume_size = 1, # GB\n",
    "    output_path = s3_output_location,\n",
    "    sagemaker_session=sagemaker.Session(),\n",
    "    rules = [Rule.sagemaker(rule_configs.create_xgboost_report())]  # to see xgboost training metrics during model training\n",
    "    )"
   ]
  },
  {
   "cell_type": "code",
   "execution_count": 114,
   "metadata": {},
   "outputs": [],
   "source": [
    "#help(xgb_model.set_hyperparameters)"
   ]
  },
  {
   "cell_type": "code",
   "execution_count": 37,
   "metadata": {},
   "outputs": [],
   "source": [
    "# Setting the model hyperparameters\n",
    "\n",
    "xgb_model.set_hyperparameters(max_depth=4,\n",
    "                              eta=0.3,\n",
    "                              num_round=200,\n",
    "                              objective = \"reg:squarederror\",  # objective = \"reg:squarederror\", \"reg:linear\" for latest xgboost!\n",
    "                              early_stopping_rounds=10)  \n",
    "                                                               "
   ]
  },
  {
   "cell_type": "code",
   "execution_count": 38,
   "metadata": {},
   "outputs": [],
   "source": [
    "# Import training input method which will be used to prepare train and validation data before model training\n",
    "from sagemaker.session import TrainingInput\n",
    "\n",
    "# Preparing train and validation data for model training\n",
    "train_input = TrainingInput(\n",
    "'s3://{}/{}/{}'.format(bucket, prefix, 'data/train.csv'), content_type='csv'\n",
    ")\n",
    "\n",
    "validation_input = TrainingInput(\n",
    "'s3://{}/{}/{}'.format(bucket, prefix, 'data/validation.csv'), content_type='csv'\n",
    ")"
   ]
  },
  {
   "cell_type": "code",
   "execution_count": 39,
   "metadata": {},
   "outputs": [],
   "source": [
    "# Convert the data we prepared into dictionary format for model training \n",
    "data_channels = {'train': train_input, 'validation': validation_input}"
   ]
  },
  {
   "cell_type": "code",
   "execution_count": 40,
   "metadata": {
    "scrolled": true
   },
   "outputs": [
    {
     "name": "stderr",
     "output_type": "stream",
     "text": [
      "INFO:sagemaker:Creating training-job with name: sagemaker-xgboost-2024-08-26-07-46-18-145\n"
     ]
    },
    {
     "name": "stdout",
     "output_type": "stream",
     "text": [
      "2024-08-26 07:46:20 Starting - Starting the training job...\n",
      "2024-08-26 07:46:42 Starting - Preparing the instances for trainingCreateXgboostReport: InProgress\n",
      "...\n",
      "2024-08-26 07:47:22 Downloading - Downloading input data...\n",
      "2024-08-26 07:47:42 Downloading - Downloading the training image......\n",
      "2024-08-26 07:48:42 Training - Training image download completed. Training in progress..\u001b[34m[2024-08-26 07:48:52.047 ip-10-0-97-236.ec2.internal:7 INFO utils.py:27] RULE_JOB_STOP_SIGNAL_FILENAME: None\u001b[0m\n",
      "\u001b[34m[2024-08-26:07:48:52:INFO] Imported framework sagemaker_xgboost_container.training\u001b[0m\n",
      "\u001b[34m[2024-08-26:07:48:52:INFO] Failed to parse hyperparameter objective value reg:squarederror to Json.\u001b[0m\n",
      "\u001b[34mReturning the value itself\u001b[0m\n",
      "\u001b[34m[2024-08-26:07:48:52:INFO] No GPUs detected (normal if no gpus installed)\u001b[0m\n",
      "\u001b[34m[2024-08-26:07:48:52:INFO] Running XGBoost Sagemaker in algorithm mode\u001b[0m\n",
      "\u001b[34m[2024-08-26:07:48:52:INFO] Determined delimiter of CSV input is ','\u001b[0m\n",
      "\u001b[34m[2024-08-26:07:48:52:INFO] Determined delimiter of CSV input is ','\u001b[0m\n",
      "\u001b[34m[2024-08-26:07:48:52:INFO] Determined delimiter of CSV input is ','\u001b[0m\n",
      "\u001b[34m[2024-08-26:07:48:52:INFO] Determined delimiter of CSV input is ','\u001b[0m\n",
      "\u001b[34m[2024-08-26:07:48:52:INFO] Single node training.\u001b[0m\n",
      "\u001b[34m[2024-08-26:07:48:52:INFO] Train matrix has 9548 rows and 5 columns\u001b[0m\n",
      "\u001b[34m[2024-08-26:07:48:52:INFO] Validation matrix has 3183 rows\u001b[0m\n",
      "\u001b[34m[2024-08-26 07:48:52.124 ip-10-0-97-236.ec2.internal:7 INFO json_config.py:91] Creating hook from json_config at /opt/ml/input/config/debughookconfig.json.\u001b[0m\n",
      "\u001b[34m[2024-08-26 07:48:52.125 ip-10-0-97-236.ec2.internal:7 INFO hook.py:201] tensorboard_dir has not been set for the hook. SMDebug will not be exporting tensorboard summaries.\u001b[0m\n",
      "\u001b[34m[2024-08-26 07:48:52.125 ip-10-0-97-236.ec2.internal:7 INFO profiler_config_parser.py:102] User has disabled profiler.\u001b[0m\n",
      "\u001b[34m[2024-08-26 07:48:52.126 ip-10-0-97-236.ec2.internal:7 INFO hook.py:255] Saving to /opt/ml/output/tensors\u001b[0m\n",
      "\u001b[34m[2024-08-26 07:48:52.126 ip-10-0-97-236.ec2.internal:7 INFO state_store.py:77] The checkpoint config file /opt/ml/input/config/checkpointconfig.json does not exist.\u001b[0m\n",
      "\u001b[34m[2024-08-26:07:48:52:INFO] Debug hook created from config\u001b[0m\n",
      "\u001b[34m[0]#011train-rmse:13806.99219#011validation-rmse:13943.90430\u001b[0m\n",
      "\u001b[34m[2024-08-26 07:48:52.228 ip-10-0-97-236.ec2.internal:7 INFO hook.py:423] Monitoring the collections: hyperparameters, feature_importance, predictions, metrics, labels\u001b[0m\n",
      "\u001b[34m[2024-08-26 07:48:52.230 ip-10-0-97-236.ec2.internal:7 INFO hook.py:486] Hook is writing from the hook with pid: 7\u001b[0m\n",
      "\u001b[34m[1]#011train-rmse:9944.57031#011validation-rmse:10122.90430\u001b[0m\n",
      "\u001b[34m[2]#011train-rmse:7250.11963#011validation-rmse:7435.13867\u001b[0m\n",
      "\u001b[34m[3]#011train-rmse:5439.71387#011validation-rmse:5640.31397\u001b[0m\n",
      "\u001b[34m[4]#011train-rmse:4245.35889#011validation-rmse:4468.48682\u001b[0m\n",
      "\u001b[34m[5]#011train-rmse:3427.65405#011validation-rmse:3656.31348\u001b[0m\n",
      "\u001b[34m[6]#011train-rmse:2933.21216#011validation-rmse:3157.58740\u001b[0m\n",
      "\u001b[34m[7]#011train-rmse:2625.66382#011validation-rmse:2857.56079\u001b[0m\n",
      "\u001b[34m[8]#011train-rmse:2453.98267#011validation-rmse:2675.93945\u001b[0m\n",
      "\u001b[34m[9]#011train-rmse:2343.88525#011validation-rmse:2566.36987\u001b[0m\n",
      "\u001b[34m[10]#011train-rmse:2273.32080#011validation-rmse:2488.99121\u001b[0m\n",
      "\u001b[34m[11]#011train-rmse:2226.31714#011validation-rmse:2434.71753\u001b[0m\n",
      "\u001b[34m[12]#011train-rmse:2168.55005#011validation-rmse:2363.90601\u001b[0m\n",
      "\u001b[34m[13]#011train-rmse:2140.14526#011validation-rmse:2339.31470\u001b[0m\n",
      "\u001b[34m[14]#011train-rmse:2082.01245#011validation-rmse:2265.74194\u001b[0m\n",
      "\u001b[34m[15]#011train-rmse:2068.47021#011validation-rmse:2253.88086\u001b[0m\n",
      "\u001b[34m[16]#011train-rmse:2050.19312#011validation-rmse:2242.06519\u001b[0m\n",
      "\u001b[34m[17]#011train-rmse:2018.77917#011validation-rmse:2202.13306\u001b[0m\n",
      "\u001b[34m[18]#011train-rmse:2006.63684#011validation-rmse:2190.17920\u001b[0m\n",
      "\u001b[34m[19]#011train-rmse:1986.63184#011validation-rmse:2178.64697\u001b[0m\n",
      "\u001b[34m[20]#011train-rmse:1981.01245#011validation-rmse:2177.25513\u001b[0m\n",
      "\u001b[34m[21]#011train-rmse:1969.33203#011validation-rmse:2172.89258\u001b[0m\n",
      "\u001b[34m[22]#011train-rmse:1962.13049#011validation-rmse:2169.86694\u001b[0m\n",
      "\u001b[34m[23]#011train-rmse:1939.55554#011validation-rmse:2149.03980\u001b[0m\n",
      "\u001b[34m[24]#011train-rmse:1925.87598#011validation-rmse:2137.00879\u001b[0m\n",
      "\u001b[34m[25]#011train-rmse:1906.30798#011validation-rmse:2115.69092\u001b[0m\n",
      "\u001b[34m[26]#011train-rmse:1898.67883#011validation-rmse:2108.45776\u001b[0m\n",
      "\u001b[34m[27]#011train-rmse:1888.04541#011validation-rmse:2109.13477\u001b[0m\n",
      "\u001b[34m[28]#011train-rmse:1879.93237#011validation-rmse:2102.86670\u001b[0m\n",
      "\u001b[34m[29]#011train-rmse:1877.14246#011validation-rmse:2103.46265\u001b[0m\n",
      "\u001b[34m[30]#011train-rmse:1870.31397#011validation-rmse:2098.17725\u001b[0m\n",
      "\u001b[34m[31]#011train-rmse:1861.69006#011validation-rmse:2089.49121\u001b[0m\n",
      "\u001b[34m[32]#011train-rmse:1857.75989#011validation-rmse:2083.82080\u001b[0m\n",
      "\u001b[34m[33]#011train-rmse:1850.52563#011validation-rmse:2087.51025\u001b[0m\n",
      "\u001b[34m[34]#011train-rmse:1846.38025#011validation-rmse:2091.16992\u001b[0m\n",
      "\u001b[34m[35]#011train-rmse:1842.82776#011validation-rmse:2089.57422\u001b[0m\n",
      "\u001b[34m[36]#011train-rmse:1839.26965#011validation-rmse:2088.33106\u001b[0m\n",
      "\u001b[34m[37]#011train-rmse:1837.26477#011validation-rmse:2087.70972\u001b[0m\n",
      "\u001b[34m[38]#011train-rmse:1833.72778#011validation-rmse:2087.46045\u001b[0m\n",
      "\u001b[34m[39]#011train-rmse:1823.97290#011validation-rmse:2083.32715\u001b[0m\n",
      "\u001b[34m[40]#011train-rmse:1818.71765#011validation-rmse:2076.42529\u001b[0m\n",
      "\u001b[34m[41]#011train-rmse:1812.09277#011validation-rmse:2072.18140\u001b[0m\n",
      "\u001b[34m[42]#011train-rmse:1807.31348#011validation-rmse:2072.13208\u001b[0m\n",
      "\u001b[34m[43]#011train-rmse:1805.28857#011validation-rmse:2069.98755\u001b[0m\n",
      "\u001b[34m[44]#011train-rmse:1803.84924#011validation-rmse:2070.60400\u001b[0m\n",
      "\u001b[34m[45]#011train-rmse:1799.72571#011validation-rmse:2068.95532\u001b[0m\n",
      "\u001b[34m[46]#011train-rmse:1794.96765#011validation-rmse:2065.22217\u001b[0m\n",
      "\u001b[34m[47]#011train-rmse:1790.52710#011validation-rmse:2063.42310\u001b[0m\n",
      "\u001b[34m[48]#011train-rmse:1788.41016#011validation-rmse:2062.56616\u001b[0m\n",
      "\u001b[34m[49]#011train-rmse:1783.84253#011validation-rmse:2060.04883\u001b[0m\n",
      "\u001b[34m[50]#011train-rmse:1778.72388#011validation-rmse:2056.10034\u001b[0m\n",
      "\u001b[34m[51]#011train-rmse:1776.37634#011validation-rmse:2055.38306\u001b[0m\n",
      "\u001b[34m[52]#011train-rmse:1776.13013#011validation-rmse:2055.65161\u001b[0m\n",
      "\u001b[34m[53]#011train-rmse:1773.70447#011validation-rmse:2053.75488\u001b[0m\n",
      "\u001b[34m[54]#011train-rmse:1773.46313#011validation-rmse:2054.03003\u001b[0m\n",
      "\u001b[34m[55]#011train-rmse:1767.47729#011validation-rmse:2050.88086\u001b[0m\n",
      "\u001b[34m[56]#011train-rmse:1764.34851#011validation-rmse:2053.20703\u001b[0m\n",
      "\u001b[34m[57]#011train-rmse:1759.39307#011validation-rmse:2048.60718\u001b[0m\n",
      "\u001b[34m[58]#011train-rmse:1755.64868#011validation-rmse:2048.28931\u001b[0m\n",
      "\u001b[34m[59]#011train-rmse:1752.55786#011validation-rmse:2044.33765\u001b[0m\n",
      "\u001b[34m[60]#011train-rmse:1745.93140#011validation-rmse:2031.83264\u001b[0m\n",
      "\u001b[34m[61]#011train-rmse:1742.81091#011validation-rmse:2030.17273\u001b[0m\n",
      "\u001b[34m[62]#011train-rmse:1737.22852#011validation-rmse:2029.73181\u001b[0m\n",
      "\u001b[34m[63]#011train-rmse:1733.37891#011validation-rmse:2025.15649\u001b[0m\n",
      "\u001b[34m[64]#011train-rmse:1731.30322#011validation-rmse:2022.79065\u001b[0m\n",
      "\u001b[34m[65]#011train-rmse:1727.35962#011validation-rmse:2020.50623\u001b[0m\n",
      "\u001b[34m[66]#011train-rmse:1726.81335#011validation-rmse:2020.82764\u001b[0m\n",
      "\u001b[34m[67]#011train-rmse:1722.11877#011validation-rmse:2019.70374\u001b[0m\n",
      "\u001b[34m[68]#011train-rmse:1717.68066#011validation-rmse:2019.62769\u001b[0m\n",
      "\u001b[34m[69]#011train-rmse:1715.73096#011validation-rmse:2020.27148\u001b[0m\n",
      "\u001b[34m[70]#011train-rmse:1715.04981#011validation-rmse:2020.41199\u001b[0m\n",
      "\u001b[34m[71]#011train-rmse:1712.77930#011validation-rmse:2017.90759\u001b[0m\n",
      "\u001b[34m[72]#011train-rmse:1709.50171#011validation-rmse:2016.94409\u001b[0m\n",
      "\u001b[34m[73]#011train-rmse:1703.59985#011validation-rmse:2011.47522\u001b[0m\n",
      "\u001b[34m[74]#011train-rmse:1701.69519#011validation-rmse:2010.39062\u001b[0m\n",
      "\u001b[34m[75]#011train-rmse:1699.62061#011validation-rmse:2010.82165\u001b[0m\n",
      "\u001b[34m[76]#011train-rmse:1699.47778#011validation-rmse:2010.97949\u001b[0m\n",
      "\u001b[34m[77]#011train-rmse:1697.91235#011validation-rmse:2010.82361\u001b[0m\n",
      "\u001b[34m[78]#011train-rmse:1695.18848#011validation-rmse:2011.17688\u001b[0m\n",
      "\u001b[34m[79]#011train-rmse:1689.10315#011validation-rmse:2005.38440\u001b[0m\n",
      "\u001b[34m[80]#011train-rmse:1687.48779#011validation-rmse:2004.67481\u001b[0m\n",
      "\u001b[34m[81]#011train-rmse:1685.75549#011validation-rmse:2005.17969\u001b[0m\n",
      "\u001b[34m[82]#011train-rmse:1683.77075#011validation-rmse:2002.36401\u001b[0m\n",
      "\u001b[34m[83]#011train-rmse:1682.39612#011validation-rmse:2003.52319\u001b[0m\n",
      "\u001b[34m[84]#011train-rmse:1679.92065#011validation-rmse:2003.15332\u001b[0m\n",
      "\u001b[34m[85]#011train-rmse:1676.61780#011validation-rmse:1996.42285\u001b[0m\n",
      "\u001b[34m[86]#011train-rmse:1674.96838#011validation-rmse:1996.71130\u001b[0m\n",
      "\u001b[34m[87]#011train-rmse:1674.20606#011validation-rmse:1995.35864\u001b[0m\n",
      "\u001b[34m[88]#011train-rmse:1673.05847#011validation-rmse:1994.11011\u001b[0m\n",
      "\u001b[34m[89]#011train-rmse:1671.33972#011validation-rmse:1992.17065\u001b[0m\n",
      "\u001b[34m[90]#011train-rmse:1667.69006#011validation-rmse:1992.82910\u001b[0m\n",
      "\u001b[34m[91]#011train-rmse:1663.99036#011validation-rmse:1988.50049\u001b[0m\n",
      "\u001b[34m[92]#011train-rmse:1660.41248#011validation-rmse:1989.10156\u001b[0m\n",
      "\u001b[34m[93]#011train-rmse:1656.36670#011validation-rmse:1987.84460\u001b[0m\n",
      "\u001b[34m[94]#011train-rmse:1654.83423#011validation-rmse:1987.47595\u001b[0m\n",
      "\u001b[34m[95]#011train-rmse:1653.80945#011validation-rmse:1985.74182\u001b[0m\n",
      "\u001b[34m[96]#011train-rmse:1653.11108#011validation-rmse:1985.23584\u001b[0m\n",
      "\u001b[34m[97]#011train-rmse:1650.24561#011validation-rmse:1984.61694\u001b[0m\n",
      "\u001b[34m[98]#011train-rmse:1649.32715#011validation-rmse:1985.34424\u001b[0m\n",
      "\u001b[34m[99]#011train-rmse:1648.86938#011validation-rmse:1985.42395\u001b[0m\n",
      "\u001b[34m[100]#011train-rmse:1647.73144#011validation-rmse:1983.98157\u001b[0m\n",
      "\u001b[34m[101]#011train-rmse:1645.41919#011validation-rmse:1984.05212\u001b[0m\n",
      "\u001b[34m[102]#011train-rmse:1642.14636#011validation-rmse:1980.47864\u001b[0m\n",
      "\u001b[34m[103]#011train-rmse:1639.06885#011validation-rmse:1978.03149\u001b[0m\n",
      "\u001b[34m[104]#011train-rmse:1637.79932#011validation-rmse:1977.21948\u001b[0m\n",
      "\u001b[34m[105]#011train-rmse:1635.80481#011validation-rmse:1972.93054\u001b[0m\n",
      "\u001b[34m[106]#011train-rmse:1634.53919#011validation-rmse:1973.09631\u001b[0m\n",
      "\u001b[34m[107]#011train-rmse:1633.14160#011validation-rmse:1973.35584\u001b[0m\n",
      "\u001b[34m[108]#011train-rmse:1631.82593#011validation-rmse:1973.14124\u001b[0m\n",
      "\u001b[34m[109]#011train-rmse:1628.42419#011validation-rmse:1972.50854\u001b[0m\n",
      "\u001b[34m[110]#011train-rmse:1625.69165#011validation-rmse:1971.89160\u001b[0m\n",
      "\u001b[34m[111]#011train-rmse:1623.68164#011validation-rmse:1970.79358\u001b[0m\n",
      "\u001b[34m[112]#011train-rmse:1621.23315#011validation-rmse:1973.37122\u001b[0m\n",
      "\u001b[34m[113]#011train-rmse:1620.84009#011validation-rmse:1973.38452\u001b[0m\n",
      "\u001b[34m[114]#011train-rmse:1618.94470#011validation-rmse:1972.04456\u001b[0m\n",
      "\u001b[34m[115]#011train-rmse:1616.86633#011validation-rmse:1972.00586\u001b[0m\n",
      "\u001b[34m[116]#011train-rmse:1613.71631#011validation-rmse:1966.56409\u001b[0m\n",
      "\u001b[34m[117]#011train-rmse:1612.78040#011validation-rmse:1966.66785\u001b[0m\n",
      "\u001b[34m[118]#011train-rmse:1611.80041#011validation-rmse:1966.33997\u001b[0m\n",
      "\u001b[34m[119]#011train-rmse:1609.76538#011validation-rmse:1964.83557\u001b[0m\n",
      "\u001b[34m[120]#011train-rmse:1609.68640#011validation-rmse:1964.95520\u001b[0m\n",
      "\u001b[34m[121]#011train-rmse:1605.77649#011validation-rmse:1967.04114\u001b[0m\n",
      "\u001b[34m[122]#011train-rmse:1604.44812#011validation-rmse:1967.99231\u001b[0m\n",
      "\u001b[34m[123]#011train-rmse:1603.28003#011validation-rmse:1967.32812\u001b[0m\n",
      "\u001b[34m[124]#011train-rmse:1602.73852#011validation-rmse:1967.74085\u001b[0m\n",
      "\u001b[34m[125]#011train-rmse:1602.20410#011validation-rmse:1967.96655\u001b[0m\n",
      "\u001b[34m[126]#011train-rmse:1599.66760#011validation-rmse:1968.63123\u001b[0m\n",
      "\u001b[34m[127]#011train-rmse:1597.59009#011validation-rmse:1967.85584\u001b[0m\n",
      "\u001b[34m[128]#011train-rmse:1595.58826#011validation-rmse:1967.87476\u001b[0m\n",
      "\u001b[34m[129]#011train-rmse:1595.44873#011validation-rmse:1968.16980\u001b[0m\n",
      "\n",
      "2024-08-26 07:49:22 Uploading - Uploading generated training model\n",
      "2024-08-26 07:49:22 Completed - Training job completed\n",
      "Training seconds: 127\n",
      "Billable seconds: 127\n"
     ]
    }
   ],
   "source": [
    "# Model training with data_channels. At this step training jobs will be created.\n",
    "xgb_model.fit(data_channels)\n",
    "\n",
    "# Let's check whether training job is created or not from AWS console.\n",
    "\n",
    "# Let's check whether the output(model.tar.gz) occurs when training job is completed."
   ]
  },
  {
   "cell_type": "code",
   "execution_count": 41,
   "metadata": {
    "scrolled": false
   },
   "outputs": [
    {
     "data": {
      "text/html": [
       "<div>\n",
       "<style scoped>\n",
       "    .dataframe tbody tr th:only-of-type {\n",
       "        vertical-align: middle;\n",
       "    }\n",
       "\n",
       "    .dataframe tbody tr th {\n",
       "        vertical-align: top;\n",
       "    }\n",
       "\n",
       "    .dataframe thead th {\n",
       "        text-align: right;\n",
       "    }\n",
       "</style>\n",
       "<table border=\"1\" class=\"dataframe\">\n",
       "  <thead>\n",
       "    <tr style=\"text-align: right;\">\n",
       "      <th></th>\n",
       "      <th>timestamp</th>\n",
       "      <th>message</th>\n",
       "    </tr>\n",
       "  </thead>\n",
       "  <tbody>\n",
       "    <tr>\n",
       "      <th>0</th>\n",
       "      <td>1724658533790</td>\n",
       "      <td>[2024-08-26 07:48:52.047 ip-10-0-97-236.ec2.in...</td>\n",
       "    </tr>\n",
       "    <tr>\n",
       "      <th>1</th>\n",
       "      <td>1724658533790</td>\n",
       "      <td>[2024-08-26:07:48:52:INFO] Imported framework ...</td>\n",
       "    </tr>\n",
       "    <tr>\n",
       "      <th>2</th>\n",
       "      <td>1724658533790</td>\n",
       "      <td>[2024-08-26:07:48:52:INFO] Failed to parse hyp...</td>\n",
       "    </tr>\n",
       "    <tr>\n",
       "      <th>3</th>\n",
       "      <td>1724658533790</td>\n",
       "      <td>Returning the value itself</td>\n",
       "    </tr>\n",
       "    <tr>\n",
       "      <th>4</th>\n",
       "      <td>1724658533790</td>\n",
       "      <td>[2024-08-26:07:48:52:INFO] No GPUs detected (n...</td>\n",
       "    </tr>\n",
       "    <tr>\n",
       "      <th>5</th>\n",
       "      <td>1724658533790</td>\n",
       "      <td>[2024-08-26:07:48:52:INFO] Running XGBoost Sag...</td>\n",
       "    </tr>\n",
       "    <tr>\n",
       "      <th>6</th>\n",
       "      <td>1724658533790</td>\n",
       "      <td>[2024-08-26:07:48:52:INFO] Determined delimite...</td>\n",
       "    </tr>\n",
       "    <tr>\n",
       "      <th>7</th>\n",
       "      <td>1724658533790</td>\n",
       "      <td>[2024-08-26:07:48:52:INFO] Determined delimite...</td>\n",
       "    </tr>\n",
       "    <tr>\n",
       "      <th>8</th>\n",
       "      <td>1724658533790</td>\n",
       "      <td>[2024-08-26:07:48:52:INFO] Determined delimite...</td>\n",
       "    </tr>\n",
       "    <tr>\n",
       "      <th>9</th>\n",
       "      <td>1724658533790</td>\n",
       "      <td>[2024-08-26:07:48:52:INFO] Determined delimite...</td>\n",
       "    </tr>\n",
       "    <tr>\n",
       "      <th>10</th>\n",
       "      <td>1724658533790</td>\n",
       "      <td>[2024-08-26:07:48:52:INFO] Single node training.</td>\n",
       "    </tr>\n",
       "    <tr>\n",
       "      <th>11</th>\n",
       "      <td>1724658533790</td>\n",
       "      <td>[2024-08-26:07:48:52:INFO] Train matrix has 95...</td>\n",
       "    </tr>\n",
       "    <tr>\n",
       "      <th>12</th>\n",
       "      <td>1724658533790</td>\n",
       "      <td>[2024-08-26:07:48:52:INFO] Validation matrix h...</td>\n",
       "    </tr>\n",
       "    <tr>\n",
       "      <th>13</th>\n",
       "      <td>1724658533790</td>\n",
       "      <td>[2024-08-26 07:48:52.124 ip-10-0-97-236.ec2.in...</td>\n",
       "    </tr>\n",
       "    <tr>\n",
       "      <th>14</th>\n",
       "      <td>1724658533790</td>\n",
       "      <td>[2024-08-26 07:48:52.125 ip-10-0-97-236.ec2.in...</td>\n",
       "    </tr>\n",
       "    <tr>\n",
       "      <th>15</th>\n",
       "      <td>1724658533790</td>\n",
       "      <td>[2024-08-26 07:48:52.125 ip-10-0-97-236.ec2.in...</td>\n",
       "    </tr>\n",
       "    <tr>\n",
       "      <th>16</th>\n",
       "      <td>1724658533791</td>\n",
       "      <td>[2024-08-26 07:48:52.126 ip-10-0-97-236.ec2.in...</td>\n",
       "    </tr>\n",
       "    <tr>\n",
       "      <th>17</th>\n",
       "      <td>1724658533791</td>\n",
       "      <td>[2024-08-26 07:48:52.126 ip-10-0-97-236.ec2.in...</td>\n",
       "    </tr>\n",
       "    <tr>\n",
       "      <th>18</th>\n",
       "      <td>1724658533791</td>\n",
       "      <td>[2024-08-26:07:48:52:INFO] Debug hook created ...</td>\n",
       "    </tr>\n",
       "    <tr>\n",
       "      <th>19</th>\n",
       "      <td>1724658533791</td>\n",
       "      <td>[0]#011train-rmse:13806.99219#011validation-rm...</td>\n",
       "    </tr>\n",
       "    <tr>\n",
       "      <th>20</th>\n",
       "      <td>1724658533791</td>\n",
       "      <td>[2024-08-26 07:48:52.228 ip-10-0-97-236.ec2.in...</td>\n",
       "    </tr>\n",
       "    <tr>\n",
       "      <th>21</th>\n",
       "      <td>1724658533791</td>\n",
       "      <td>[2024-08-26 07:48:52.230 ip-10-0-97-236.ec2.in...</td>\n",
       "    </tr>\n",
       "    <tr>\n",
       "      <th>22</th>\n",
       "      <td>1724658533791</td>\n",
       "      <td>[1]#011train-rmse:9944.57031#011validation-rms...</td>\n",
       "    </tr>\n",
       "    <tr>\n",
       "      <th>23</th>\n",
       "      <td>1724658533791</td>\n",
       "      <td>[2]#011train-rmse:7250.11963#011validation-rms...</td>\n",
       "    </tr>\n",
       "    <tr>\n",
       "      <th>24</th>\n",
       "      <td>1724658533791</td>\n",
       "      <td>[3]#011train-rmse:5439.71387#011validation-rms...</td>\n",
       "    </tr>\n",
       "    <tr>\n",
       "      <th>25</th>\n",
       "      <td>1724658533791</td>\n",
       "      <td>[4]#011train-rmse:4245.35889#011validation-rms...</td>\n",
       "    </tr>\n",
       "    <tr>\n",
       "      <th>26</th>\n",
       "      <td>1724658533791</td>\n",
       "      <td>[5]#011train-rmse:3427.65405#011validation-rms...</td>\n",
       "    </tr>\n",
       "    <tr>\n",
       "      <th>27</th>\n",
       "      <td>1724658533791</td>\n",
       "      <td>[6]#011train-rmse:2933.21216#011validation-rms...</td>\n",
       "    </tr>\n",
       "    <tr>\n",
       "      <th>28</th>\n",
       "      <td>1724658533791</td>\n",
       "      <td>[7]#011train-rmse:2625.66382#011validation-rms...</td>\n",
       "    </tr>\n",
       "    <tr>\n",
       "      <th>29</th>\n",
       "      <td>1724658533791</td>\n",
       "      <td>[8]#011train-rmse:2453.98267#011validation-rms...</td>\n",
       "    </tr>\n",
       "  </tbody>\n",
       "</table>\n",
       "</div>"
      ],
      "text/plain": [
       "        timestamp                                            message\n",
       "0   1724658533790  [2024-08-26 07:48:52.047 ip-10-0-97-236.ec2.in...\n",
       "1   1724658533790  [2024-08-26:07:48:52:INFO] Imported framework ...\n",
       "2   1724658533790  [2024-08-26:07:48:52:INFO] Failed to parse hyp...\n",
       "3   1724658533790                         Returning the value itself\n",
       "4   1724658533790  [2024-08-26:07:48:52:INFO] No GPUs detected (n...\n",
       "5   1724658533790  [2024-08-26:07:48:52:INFO] Running XGBoost Sag...\n",
       "6   1724658533790  [2024-08-26:07:48:52:INFO] Determined delimite...\n",
       "7   1724658533790  [2024-08-26:07:48:52:INFO] Determined delimite...\n",
       "8   1724658533790  [2024-08-26:07:48:52:INFO] Determined delimite...\n",
       "9   1724658533790  [2024-08-26:07:48:52:INFO] Determined delimite...\n",
       "10  1724658533790   [2024-08-26:07:48:52:INFO] Single node training.\n",
       "11  1724658533790  [2024-08-26:07:48:52:INFO] Train matrix has 95...\n",
       "12  1724658533790  [2024-08-26:07:48:52:INFO] Validation matrix h...\n",
       "13  1724658533790  [2024-08-26 07:48:52.124 ip-10-0-97-236.ec2.in...\n",
       "14  1724658533790  [2024-08-26 07:48:52.125 ip-10-0-97-236.ec2.in...\n",
       "15  1724658533790  [2024-08-26 07:48:52.125 ip-10-0-97-236.ec2.in...\n",
       "16  1724658533791  [2024-08-26 07:48:52.126 ip-10-0-97-236.ec2.in...\n",
       "17  1724658533791  [2024-08-26 07:48:52.126 ip-10-0-97-236.ec2.in...\n",
       "18  1724658533791  [2024-08-26:07:48:52:INFO] Debug hook created ...\n",
       "19  1724658533791  [0]#011train-rmse:13806.99219#011validation-rm...\n",
       "20  1724658533791  [2024-08-26 07:48:52.228 ip-10-0-97-236.ec2.in...\n",
       "21  1724658533791  [2024-08-26 07:48:52.230 ip-10-0-97-236.ec2.in...\n",
       "22  1724658533791  [1]#011train-rmse:9944.57031#011validation-rms...\n",
       "23  1724658533791  [2]#011train-rmse:7250.11963#011validation-rms...\n",
       "24  1724658533791  [3]#011train-rmse:5439.71387#011validation-rms...\n",
       "25  1724658533791  [4]#011train-rmse:4245.35889#011validation-rms...\n",
       "26  1724658533791  [5]#011train-rmse:3427.65405#011validation-rms...\n",
       "27  1724658533791  [6]#011train-rmse:2933.21216#011validation-rms...\n",
       "28  1724658533791  [7]#011train-rmse:2625.66382#011validation-rms...\n",
       "29  1724658533791  [8]#011train-rmse:2453.98267#011validation-rms..."
      ]
     },
     "execution_count": 41,
     "metadata": {},
     "output_type": "execute_result"
    }
   ],
   "source": [
    "# to get log-events-viewer-result.csv file,\n",
    "# after completing the training job click on training job name on AWS console\n",
    "# and view logs\n",
    "model_rmse = pd.read_csv('log-events-viewer-result.csv', on_bad_lines='skip')\n",
    "model_rmse.head(30)"
   ]
  },
  {
   "cell_type": "code",
   "execution_count": 42,
   "metadata": {},
   "outputs": [
    {
     "data": {
      "text/html": [
       "<div>\n",
       "<style scoped>\n",
       "    .dataframe tbody tr th:only-of-type {\n",
       "        vertical-align: middle;\n",
       "    }\n",
       "\n",
       "    .dataframe tbody tr th {\n",
       "        vertical-align: top;\n",
       "    }\n",
       "\n",
       "    .dataframe thead th {\n",
       "        text-align: right;\n",
       "    }\n",
       "</style>\n",
       "<table border=\"1\" class=\"dataframe\">\n",
       "  <thead>\n",
       "    <tr style=\"text-align: right;\">\n",
       "      <th></th>\n",
       "      <th>train_rmse</th>\n",
       "      <th>validation-rmse</th>\n",
       "    </tr>\n",
       "  </thead>\n",
       "  <tbody>\n",
       "    <tr>\n",
       "      <th>19</th>\n",
       "      <td>13806.9</td>\n",
       "      <td>13943.9</td>\n",
       "    </tr>\n",
       "    <tr>\n",
       "      <th>20</th>\n",
       "      <td>NaN</td>\n",
       "      <td>NaN</td>\n",
       "    </tr>\n",
       "    <tr>\n",
       "      <th>21</th>\n",
       "      <td>NaN</td>\n",
       "      <td>NaN</td>\n",
       "    </tr>\n",
       "    <tr>\n",
       "      <th>22</th>\n",
       "      <td>9944.5</td>\n",
       "      <td>10122.9</td>\n",
       "    </tr>\n",
       "    <tr>\n",
       "      <th>23</th>\n",
       "      <td>7250.1</td>\n",
       "      <td>7435.1</td>\n",
       "    </tr>\n",
       "    <tr>\n",
       "      <th>...</th>\n",
       "      <td>...</td>\n",
       "      <td>...</td>\n",
       "    </tr>\n",
       "    <tr>\n",
       "      <th>146</th>\n",
       "      <td>1602.2</td>\n",
       "      <td>1967.9</td>\n",
       "    </tr>\n",
       "    <tr>\n",
       "      <th>147</th>\n",
       "      <td>1599.6</td>\n",
       "      <td>1968.6</td>\n",
       "    </tr>\n",
       "    <tr>\n",
       "      <th>148</th>\n",
       "      <td>1597.5</td>\n",
       "      <td>1967.8</td>\n",
       "    </tr>\n",
       "    <tr>\n",
       "      <th>149</th>\n",
       "      <td>1595.5</td>\n",
       "      <td>1967.8</td>\n",
       "    </tr>\n",
       "    <tr>\n",
       "      <th>150</th>\n",
       "      <td>1595.4</td>\n",
       "      <td>1968.1</td>\n",
       "    </tr>\n",
       "  </tbody>\n",
       "</table>\n",
       "<p>132 rows × 2 columns</p>\n",
       "</div>"
      ],
      "text/plain": [
       "     train_rmse  validation-rmse\n",
       "19      13806.9          13943.9\n",
       "20          NaN              NaN\n",
       "21          NaN              NaN\n",
       "22       9944.5          10122.9\n",
       "23       7250.1           7435.1\n",
       "..          ...              ...\n",
       "146      1602.2           1967.9\n",
       "147      1599.6           1968.6\n",
       "148      1597.5           1967.8\n",
       "149      1595.5           1967.8\n",
       "150      1595.4           1968.1\n",
       "\n",
       "[132 rows x 2 columns]"
      ]
     },
     "execution_count": 42,
     "metadata": {},
     "output_type": "execute_result"
    }
   ],
   "source": [
    "model_rmse = model_rmse.iloc[19:].message.str.extract(r'.+[:](\\d+\\.\\d).+[:](\\d+\\.\\d)').astype('float')\n",
    "model_rmse.rename(columns={0: \"train_rmse\", 1: \"validation-rmse\"}, inplace=True)\n",
    "model_rmse"
   ]
  },
  {
   "cell_type": "code",
   "execution_count": 43,
   "metadata": {},
   "outputs": [
    {
     "data": {
      "text/html": [
       "<div>\n",
       "<style scoped>\n",
       "    .dataframe tbody tr th:only-of-type {\n",
       "        vertical-align: middle;\n",
       "    }\n",
       "\n",
       "    .dataframe tbody tr th {\n",
       "        vertical-align: top;\n",
       "    }\n",
       "\n",
       "    .dataframe thead th {\n",
       "        text-align: right;\n",
       "    }\n",
       "</style>\n",
       "<table border=\"1\" class=\"dataframe\">\n",
       "  <thead>\n",
       "    <tr style=\"text-align: right;\">\n",
       "      <th></th>\n",
       "      <th>train_rmse</th>\n",
       "      <th>validation-rmse</th>\n",
       "    </tr>\n",
       "  </thead>\n",
       "  <tbody>\n",
       "    <tr>\n",
       "      <th>19</th>\n",
       "      <td>13806.9</td>\n",
       "      <td>13943.9</td>\n",
       "    </tr>\n",
       "    <tr>\n",
       "      <th>22</th>\n",
       "      <td>9944.5</td>\n",
       "      <td>10122.9</td>\n",
       "    </tr>\n",
       "    <tr>\n",
       "      <th>23</th>\n",
       "      <td>7250.1</td>\n",
       "      <td>7435.1</td>\n",
       "    </tr>\n",
       "    <tr>\n",
       "      <th>24</th>\n",
       "      <td>5439.7</td>\n",
       "      <td>5640.3</td>\n",
       "    </tr>\n",
       "    <tr>\n",
       "      <th>25</th>\n",
       "      <td>4245.3</td>\n",
       "      <td>4468.4</td>\n",
       "    </tr>\n",
       "    <tr>\n",
       "      <th>26</th>\n",
       "      <td>3427.6</td>\n",
       "      <td>3656.3</td>\n",
       "    </tr>\n",
       "    <tr>\n",
       "      <th>27</th>\n",
       "      <td>2933.2</td>\n",
       "      <td>3157.5</td>\n",
       "    </tr>\n",
       "    <tr>\n",
       "      <th>28</th>\n",
       "      <td>2625.6</td>\n",
       "      <td>2857.5</td>\n",
       "    </tr>\n",
       "    <tr>\n",
       "      <th>29</th>\n",
       "      <td>2453.9</td>\n",
       "      <td>2675.9</td>\n",
       "    </tr>\n",
       "    <tr>\n",
       "      <th>30</th>\n",
       "      <td>2343.8</td>\n",
       "      <td>2566.3</td>\n",
       "    </tr>\n",
       "  </tbody>\n",
       "</table>\n",
       "</div>"
      ],
      "text/plain": [
       "    train_rmse  validation-rmse\n",
       "19     13806.9          13943.9\n",
       "22      9944.5          10122.9\n",
       "23      7250.1           7435.1\n",
       "24      5439.7           5640.3\n",
       "25      4245.3           4468.4\n",
       "26      3427.6           3656.3\n",
       "27      2933.2           3157.5\n",
       "28      2625.6           2857.5\n",
       "29      2453.9           2675.9\n",
       "30      2343.8           2566.3"
      ]
     },
     "execution_count": 43,
     "metadata": {},
     "output_type": "execute_result"
    }
   ],
   "source": [
    "model_rmse.dropna(inplace=True)\n",
    "model_rmse.head(10)"
   ]
  },
  {
   "cell_type": "code",
   "execution_count": 44,
   "metadata": {},
   "outputs": [
    {
     "name": "stderr",
     "output_type": "stream",
     "text": [
      "INFO:matplotlib.font_manager:generated new fontManager\n"
     ]
    },
    {
     "data": {
      "image/png": "[encoded data removed]",
      "text/plain": [
       "<Figure size 640x480 with 1 Axes>"
      ]
     },
     "metadata": {},
     "output_type": "display_data"
    }
   ],
   "source": [
    "model_rmse.plot(kind='line');"
   ]
  },
  {
   "cell_type": "markdown",
   "metadata": {},
   "source": [
    "# Create Endpoint"
   ]
  },
  {
   "cell_type": "code",
   "execution_count": 45,
   "metadata": {},
   "outputs": [
    {
     "name": "stderr",
     "output_type": "stream",
     "text": [
      "INFO:sagemaker:Creating model with name: sagemaker-xgboost-2024-08-26-08-21-09-886\n",
      "INFO:sagemaker:Creating endpoint-config with name sagemaker-xgboost-2024-08-26-08-21-09-886\n",
      "INFO:sagemaker:Creating endpoint with name sagemaker-xgboost-2024-08-26-08-21-09-886\n"
     ]
    },
    {
     "name": "stdout",
     "output_type": "stream",
     "text": [
      "-------!"
     ]
    }
   ],
   "source": [
    "# CSVSerializer : Serialize data of various formats to a CSV-formatted string\n",
    "              \n",
    "from sagemaker.serializers import CSVSerializer\n",
    "\n",
    "# Deploy the trained model into an endpoint\n",
    "# At this step an endpoint will be created\n",
    "predictor = xgb_model.deploy(initial_instance_count=1,  # the number of EC2 for endpoint\n",
    "                             instance_type='ml.m5.xlarge',  # type of EC2\n",
    "                            serializer = CSVSerializer())  # data format for prediction\n",
    "\n",
    "# Let's check whether endpoint is created."
   ]
  },
  {
   "cell_type": "code",
   "execution_count": 46,
   "metadata": {},
   "outputs": [
    {
     "data": {
      "text/plain": [
       "'sagemaker-xgboost-2024-08-26-08-21-09-886'"
      ]
     },
     "execution_count": 46,
     "metadata": {},
     "output_type": "execute_result"
    }
   ],
   "source": [
    "# The name of the  endpoint we created\n",
    "predictor.endpoint_name"
   ]
  },
  {
   "cell_type": "markdown",
   "metadata": {},
   "source": [
    "# Prepare the test data"
   ]
  },
  {
   "cell_type": "code",
   "execution_count": 47,
   "metadata": {},
   "outputs": [
    {
     "data": {
      "text/html": [
       "<div>\n",
       "<style scoped>\n",
       "    .dataframe tbody tr th:only-of-type {\n",
       "        vertical-align: middle;\n",
       "    }\n",
       "\n",
       "    .dataframe tbody tr th {\n",
       "        vertical-align: top;\n",
       "    }\n",
       "\n",
       "    .dataframe thead th {\n",
       "        text-align: right;\n",
       "    }\n",
       "</style>\n",
       "<table border=\"1\" class=\"dataframe\">\n",
       "  <thead>\n",
       "    <tr style=\"text-align: right;\">\n",
       "      <th></th>\n",
       "      <th>price</th>\n",
       "      <th>age</th>\n",
       "      <th>hp_kW</th>\n",
       "      <th>km</th>\n",
       "      <th>Gearing_Type</th>\n",
       "      <th>make_model</th>\n",
       "    </tr>\n",
       "  </thead>\n",
       "  <tbody>\n",
       "    <tr>\n",
       "      <th>0</th>\n",
       "      <td>14500</td>\n",
       "      <td>2.0</td>\n",
       "      <td>141.0</td>\n",
       "      <td>80000.0</td>\n",
       "      <td>Automatic</td>\n",
       "      <td>Audi A1</td>\n",
       "    </tr>\n",
       "    <tr>\n",
       "      <th>1</th>\n",
       "      <td>16790</td>\n",
       "      <td>3.0</td>\n",
       "      <td>66.0</td>\n",
       "      <td>16200.0</td>\n",
       "      <td>Automatic</td>\n",
       "      <td>Audi A1</td>\n",
       "    </tr>\n",
       "    <tr>\n",
       "      <th>2</th>\n",
       "      <td>15090</td>\n",
       "      <td>3.0</td>\n",
       "      <td>85.0</td>\n",
       "      <td>63668.0</td>\n",
       "      <td>Automatic</td>\n",
       "      <td>Audi A1</td>\n",
       "    </tr>\n",
       "    <tr>\n",
       "      <th>3</th>\n",
       "      <td>17990</td>\n",
       "      <td>2.0</td>\n",
       "      <td>70.0</td>\n",
       "      <td>16103.0</td>\n",
       "      <td>Automatic</td>\n",
       "      <td>Audi A1</td>\n",
       "    </tr>\n",
       "    <tr>\n",
       "      <th>4</th>\n",
       "      <td>17990</td>\n",
       "      <td>3.0</td>\n",
       "      <td>92.0</td>\n",
       "      <td>26415.0</td>\n",
       "      <td>Automatic</td>\n",
       "      <td>Audi A1</td>\n",
       "    </tr>\n",
       "  </tbody>\n",
       "</table>\n",
       "</div>"
      ],
      "text/plain": [
       "   price  age  hp_kW       km Gearing_Type make_model\n",
       "0  14500  2.0  141.0  80000.0    Automatic    Audi A1\n",
       "1  16790  3.0   66.0  16200.0    Automatic    Audi A1\n",
       "2  15090  3.0   85.0  63668.0    Automatic    Audi A1\n",
       "3  17990  2.0   70.0  16103.0    Automatic    Audi A1\n",
       "4  17990  3.0   92.0  26415.0    Automatic    Audi A1"
      ]
     },
     "execution_count": 47,
     "metadata": {},
     "output_type": "execute_result"
    }
   ],
   "source": [
    "test_data.head()"
   ]
  },
  {
   "cell_type": "code",
   "execution_count": 48,
   "metadata": {},
   "outputs": [],
   "source": [
    "X = test_data.drop([\"price\"], axis = 1)\n",
    "y = test_data['price']"
   ]
  },
  {
   "cell_type": "code",
   "execution_count": 49,
   "metadata": {},
   "outputs": [],
   "source": [
    "test=column_trans.transform(X)"
   ]
  },
  {
   "cell_type": "code",
   "execution_count": 50,
   "metadata": {},
   "outputs": [
    {
     "data": {
      "text/html": [
       "<div>\n",
       "<style scoped>\n",
       "    .dataframe tbody tr th:only-of-type {\n",
       "        vertical-align: middle;\n",
       "    }\n",
       "\n",
       "    .dataframe tbody tr th {\n",
       "        vertical-align: top;\n",
       "    }\n",
       "\n",
       "    .dataframe thead th {\n",
       "        text-align: right;\n",
       "    }\n",
       "</style>\n",
       "<table border=\"1\" class=\"dataframe\">\n",
       "  <thead>\n",
       "    <tr style=\"text-align: right;\">\n",
       "      <th></th>\n",
       "      <th>Gearing_Type</th>\n",
       "      <th>make_model</th>\n",
       "      <th>age</th>\n",
       "      <th>hp_kW</th>\n",
       "      <th>km</th>\n",
       "    </tr>\n",
       "  </thead>\n",
       "  <tbody>\n",
       "    <tr>\n",
       "      <th>0</th>\n",
       "      <td>0.0</td>\n",
       "      <td>0.0</td>\n",
       "      <td>2.0</td>\n",
       "      <td>141.0</td>\n",
       "      <td>80000.0</td>\n",
       "    </tr>\n",
       "    <tr>\n",
       "      <th>1</th>\n",
       "      <td>0.0</td>\n",
       "      <td>0.0</td>\n",
       "      <td>3.0</td>\n",
       "      <td>66.0</td>\n",
       "      <td>16200.0</td>\n",
       "    </tr>\n",
       "    <tr>\n",
       "      <th>2</th>\n",
       "      <td>0.0</td>\n",
       "      <td>0.0</td>\n",
       "      <td>3.0</td>\n",
       "      <td>85.0</td>\n",
       "      <td>63668.0</td>\n",
       "    </tr>\n",
       "    <tr>\n",
       "      <th>3</th>\n",
       "      <td>0.0</td>\n",
       "      <td>0.0</td>\n",
       "      <td>2.0</td>\n",
       "      <td>70.0</td>\n",
       "      <td>16103.0</td>\n",
       "    </tr>\n",
       "    <tr>\n",
       "      <th>4</th>\n",
       "      <td>0.0</td>\n",
       "      <td>0.0</td>\n",
       "      <td>3.0</td>\n",
       "      <td>92.0</td>\n",
       "      <td>26415.0</td>\n",
       "    </tr>\n",
       "  </tbody>\n",
       "</table>\n",
       "</div>"
      ],
      "text/plain": [
       "   Gearing_Type  make_model  age  hp_kW       km\n",
       "0           0.0         0.0  2.0  141.0  80000.0\n",
       "1           0.0         0.0  3.0   66.0  16200.0\n",
       "2           0.0         0.0  3.0   85.0  63668.0\n",
       "3           0.0         0.0  2.0   70.0  16103.0\n",
       "4           0.0         0.0  3.0   92.0  26415.0"
      ]
     },
     "execution_count": 50,
     "metadata": {},
     "output_type": "execute_result"
    }
   ],
   "source": [
    "test.head()"
   ]
  },
  {
   "cell_type": "code",
   "execution_count": 51,
   "metadata": {},
   "outputs": [
    {
     "data": {
      "text/plain": [
       "(3183, 5)"
      ]
     },
     "execution_count": 51,
     "metadata": {},
     "output_type": "execute_result"
    }
   ],
   "source": [
    "test.shape"
   ]
  },
  {
   "cell_type": "code",
   "execution_count": 52,
   "metadata": {},
   "outputs": [],
   "source": [
    "test.to_csv('test.csv', index=False, header=False)"
   ]
  },
  {
   "cell_type": "markdown",
   "metadata": {},
   "source": [
    "# Prediction using predictor (Method-1)"
   ]
  },
  {
   "cell_type": "code",
   "execution_count": 53,
   "metadata": {},
   "outputs": [],
   "source": [
    "results = predictor.predict(test.to_numpy())"
   ]
  },
  {
   "cell_type": "code",
   "execution_count": 55,
   "metadata": {},
   "outputs": [],
   "source": [
    "# results"
   ]
  },
  {
   "cell_type": "code",
   "execution_count": 56,
   "metadata": {},
   "outputs": [],
   "source": [
    "results = np.fromstring(results, sep='\\n')   #sep='\\n' or sep=','"
   ]
  },
  {
   "cell_type": "code",
   "execution_count": 57,
   "metadata": {},
   "outputs": [
    {
     "data": {
      "text/plain": [
       "array([15970.21582031, 15887.58984375, 16116.35449219, ...,\n",
       "       35987.32421875, 34214.22265625, 42065.0078125 ])"
      ]
     },
     "execution_count": 57,
     "metadata": {},
     "output_type": "execute_result"
    }
   ],
   "source": [
    "results"
   ]
  },
  {
   "cell_type": "code",
   "execution_count": 58,
   "metadata": {},
   "outputs": [
    {
     "name": "stdout",
     "output_type": "stream",
     "text": [
      " r2_score: 0.9226945994208223 \n",
      " mae: 1257.1303233854658 \n",
      " mse: 4358154.293919976 \n",
      " rmse: 2087.6192885485552\n"
     ]
    }
   ],
   "source": [
    "eval_metrics(y, results)"
   ]
  },
  {
   "cell_type": "code",
   "execution_count": 59,
   "metadata": {},
   "outputs": [],
   "source": [
    "test_data[\"predicted_price\"] = results"
   ]
  },
  {
   "cell_type": "code",
   "execution_count": 60,
   "metadata": {},
   "outputs": [
    {
     "data": {
      "text/html": [
       "<div>\n",
       "<style scoped>\n",
       "    .dataframe tbody tr th:only-of-type {\n",
       "        vertical-align: middle;\n",
       "    }\n",
       "\n",
       "    .dataframe tbody tr th {\n",
       "        vertical-align: top;\n",
       "    }\n",
       "\n",
       "    .dataframe thead th {\n",
       "        text-align: right;\n",
       "    }\n",
       "</style>\n",
       "<table border=\"1\" class=\"dataframe\">\n",
       "  <thead>\n",
       "    <tr style=\"text-align: right;\">\n",
       "      <th></th>\n",
       "      <th>price</th>\n",
       "      <th>age</th>\n",
       "      <th>hp_kW</th>\n",
       "      <th>km</th>\n",
       "      <th>Gearing_Type</th>\n",
       "      <th>make_model</th>\n",
       "      <th>predicted_price</th>\n",
       "    </tr>\n",
       "  </thead>\n",
       "  <tbody>\n",
       "    <tr>\n",
       "      <th>1846</th>\n",
       "      <td>13990</td>\n",
       "      <td>1.0</td>\n",
       "      <td>66.0</td>\n",
       "      <td>12099.0</td>\n",
       "      <td>Automatic</td>\n",
       "      <td>Opel Corsa</td>\n",
       "      <td>13578.894531</td>\n",
       "    </tr>\n",
       "    <tr>\n",
       "      <th>1671</th>\n",
       "      <td>12500</td>\n",
       "      <td>3.0</td>\n",
       "      <td>66.0</td>\n",
       "      <td>52000.0</td>\n",
       "      <td>Automatic</td>\n",
       "      <td>Opel Corsa</td>\n",
       "      <td>10880.681641</td>\n",
       "    </tr>\n",
       "    <tr>\n",
       "      <th>1497</th>\n",
       "      <td>13900</td>\n",
       "      <td>1.0</td>\n",
       "      <td>81.0</td>\n",
       "      <td>13149.0</td>\n",
       "      <td>Manual</td>\n",
       "      <td>Opel Astra</td>\n",
       "      <td>14091.145508</td>\n",
       "    </tr>\n",
       "    <tr>\n",
       "      <th>149</th>\n",
       "      <td>15950</td>\n",
       "      <td>3.0</td>\n",
       "      <td>66.0</td>\n",
       "      <td>53900.0</td>\n",
       "      <td>Semi-automatic</td>\n",
       "      <td>Audi A1</td>\n",
       "      <td>16133.251953</td>\n",
       "    </tr>\n",
       "    <tr>\n",
       "      <th>2352</th>\n",
       "      <td>16800</td>\n",
       "      <td>1.0</td>\n",
       "      <td>103.0</td>\n",
       "      <td>23401.0</td>\n",
       "      <td>Manual</td>\n",
       "      <td>Opel Insignia</td>\n",
       "      <td>18953.675781</td>\n",
       "    </tr>\n",
       "    <tr>\n",
       "      <th>3007</th>\n",
       "      <td>25490</td>\n",
       "      <td>2.0</td>\n",
       "      <td>147.0</td>\n",
       "      <td>49606.0</td>\n",
       "      <td>Automatic</td>\n",
       "      <td>Renault Espace</td>\n",
       "      <td>26104.083984</td>\n",
       "    </tr>\n",
       "    <tr>\n",
       "      <th>2114</th>\n",
       "      <td>15980</td>\n",
       "      <td>3.0</td>\n",
       "      <td>125.0</td>\n",
       "      <td>88346.0</td>\n",
       "      <td>Automatic</td>\n",
       "      <td>Opel Insignia</td>\n",
       "      <td>16086.406250</td>\n",
       "    </tr>\n",
       "    <tr>\n",
       "      <th>1805</th>\n",
       "      <td>8850</td>\n",
       "      <td>2.0</td>\n",
       "      <td>70.0</td>\n",
       "      <td>89000.0</td>\n",
       "      <td>Manual</td>\n",
       "      <td>Opel Corsa</td>\n",
       "      <td>8797.889648</td>\n",
       "    </tr>\n",
       "    <tr>\n",
       "      <th>1304</th>\n",
       "      <td>17400</td>\n",
       "      <td>2.0</td>\n",
       "      <td>110.0</td>\n",
       "      <td>62000.0</td>\n",
       "      <td>Automatic</td>\n",
       "      <td>Opel Astra</td>\n",
       "      <td>15223.293945</td>\n",
       "    </tr>\n",
       "    <tr>\n",
       "      <th>1256</th>\n",
       "      <td>10980</td>\n",
       "      <td>3.0</td>\n",
       "      <td>100.0</td>\n",
       "      <td>107791.0</td>\n",
       "      <td>Manual</td>\n",
       "      <td>Opel Astra</td>\n",
       "      <td>10500.507812</td>\n",
       "    </tr>\n",
       "  </tbody>\n",
       "</table>\n",
       "</div>"
      ],
      "text/plain": [
       "      price  age  hp_kW        km    Gearing_Type      make_model  \\\n",
       "1846  13990  1.0   66.0   12099.0       Automatic      Opel Corsa   \n",
       "1671  12500  3.0   66.0   52000.0       Automatic      Opel Corsa   \n",
       "1497  13900  1.0   81.0   13149.0          Manual      Opel Astra   \n",
       "149   15950  3.0   66.0   53900.0  Semi-automatic         Audi A1   \n",
       "2352  16800  1.0  103.0   23401.0          Manual   Opel Insignia   \n",
       "3007  25490  2.0  147.0   49606.0       Automatic  Renault Espace   \n",
       "2114  15980  3.0  125.0   88346.0       Automatic   Opel Insignia   \n",
       "1805   8850  2.0   70.0   89000.0          Manual      Opel Corsa   \n",
       "1304  17400  2.0  110.0   62000.0       Automatic      Opel Astra   \n",
       "1256  10980  3.0  100.0  107791.0          Manual      Opel Astra   \n",
       "\n",
       "      predicted_price  \n",
       "1846     13578.894531  \n",
       "1671     10880.681641  \n",
       "1497     14091.145508  \n",
       "149      16133.251953  \n",
       "2352     18953.675781  \n",
       "3007     26104.083984  \n",
       "2114     16086.406250  \n",
       "1805      8797.889648  \n",
       "1304     15223.293945  \n",
       "1256     10500.507812  "
      ]
     },
     "execution_count": 60,
     "metadata": {},
     "output_type": "execute_result"
    }
   ],
   "source": [
    "test_data.sample(10, random_state=41)"
   ]
  },
  {
   "cell_type": "markdown",
   "metadata": {},
   "source": [
    "# Prediction using Endpoint Name (Method-2):"
   ]
  },
  {
   "cell_type": "code",
   "execution_count": 61,
   "metadata": {},
   "outputs": [
    {
     "data": {
      "text/plain": [
       "'sagemaker-xgboost-2024-08-26-08-21-09-886'"
      ]
     },
     "execution_count": 61,
     "metadata": {},
     "output_type": "execute_result"
    }
   ],
   "source": [
    "endpoint_name = predictor.endpoint_name\n",
    "endpoint_name"
   ]
  },
  {
   "cell_type": "code",
   "execution_count": 62,
   "metadata": {},
   "outputs": [],
   "source": [
    "# Reading and preparing the test data as payload for prediction\n",
    "with open('test.csv', 'r') as f:\n",
    "    payload = f.read().strip('\\n')"
   ]
  },
  {
   "cell_type": "code",
   "execution_count": 63,
   "metadata": {},
   "outputs": [
    {
     "data": {
      "text/plain": [
       "'0.0,0.0,2.0,141.0,80000.0\\n0.0,0.0,3.0,66.0,16200.0\\n0.0,0.0,3.0,85.0,63668.0\\n0.0,0.0,2.0,70.0,16103.0\\n0.0,0.0,3.0,92.0,26415.0\\n0.0,0.0,3.0,112.0,45764.0\\n0.0,0.0,1.0,85.0,9752.0\\n0.0,0.0,3.0,92.0,15850.0\\n1.0,0.0,3.0,60.0,43120.0\\n1.0,0.0,3.0,66.0,30500.0\\n1.0,0.0,2.0,70.0,69500.0\\n1.0,0.0,3.0,66.0,99000.0\\n1.0,0.0,3.0,66.0,130000.0\\n0.0,0.0,2.0,70.0,5108.0\\n0.0,0.0,1.0,70.0,6396.0\\n0.0,0.0,3.0,92.0,30952.0\\n0.0,0.0,3.0,92.0,33991.0\\n0.0,0.0,3.0,92.0,41900.0\\n0.0,0.0,2.0,71.0,51484.0\\n0.0,0.0,1.0,85.0,16500.0\\n0.0,0.0,1.0,85.0,10013.0\\n0.0,0.0,1.0,70.0,6695.0\\n0.0,0.0,3.0,92.0,21275.0\\n0.0,0.0,2.0,70.0,19800.0\\n0.0,0.0,3.0,85.0,52000.0\\n0.0,0.0,2.0,66.0,65000.0\\n0.0,0.0,1.0,70.0,4800.0\\n0.0,0.0,1.0,70.0,5500.0\\n0.0,0.0,2.0,92.0,40000.0\\n0.0,0.0,1.0,85.0,15000.0\\n0.0,0.0,3.0,92.0,72624.0\\n0.0,0.0,3.0,66.0,13960.0\\n0.0,0.0,2.0,70.0,22980.0\\n0.0,0.0,3.0,66.0,57926.0\\n0.0,0.0,3.0,85.0,29800.0\\n0.0,0.0,1.0,70.0,8600.0\\n0.0,0.0,1.0,70.0,9463.0\\n0.0,0.0,3.0,85.0,36709.0\\n0.0,0.0,2.0,70.0,25330.0\\n0.0,0.0,3.0,70.0,63136.0\\n0.0,0.0,3.0,92.0,27950.0\\n0.0,0.0,3.0,66.0,67790.0\\n0.0,0.0,2.0,85.0,63500.0\\n0.0,0.0,3.0,70.0,32103.0\\n0.0,0.0,3.0,70.0,36236.0\\n0.0,0.0,3.0,92.0,38831.0\\n0.0,0.0,3.0,85.0,66000.0\\n0.0,0.0,3.0,70.0,16081.0\\n0.0,0.0,3.0,92.0,32863.0\\n0.0,0.0,3.0,110.0,52800.0\\n0.0,0.0,1.0,70.0,13200.0\\n0.0,0.0,2.0,66.0,21000.0\\n0.0,0.0,2.0,85.0,32000.0\\n0.0,0.0,2.0,92.0,9998.0\\n0.0,0.0,2.0,66.0,28600.0\\n0.0,0.0,2.0,70.0,24550.0\\n0.0,0.0,3.0,92.0,45200.0\\n0.0,0.0,3.0,66.0,61980.0\\n0.0,0.0,3.0,85.0,63668.0\\n0.0,0.0,3.0,66.0,49466.0\\n0.0,0.0,3.0,85.0,63668.0\\n0.0,0.0,3.0,66.0,67278.0\\n0.0,0.0,3.0,85.0,63668.0\\n0.0,0.0,3.0,85.0,34000.0\\n0.0,0.0,3.0,66.0,58380.0\\n0.0,0.0,3.0,66.0,49351.0\\n0.0,0.0,3.0,66.0,49351.0\\n0.0,0.0,3.0,66.0,49351.0\\n0.0,0.0,3.0,66.0,49351.0\\n0.0,0.0,3.0,66.0,49351.0\\n0.0,0.0,3.0,70.0,56967.0\\n0.0,0.0,3.0,92.0,87300.0\\n0.0,0.0,3.0,66.0,75000.0\\n0.0,0.0,3.0,85.0,53000.0\\n0.0,0.0,2.0,70.0,19068.0\\n0.0,0.0,3.0,85.0,11000.0\\n0.0,0.0,3.0,92.0,33200.0\\n0.0,0.0,3.0,66.0,52900.0\\n0.0,0.0,3.0,66.0,24000.0\\n0.0,0.0,3.0,70.0,104000.0\\n0.0,0.0,3.0,85.0,34011.0\\n0.0,0.0,3.0,85.0,66844.0\\n0.0,0.0,3.0,85.0,40000.0\\n1.0,0.0,3.0,85.0,75800.0\\n1.0,0.0,3.0,70.0,47155.0\\n1.0,0.0,2.0,60.0,20000.0\\n1.0,0.0,3.0,60.0,44000.0\\n1.0,0.0,3.0,70.0,36040.0\\n1.0,0.0,3.0,85.0,100816.0\\n1.0,0.0,3.0,70.0,55850.0\\n1.0,0.0,3.0,66.0,70000.0\\n1.0,0.0,3.0,85.0,100200.0\\n1.0,0.0,3.0,66.0,51218.0\\n1.0,0.0,3.0,60.0,16885.0\\n1.0,0.0,3.0,70.0,80050.0\\n1.0,0.0,3.0,70.0,17631.0\\n1.0,0.0,3.0,66.0,56355.0\\n1.0,0.0,3.0,85.0,92602.0\\n1.0,0.0,3.0,60.0,20680.0\\n1.0,0.0,3.0,70.0,45258.0\\n1.0,0.0,3.0,70.0,67359.0\\n1.0,0.0,3.0,60.0,49400.0\\n1.0,0.0,3.0,60.0,65500.0\\n1.0,0.0,3.0,70.0,28235.0\\n1.0,0.0,3.0,66.0,103195.0\\n1.0,0.0,3.0,66.0,40365.0\\n1.0,0.0,3.0,70.0,50437.0\\n1.0,0.0,3.0,70.0,35237.0\\n1.0,0.0,3.0,66.0,64000.0\\n1.0,0.0,3.0,85.0,103000.0\\n1.0,0.0,1.0,60.0,8400.0\\n1.0,0.0,3.0,66.0,53980.0\\n1.0,0.0,3.0,60.0,23311.0\\n1.0,0.0,3.0,70.0,31619.0\\n1.0,0.0,3.0,92.0,58680.0\\n1.0,0.0,3.0,66.0,24768.0\\n1.0,0.0,3.0,66.0,75287.0\\n1.0,0.0,3.0,66.0,47000.0\\n1.0,0.0,3.0,66.0,146710.0\\n1.0,0.0,3.0,60.0,59000.0\\n1.0,0.0,3.0,60.0,37000.0\\n1.0,0.0,3.0,66.0,124521.0\\n1.0,0.0,3.0,70.0,44638.0\\n1.0,0.0,3.0,70.0,28970.0\\n1.0,0.0,3.0,66.0,103000.0\\n1.0,0.0,3.0,70.0,57100.0\\n1.0,0.0,3.0,85.0,85636.0\\n1.0,0.0,3.0,85.0,95000.0\\n1.0,0.0,2.0,67.0,72973.0\\n1.0,0.0,3.0,70.0,25308.0\\n1.0,0.0,2.0,60.0,28000.0\\n1.0,0.0,3.0,66.0,47685.0\\n1.0,0.0,3.0,85.0,111792.0\\n1.0,0.0,3.0,92.0,71313.0\\n1.0,0.0,3.0,66.0,78935.0\\n2.0,0.0,0.0,85.0,1.0\\n1.0,0.0,3.0,66.0,45163.0\\n1.0,0.0,3.0,60.0,44770.0\\n1.0,0.0,1.0,60.0,11707.0\\n1.0,0.0,2.0,70.0,31056.0\\n1.0,0.0,3.0,66.0,46000.0\\n2.0,0.0,1.0,70.0,15097.0\\n2.0,0.0,2.0,85.0,19594.0\\n2.0,0.0,2.0,141.0,33500.0\\n2.0,0.0,3.0,66.0,64000.0\\n2.0,0.0,2.0,66.0,30000.0\\n2.0,0.0,2.0,70.0,9950.0\\n2.0,0.0,3.0,66.0,29000.0\\n2.0,0.0,2.0,85.0,45000.0\\n2.0,0.0,3.0,66.0,53900.0\\n1.0,0.0,3.0,85.0,59722.0\\n1.0,0.0,3.0,60.0,25025.0\\n1.0,0.0,3.0,70.0,101087.0\\n1.0,0.0,3.0,85.0,47300.0\\n1.0,0.0,3.0,92.0,73000.0\\n1.0,0.0,3.0,66.0,78556.0\\n1.0,0.0,3.0,66.0,57250.0\\n1.0,0.0,2.0,60.0,12437.0\\n1.0,0.0,3.0,70.0,26300.0\\n1.0,0.0,3.0,66.0,49289.0\\n1.0,0.0,3.0,70.0,59896.0\\n1.0,0.0,2.0,70.0,47588.0\\n1.0,0.0,3.0,60.0,26776.0\\n0.0,0.0,1.0,70.0,9619.0\\n0.0,0.0,1.0,85.0,12796.0\\n0.0,0.0,1.0,66.0,14405.0\\n0.0,0.0,1.0,71.0,9392.0\\n1.0,0.0,2.0,66.0,42645.0\\n0.0,0.0,1.0,85.0,13000.0\\n1.0,0.0,2.0,70.0,39450.0\\n1.0,0.0,0.0,70.0,3000.0\\n1.0,0.0,2.0,60.0,22000.0\\n1.0,0.0,1.0,70.0,15000.0\\n1.0,0.0,2.0,70.0,18900.0\\n1.0,0.0,2.0,66.0,89500.0\\n1.0,0.0,2.0,66.0,26400.0\\n1.0,0.0,2.0,66.0,11619.0\\n1.0,0.0,2.0,60.0,5200.0\\n1.0,0.0,2.0,70.0,14700.0\\n1.0,0.0,1.0,71.0,30757.0\\n1.0,0.0,2.0,87.0,26158.0\\n0.0,0.0,1.0,92.0,5962.0\\n1.0,0.0,2.0,60.0,15000.0\\n1.0,0.0,2.0,66.0,77685.0\\n0.0,0.0,1.0,70.0,12500.0\\n0.0,0.0,1.0,71.0,12756.0\\n0.0,0.0,2.0,92.0,28000.0\\n0.0,0.0,2.0,70.0,16974.0\\n0.0,0.0,1.0,70.0,6200.0\\n0.0,0.0,1.0,70.0,10447.0\\n0.0,0.0,1.0,71.0,17500.0\\n0.0,0.0,1.0,70.0,10000.0\\n0.0,0.0,0.0,85.0,1.0\\n0.0,0.0,0.0,85.0,1647.3626086956522\\n0.0,0.0,1.0,71.0,15706.0\\n0.0,0.0,2.0,70.0,13000.0\\n0.0,0.0,1.0,71.0,14070.0\\n0.0,0.0,1.0,70.0,2658.0\\n0.0,0.0,1.0,70.0,9385.0\\n0.0,0.0,1.0,85.0,6476.0\\n0.0,0.0,1.0,85.0,6476.0\\n0.0,0.0,2.0,70.0,11570.0\\n0.0,0.0,1.0,70.0,5000.0\\n0.0,0.0,1.0,70.0,4879.0\\n0.0,0.0,1.0,66.0,2551.0\\n0.0,0.0,1.0,92.0,8101.0\\n0.0,0.0,1.0,85.0,10771.0\\n0.0,0.0,1.0,85.0,14010.0\\n0.0,0.0,2.0,92.0,16000.0\\n0.0,0.0,1.0,70.0,6460.0\\n0.0,0.0,2.0,70.0,9577.0\\n0.0,0.0,2.0,92.0,10958.0\\n0.0,0.0,1.0,70.0,7476.0\\n0.0,0.0,1.0,70.0,9564.0\\n0.0,0.0,2.0,71.0,16280.0\\n0.0,0.0,1.0,85.0,10.0\\n0.0,0.0,2.0,92.0,48300.0\\n0.0,0.0,2.0,70.0,11000.0\\n0.0,0.0,2.0,70.0,21500.0\\n0.0,0.0,2.0,92.0,17000.0\\n0.0,0.0,1.0,70.0,6722.0\\n0.0,0.0,0.0,85.0,1647.3626086956522\\n0.0,0.0,1.0,70.0,15781.0\\n0.0,0.0,1.0,70.0,9800.0\\n0.0,0.0,2.0,70.0,33306.0\\n0.0,0.0,0.0,85.0,1647.3626086956522\\n0.0,0.0,0.0,85.0,10.0\\n0.0,0.0,1.0,71.0,3038.0\\n0.0,0.0,1.0,70.0,8329.0\\n0.0,0.0,1.0,70.0,15650.0\\n1.0,0.0,2.0,85.0,33217.0\\n1.0,0.0,2.0,70.0,27800.0\\n1.0,0.0,1.0,70.0,16209.0\\n1.0,0.0,2.0,66.0,54846.0\\n1.0,0.0,2.0,92.0,17768.0\\n1.0,0.0,2.0,66.0,45000.0\\n1.0,0.0,2.0,85.0,34796.0\\n1.0,0.0,2.0,85.0,12383.0\\n1.0,0.0,1.0,66.0,6500.0\\n1.0,0.0,1.0,66.0,22000.0\\n1.0,0.0,1.0,66.0,27255.0\\n1.0,0.0,2.0,92.0,17768.0\\n1.0,0.0,2.0,92.0,17768.0\\n1.0,0.0,2.0,92.0,17768.0\\n1.0,0.0,2.0,92.0,17768.0\\n1.0,0.0,2.0,92.0,17768.0\\n1.0,0.0,2.0,85.0,7631.0\\n1.0,0.0,2.0,85.0,29343.0\\n1.0,0.0,2.0,71.0,44188.0\\n1.0,0.0,1.0,70.0,11500.0\\n1.0,0.0,1.0,60.0,5023.0\\n1.0,0.0,1.0,66.0,24500.0\\n1.0,0.0,2.0,70.0,29937.0\\n1.0,0.0,2.0,60.0,10123.0\\n1.0,0.0,1.0,70.0,19014.0\\n1.0,0.0,2.0,85.0,22627.0\\n1.0,0.0,2.0,70.0,18890.0\\n1.0,0.0,2.0,60.0,21083.0\\n1.0,0.0,1.0,66.0,22900.0\\n1.0,0.0,2.0,85.0,29899.0\\n1.0,0.0,2.0,60.0,12103.0\\n1.0,0.0,2.0,70.0,46146.0\\n1.0,0.0,2.0,60.0,30000.0\\n1.0,0.0,1.0,66.0,25634.0\\n1.0,0.0,1.0,70.0,17410.0\\n1.0,0.0,2.0,66.0,15560.0\\n1.0,0.0,2.0,92.0,17768.0\\n1.0,0.0,2.0,92.0,17768.0\\n1.0,0.0,2.0,92.0,17768.0\\n1.0,0.0,1.0,66.0,26991.0\\n1.0,0.0,1.0,66.0,26289.0\\n1.0,0.0,1.0,70.0,15599.0\\n1.0,0.0,2.0,70.0,37568.0\\n1.0,0.0,2.0,70.0,14518.0\\n1.0,0.0,1.0,70.0,3300.0\\n1.0,0.0,2.0,70.0,43881.0\\n1.0,0.0,2.0,66.0,19335.0\\n1.0,0.0,2.0,70.0,14200.0\\n1.0,0.0,2.0,66.0,32700.0\\n1.0,0.0,2.0,70.0,41989.0\\n1.0,0.0,2.0,85.0,43341.0\\n1.0,0.0,2.0,60.0,13938.0\\n1.0,0.0,1.0,60.0,10000.0\\n1.0,0.0,2.0,66.0,20010.0\\n1.0,0.0,2.0,85.0,28000.0\\n1.0,0.0,2.0,66.0,11940.0\\n1.0,0.0,2.0,60.0,39680.0\\n1.0,0.0,1.0,60.0,2943.0\\n0.0,0.0,0.0,85.0,200.0\\n0.0,0.0,1.0,71.0,20605.0\\n1.0,0.0,1.0,70.0,23800.0\\n1.0,0.0,1.0,66.0,26619.0\\n1.0,0.0,1.0,66.0,19894.0\\n1.0,0.0,1.0,70.0,25468.0\\n1.0,0.0,1.0,66.0,17922.0\\n1.0,0.0,1.0,66.0,22212.0\\n1.0,0.0,1.0,66.0,24909.0\\n1.0,0.0,1.0,60.0,4100.0\\n1.0,0.0,1.0,66.0,26292.0\\n1.0,0.0,1.0,66.0,26977.0\\n1.0,0.0,1.0,85.0,9883.0\\n1.0,0.0,1.0,70.0,22000.0\\n1.0,0.0,1.0,66.0,18805.0\\n0.0,0.0,1.0,85.0,80.0\\n0.0,0.0,1.0,70.0,10500.0\\n0.0,0.0,0.0,85.0,3500.0\\n0.0,0.0,1.0,110.0,7232.0\\n0.0,0.0,1.0,141.0,5911.0\\n0.0,0.0,1.0,92.0,9750.0\\n0.0,0.0,0.0,70.0,9600.0\\n0.0,0.0,1.0,71.0,20000.0\\n0.0,0.0,0.0,85.0,5000.0\\n0.0,0.0,1.0,66.0,6078.0\\n0.0,0.0,0.0,70.0,20.0\\n0.0,0.0,1.0,85.0,80.0\\n0.0,0.0,1.0,141.0,9821.0\\n0.0,0.0,1.0,70.0,15000.0\\n0.0,0.0,1.0,85.0,80.0\\n0.0,0.0,1.0,85.0,80.0\\n0.0,0.0,0.0,85.0,1647.3626086956522\\n0.0,0.0,0.0,85.0,3792.0\\n0.0,0.0,1.0,92.0,1060.0\\n0.0,0.0,1.0,70.0,17000.0\\n0.0,0.0,1.0,66.0,28.0\\n0.0,0.0,1.0,70.0,16556.0\\n0.0,0.0,1.0,70.0,7400.0\\n0.0,0.0,1.0,92.0,5903.0\\n0.0,0.0,1.0,85.0,15251.0\\n0.0,0.0,1.0,70.0,31275.0\\n0.0,0.0,1.0,92.0,3827.0\\n0.0,0.0,1.0,70.0,20520.0\\n0.0,0.0,1.0,141.0,6892.0\\n0.0,0.0,1.0,70.0,7400.0\\n0.0,0.0,1.0,110.0,6461.0\\n1.0,0.0,1.0,66.0,24621.0\\n1.0,0.0,1.0,70.0,18100.0\\n1.0,0.0,1.0,60.0,5731.0\\n1.0,0.0,1.0,66.0,14200.0\\n1.0,0.0,1.0,60.0,8270.0\\n1.0,0.0,1.0,70.0,10000.0\\n1.0,0.0,0.0,70.0,1050.0\\n1.0,0.0,1.0,66.0,25444.0\\n1.0,0.0,1.0,70.0,13000.0\\n1.0,0.0,1.0,66.0,22900.0\\n1.0,0.0,1.0,66.0,26100.0\\n1.0,0.0,1.0,60.0,3963.0\\n1.0,0.0,1.0,60.0,6677.0\\n1.0,0.0,1.0,70.0,6617.0\\n1.0,0.0,1.0,85.0,18600.0\\n1.0,0.0,1.0,66.0,19000.0\\n1.0,0.0,1.0,70.0,17565.0\\n1.0,0.0,1.0,66.0,21900.0\\n1.0,0.0,1.0,70.0,30150.0\\n1.0,0.0,1.0,85.0,20490.0\\n1.0,0.0,1.0,70.0,12000.0\\n1.0,0.0,1.0,70.0,13457.0\\n1.0,0.0,1.0,70.0,15925.0\\n1.0,0.0,1.0,66.0,25711.0\\n1.0,0.0,1.0,66.0,26600.0\\n1.0,0.0,1.0,60.0,7800.0\\n1.0,0.0,1.0,66.0,47000.0\\n1.0,0.0,1.0,66.0,27300.0\\n1.0,0.0,1.0,66.0,15008.0\\n1.0,0.0,1.0,66.0,16298.0\\n1.0,0.0,1.0,66.0,26600.0\\n1.0,0.0,1.0,66.0,24950.0\\n1.0,0.0,1.0,66.0,16900.0\\n1.0,0.0,1.0,60.0,9916.0\\n0.0,0.0,0.0,85.0,1.0\\n0.0,0.0,0.0,85.0,10.0\\n0.0,0.0,0.0,85.0,2998.0\\n0.0,0.0,0.0,85.0,10.0\\n0.0,0.0,0.0,85.0,20.0\\n0.0,0.0,0.0,85.0,50.0\\n0.0,0.0,0.0,85.0,1647.3626086956522\\n0.0,0.0,0.0,85.0,1647.3626086956522\\n0.0,0.0,0.0,85.0,4000.0\\n0.0,0.0,0.0,85.0,3500.0\\n0.0,0.0,0.0,85.0,11.0\\n0.0,0.0,0.0,85.0,11.0\\n0.0,0.0,0.0,85.0,4000.0\\n0.0,0.0,0.0,85.0,15.0\\n0.0,0.0,0.0,85.0,1647.3626086956522\\n0.0,0.0,0.0,110.0,5000.0\\n0.0,0.0,0.0,85.0,1647.3626086956522\\n0.0,0.0,0.0,85.0,1150.0\\n0.0,0.0,0.0,85.0,1120.0\\n0.0,0.0,0.0,85.0,1647.3626086956522\\n0.0,0.0,0.0,85.0,251.0\\n0.0,0.0,0.0,85.0,220.0\\n0.0,0.0,0.0,85.0,1647.3626086956522\\n0.0,0.0,0.0,85.0,2998.0\\n0.0,0.0,0.0,85.0,9900.0\\n0.0,0.0,0.0,85.0,10.0\\n0.0,0.0,0.0,110.0,1647.3626086956522\\n0.0,0.0,0.0,85.0,5000.0\\n0.0,0.0,0.0,85.0,1647.3626086956522\\n0.0,0.0,0.0,85.0,10.0\\n0.0,0.0,0.0,85.0,2998.0\\n0.0,0.0,0.0,85.0,1647.3626086956522\\n0.0,0.0,0.0,85.0,150.0\\n0.0,0.0,0.0,85.0,2000.0\\n0.0,0.0,0.0,85.0,10.0\\n0.0,0.0,0.0,85.0,12.0\\n0.0,0.0,0.0,85.0,12.0\\n0.0,0.0,0.0,85.0,12.0\\n0.0,0.0,0.0,85.0,1647.3626086956522\\n0.0,0.0,0.0,85.0,6900.0\\n0.0,0.0,0.0,85.0,10.0\\n0.0,0.0,0.0,85.0,1647.3626086956522\\n0.0,0.0,0.0,85.0,1647.3626086956522\\n0.0,0.0,0.0,85.0,3134.0\\n0.0,0.0,0.0,85.0,1.0\\n0.0,0.0,0.0,85.0,50.0\\n0.0,0.0,0.0,85.0,300.0\\n0.0,0.0,0.0,85.0,3000.0\\n0.0,0.0,0.0,85.0,55.0\\n0.0,0.0,0.0,85.0,1647.3626086956522\\n0.0,0.0,0.0,85.0,1647.3626086956522\\n0.0,0.0,0.0,85.0,10.0\\n0.0,0.0,0.0,85.0,50.0\\n0.0,0.0,0.0,85.0,1647.3626086956522\\n0.0,0.0,0.0,85.0,1647.3626086956522\\n0.0,0.0,0.0,85.0,5000.0\\n0.0,0.0,0.0,85.0,6000.0\\n0.0,0.0,0.0,85.0,10.0\\n0.0,0.0,0.0,85.0,1.0\\n0.0,0.0,0.0,85.0,5000.0\\n1.0,0.0,0.0,85.0,1647.3626086956522\\n1.0,0.0,0.0,70.0,1647.3626086956522\\n1.0,0.0,0.0,70.0,10.0\\n1.0,0.0,0.0,70.0,10.0\\n1.0,0.0,0.0,85.0,1647.3626086956522\\n1.0,0.0,0.0,85.0,9900.0\\n1.0,0.0,0.0,85.0,1647.3626086956522\\n1.0,0.0,0.0,85.0,15.0\\n1.0,0.0,0.0,70.0,100.0\\n1.0,0.0,0.0,85.0,6000.0\\n1.0,0.0,0.0,85.0,3990.0\\n1.0,0.0,0.0,70.0,1.0\\n1.0,0.0,0.0,85.0,15.0\\n1.0,0.0,0.0,85.0,15.0\\n1.0,0.0,0.0,85.0,3000.0\\n1.0,0.0,0.0,85.0,10.0\\n1.0,0.0,0.0,85.0,10.0\\n1.0,0.0,0.0,66.0,4500.0\\n1.0,0.0,0.0,70.0,1647.3626086956522\\n1.0,0.0,0.0,85.0,10.0\\n1.0,0.0,0.0,85.0,1647.3626086956522\\n1.0,0.0,0.0,85.0,1647.3626086956522\\n0.0,0.0,0.0,85.0,6001.0\\n0.0,0.0,0.0,110.0,1647.3626086956522\\n0.0,0.0,0.0,85.0,8999.0\\n0.0,0.0,0.0,85.0,3000.0\\n0.0,0.0,0.0,85.0,9999.0\\n1.0,0.0,0.0,85.0,10.0\\n1.0,0.0,0.0,70.0,6900.0\\n1.0,0.0,0.0,70.0,3000.0\\n0.0,0.0,0.0,147.0,3000.0\\n0.0,0.0,0.0,110.0,10.0\\n0.0,0.0,0.0,85.0,1700.0\\n0.0,0.0,0.0,70.0,6000.0\\n1.0,0.0,0.0,70.0,1647.3626086956522\\n1.0,0.0,0.0,85.0,10.0\\n1.0,0.0,0.0,70.0,7000.0\\n1.0,0.0,0.0,70.0,1.0\\n1.0,0.0,0.0,70.0,1647.3626086956522\\n0.0,0.0,0.0,85.0,1647.3626086956522\\n0.0,0.0,0.0,85.0,1647.3626086956522\\n0.0,0.0,0.0,85.0,1647.3626086956522\\n0.0,0.0,0.0,85.0,1647.3626086956522\\n1.0,0.0,0.0,85.0,1647.3626086956522\\n1.0,0.0,0.0,70.0,1500.0\\n1.0,0.0,0.0,70.0,1647.3626086956522\\n1.0,0.0,0.0,85.0,3000.0\\n1.0,0.0,0.0,70.0,1647.3626086956522\\n1.0,0.0,0.0,70.0,1000.0\\n1.0,0.0,0.0,85.0,3900.0\\n1.0,0.0,0.0,85.0,10.0\\n1.0,0.0,0.0,85.0,2900.0\\n1.0,0.0,0.0,85.0,1647.3626086956522\\n1.0,0.0,0.0,85.0,19.0\\n1.0,0.0,0.0,85.0,28.0\\n1.0,0.0,0.0,85.0,0.0\\n1.0,0.0,0.0,85.0,1647.3626086956522\\n1.0,0.0,0.0,70.0,1647.3626086956522\\n1.0,0.0,0.0,85.0,1000.0\\n1.0,0.0,0.0,70.0,1647.3626086956522\\n1.0,0.0,0.0,85.0,10.0\\n1.0,0.0,0.0,70.0,180.0\\n1.0,0.0,0.0,70.0,1647.3626086956522\\n1.0,0.0,0.0,70.0,10.0\\n1.0,0.0,0.0,85.0,9000.0\\n1.0,0.0,0.0,70.0,1647.3626086956522\\n1.0,0.0,0.0,70.0,1647.3626086956522\\n1.0,0.0,0.0,85.0,10.0\\n1.0,0.0,0.0,70.0,1647.3626086956522\\n1.0,0.0,0.0,70.0,1647.3626086956522\\n1.0,0.0,0.0,70.0,250.0\\n1.0,0.0,0.0,70.0,3317.0\\n1.0,0.0,0.0,70.0,50.0\\n1.0,0.0,0.0,85.0,10.0\\n1.0,0.0,0.0,70.0,3000.0\\n0.0,1.0,3.0,81.0,20300.0\\n0.0,1.0,3.0,81.0,70000.0\\n0.0,1.0,3.0,81.0,104000.0\\n0.0,1.0,3.0,81.0,92000.0\\n0.0,1.0,3.0,81.0,58000.0\\n0.0,1.0,3.0,92.0,56993.0\\n0.0,1.0,3.0,81.0,54067.0\\n0.0,1.0,2.0,85.0,49000.0\\n0.0,1.0,3.0,110.0,57193.0\\n0.0,1.0,3.0,81.0,46776.0\\n0.0,1.0,2.0,81.0,81000.0\\n0.0,1.0,3.0,110.0,31900.0\\n0.0,1.0,3.0,92.0,30000.0\\n0.0,1.0,3.0,81.0,78939.0\\n0.0,1.0,3.0,110.0,85325.0\\n0.0,1.0,3.0,110.0,81791.0\\n0.0,1.0,3.0,81.0,59512.0\\n0.0,1.0,3.0,81.0,87999.0\\n0.0,1.0,3.0,81.0,87999.0\\n0.0,1.0,3.0,110.0,61765.0\\n0.0,1.0,3.0,81.0,99000.0\\n0.0,1.0,3.0,81.0,72000.0\\n0.0,1.0,3.0,110.0,80815.0\\n0.0,1.0,3.0,81.0,43250.0\\n0.0,1.0,3.0,92.0,100600.0\\n0.0,1.0,3.0,92.0,80049.0\\n0.0,1.0,3.0,110.0,161205.0\\n0.0,1.0,3.0,110.0,101614.0\\n0.0,1.0,3.0,81.0,56200.0\\n0.0,1.0,3.0,81.0,76000.0\\n0.0,1.0,3.0,110.0,96217.0\\n0.0,1.0,3.0,110.0,90089.0\\n0.0,1.0,3.0,81.0,39000.0\\n0.0,1.0,3.0,110.0,123750.0\\n0.0,1.0,2.0,87.0,27155.0\\n0.0,1.0,3.0,81.0,57000.0\\n0.0,1.0,3.0,110.0,86600.0\\n0.0,1.0,2.0,85.0,48000.0\\n0.0,1.0,3.0,110.0,99500.0\\n0.0,1.0,3.0,81.0,122584.0\\n0.0,1.0,3.0,81.0,98000.0\\n0.0,1.0,3.0,135.0,69789.0\\n0.0,1.0,2.0,81.0,60000.0\\n0.0,1.0,2.0,81.0,35000.0\\n0.0,1.0,3.0,110.0,146503.0\\n0.0,1.0,3.0,81.0,80000.0\\n0.0,1.0,3.0,81.0,105231.0\\n0.0,1.0,3.0,81.0,122584.0\\n0.0,1.0,3.0,81.0,82770.0\\n0.0,1.0,3.0,81.0,122584.0\\n0.0,1.0,3.0,81.0,67405.0\\n0.0,1.0,3.0,81.0,78700.0\\n0.0,1.0,3.0,92.0,61177.0\\n0.0,1.0,3.0,110.0,101307.0\\n0.0,1.0,3.0,81.0,106656.0\\n0.0,1.0,2.0,81.0,104544.0\\n0.0,1.0,3.0,81.0,39999.0\\n0.0,1.0,3.0,81.0,40300.0\\n0.0,1.0,3.0,81.0,118290.0\\n0.0,1.0,3.0,81.0,107560.0\\n0.0,1.0,3.0,92.0,88302.0\\n0.0,1.0,3.0,81.0,149006.0\\n0.0,1.0,3.0,81.0,49999.0\\n0.0,1.0,2.0,81.0,157300.0\\n0.0,1.0,3.0,81.0,91252.0\\n0.0,1.0,3.0,81.0,126100.0\\n0.0,1.0,3.0,81.0,88000.0\\n0.0,1.0,3.0,92.0,121200.0\\n0.0,1.0,3.0,92.0,108000.0\\n0.0,1.0,3.0,110.0,126000.0\\n0.0,1.0,3.0,110.0,170000.0\\n0.0,1.0,3.0,110.0,162553.0\\n0.0,1.0,3.0,110.0,140000.0\\n0.0,1.0,3.0,81.0,140000.0\\n0.0,1.0,3.0,81.0,127335.0\\n0.0,1.0,3.0,81.0,163871.0\\n0.0,1.0,3.0,81.0,126416.0\\n1.0,1.0,3.0,81.0,85000.0\\n1.0,1.0,3.0,81.0,36000.0\\n1.0,1.0,3.0,81.0,86889.0\\n1.0,1.0,3.0,81.0,96288.0\\n1.0,1.0,3.0,81.0,123226.0\\n1.0,1.0,3.0,81.0,123226.0\\n1.0,1.0,3.0,81.0,92000.0\\n1.0,1.0,3.0,81.0,43000.0\\n1.0,1.0,3.0,81.0,50700.0\\n1.0,1.0,3.0,81.0,92067.0\\n1.0,1.0,3.0,81.0,80800.0\\n1.0,1.0,3.0,81.0,53262.0\\n1.0,1.0,3.0,81.0,44182.0\\n1.0,1.0,3.0,92.0,95177.0\\n1.0,1.0,3.0,81.0,107838.0\\n1.0,1.0,3.0,110.0,144450.0\\n1.0,1.0,3.0,82.0,200814.0\\n1.0,1.0,3.0,81.0,111800.0\\n1.0,1.0,3.0,110.0,124197.0\\n1.0,1.0,3.0,135.0,79900.0\\n1.0,1.0,3.0,132.0,95235.0\\n1.0,1.0,3.0,110.0,97834.0\\n1.0,1.0,3.0,92.0,95671.0\\n1.0,1.0,3.0,92.0,79930.0\\n1.0,1.0,3.0,81.0,50000.0\\n1.0,1.0,3.0,110.0,119000.0\\n1.0,1.0,3.0,81.0,62900.0\\n1.0,1.0,3.0,81.0,97200.0\\n1.0,1.0,3.0,81.0,68415.0\\n1.0,1.0,3.0,81.0,48000.0\\n1.0,1.0,3.0,110.0,103000.0\\n1.0,1.0,3.0,110.0,89294.0\\n1.0,1.0,3.0,110.0,179150.0\\n1.0,1.0,3.0,81.0,43721.0\\n1.0,1.0,3.0,81.0,86100.0\\n1.0,1.0,3.0,81.0,119000.0\\n1.0,1.0,3.0,81.0,82430.0\\n1.0,1.0,3.0,110.0,130000.0\\n1.0,1.0,3.0,81.0,98097.0\\n1.0,1.0,3.0,110.0,152000.0\\n1.0,1.0,3.0,92.0,41400.0\\n1.0,1.0,3.0,81.0,93259.0\\n1.0,1.0,3.0,92.0,109571.0\\n1.0,1.0,3.0,81.0,123561.0\\n1.0,1.0,3.0,81.0,110000.0\\n1.0,1.0,3.0,81.0,165081.0\\n1.0,1.0,3.0,81.0,204000.0\\n1.0,1.0,3.0,81.0,67000.0\\n0.0,1.0,3.0,110.0,48000.0\\n0.0,1.0,3.0,110.0,91100.0\\n0.0,1.0,3.0,85.0,26100.0\\n0.0,1.0,3.0,81.0,40700.0\\n1.0,1.0,3.0,81.0,92233.0\\n1.0,1.0,3.0,81.0,70000.0\\n1.0,1.0,3.0,81.0,92146.0\\n1.0,1.0,3.0,92.0,109571.0\\n1.0,1.0,3.0,110.0,70766.0\\n1.0,1.0,3.0,100.0,157000.0\\n1.0,1.0,3.0,81.0,69800.0\\n1.0,1.0,2.0,81.0,70028.0\\n2.0,1.0,2.0,85.0,50500.0\\n2.0,1.0,3.0,81.0,73000.0\\n2.0,1.0,2.0,85.0,20933.0\\n2.0,1.0,1.0,110.0,19000.0\\n2.0,1.0,0.0,85.0,7500.0\\n2.0,1.0,2.0,110.0,13000.0\\n2.0,1.0,2.0,81.0,60000.0\\n2.0,1.0,3.0,110.0,59700.0\\n2.0,1.0,2.0,110.0,90000.0\\n2.0,1.0,2.0,81.0,55000.0\\n2.0,1.0,2.0,85.0,32000.0\\n2.0,1.0,3.0,110.0,22500.0\\n2.0,1.0,2.0,81.0,44000.0\\n2.0,1.0,2.0,85.0,16800.0\\n2.0,1.0,1.0,110.0,15000.0\\n2.0,1.0,2.0,85.0,29300.0\\n2.0,1.0,2.0,85.0,58000.0\\n2.0,1.0,2.0,81.0,96000.0\\n2.0,1.0,3.0,110.0,30000.0\\n2.0,1.0,1.0,85.0,20000.0\\n2.0,1.0,2.0,110.0,55000.0\\n2.0,1.0,3.0,81.0,59400.0\\n2.0,1.0,3.0,81.0,57000.0\\n2.0,1.0,3.0,81.0,69000.0\\n2.0,1.0,2.0,81.0,48000.0\\n2.0,1.0,2.0,81.0,41603.0\\n2.0,1.0,3.0,81.0,94000.0\\n2.0,1.0,3.0,81.0,54000.0\\n2.0,1.0,2.0,85.0,45000.0\\n2.0,1.0,2.0,85.0,85480.0\\n2.0,1.0,3.0,110.0,149000.0\\n2.0,1.0,3.0,81.0,70000.0\\n2.0,1.0,3.0,81.0,50000.0\\n2.0,1.0,3.0,81.0,54000.0\\n2.0,1.0,3.0,81.0,114230.0\\n2.0,1.0,3.0,81.0,80000.0\\n2.0,1.0,3.0,81.0,98500.0\\n2.0,1.0,3.0,110.0,98000.0\\n2.0,1.0,3.0,110.0,150000.0\\n1.0,1.0,3.0,81.0,84386.0\\n1.0,1.0,2.0,81.0,89991.0\\n1.0,1.0,3.0,81.0,57809.0\\n1.0,1.0,3.0,135.0,116593.0\\n1.0,1.0,3.0,81.0,100000.0\\n1.0,1.0,3.0,81.0,97000.0\\n1.0,1.0,3.0,81.0,79575.0\\n1.0,1.0,3.0,81.0,108500.0\\n1.0,1.0,3.0,81.0,118982.0\\n1.0,1.0,3.0,81.0,123226.0\\n1.0,1.0,3.0,81.0,89000.0\\n1.0,1.0,3.0,81.0,64500.0\\n1.0,1.0,3.0,81.0,46928.0\\n1.0,1.0,3.0,81.0,26280.0\\n1.0,1.0,2.0,85.0,127892.0\\n1.0,1.0,3.0,81.0,116000.0\\n1.0,1.0,3.0,81.0,73500.0\\n1.0,1.0,3.0,135.0,112000.0\\n1.0,1.0,3.0,135.0,112000.0\\n1.0,1.0,3.0,81.0,94427.0\\n2.0,1.0,2.0,110.0,35000.0\\n2.0,1.0,1.0,294.0,5200.0\\n2.0,1.0,0.0,294.0,10.0\\n2.0,1.0,1.0,228.0,8364.0\\n2.0,1.0,1.0,294.0,30000.0\\n2.0,1.0,2.0,294.0,19000.0\\n2.0,1.0,0.0,110.0,7.0\\n2.0,1.0,2.0,110.0,59.0\\n2.0,1.0,2.0,110.0,40000.0\\n2.0,1.0,2.0,110.0,34000.0\\n2.0,1.0,1.0,110.0,4895.0\\n2.0,1.0,2.0,110.0,26000.0\\n2.0,1.0,0.0,85.0,1647.3626086956522\\n2.0,1.0,1.0,85.0,5000.0\\n2.0,1.0,0.0,85.0,1.0\\n2.0,1.0,0.0,85.0,50.0\\n0.0,1.0,2.0,85.0,32900.0\\n0.0,1.0,2.0,85.0,16452.0\\n0.0,1.0,2.0,85.0,31700.0\\n0.0,1.0,2.0,85.0,17456.0\\n0.0,1.0,2.0,81.0,38000.0\\n0.0,1.0,2.0,85.0,20090.0\\n0.0,1.0,1.0,85.0,25656.0\\n0.0,1.0,1.0,85.0,24529.0\\n0.0,1.0,1.0,85.0,32483.0\\n0.0,1.0,1.0,85.0,16145.0\\n0.0,1.0,1.0,85.0,45846.0\\n0.0,1.0,2.0,85.0,24000.0\\n0.0,1.0,1.0,85.0,16530.0\\n0.0,1.0,2.0,81.0,23994.0\\n0.0,1.0,2.0,85.0,39000.0\\n0.0,1.0,2.0,85.0,22750.0\\n0.0,1.0,1.0,85.0,16614.0\\n0.0,1.0,1.0,85.0,35970.0\\n0.0,1.0,2.0,81.0,55100.0\\n0.0,1.0,1.0,85.0,19503.0\\n0.0,1.0,1.0,85.0,29000.0\\n0.0,1.0,1.0,85.0,17831.0\\n0.0,1.0,2.0,137.0,36306.0\\n0.0,1.0,1.0,85.0,18035.130066815145\\n0.0,1.0,2.0,85.0,27000.0\\n0.0,1.0,2.0,81.0,79401.0\\n0.0,1.0,2.0,81.0,39200.0\\n0.0,1.0,1.0,85.0,24845.0\\n0.0,1.0,1.0,85.0,26151.0\\n0.0,1.0,1.0,85.0,32483.0\\n0.0,1.0,2.0,81.0,37136.0\\n0.0,1.0,1.0,85.0,58400.0\\n0.0,1.0,2.0,110.0,39246.0\\n0.0,1.0,2.0,85.0,20455.0\\n0.0,1.0,1.0,85.0,17300.0\\n0.0,1.0,2.0,81.0,56000.0\\n0.0,1.0,2.0,85.0,35000.0\\n0.0,1.0,2.0,85.0,21241.0\\n0.0,1.0,2.0,85.0,22448.0\\n0.0,1.0,2.0,85.0,25778.0\\n0.0,1.0,2.0,110.0,79500.0\\n0.0,1.0,1.0,85.0,26168.0\\n0.0,1.0,2.0,81.0,41610.0\\n0.0,1.0,1.0,85.0,27600.0\\n0.0,1.0,1.0,85.0,17800.0\\n0.0,1.0,2.0,81.0,19500.0\\n0.0,1.0,2.0,85.0,8500.0\\n0.0,1.0,2.0,110.0,48500.0\\n0.0,1.0,2.0,110.0,86165.0\\n0.0,1.0,1.0,85.0,16674.0\\n0.0,1.0,2.0,85.0,34500.0\\n0.0,1.0,1.0,85.0,31679.0\\n0.0,1.0,2.0,85.0,35000.0\\n0.0,1.0,2.0,110.0,65500.0\\n0.0,1.0,0.0,85.0,1.0\\n0.0,1.0,2.0,81.0,74574.0\\n0.0,1.0,2.0,85.0,25000.0\\n0.0,1.0,1.0,85.0,72382.0\\n0.0,1.0,2.0,81.0,25476.0\\n0.0,1.0,2.0,81.0,37400.0\\n0.0,1.0,2.0,81.0,60000.0\\n0.0,1.0,2.0,110.0,27049.0\\n0.0,1.0,2.0,81.0,32000.0\\n0.0,1.0,2.0,85.0,24990.0\\n1.0,1.0,2.0,85.0,14897.0\\n1.0,1.0,2.0,81.0,40000.0\\n1.0,1.0,2.0,85.0,49500.0\\n1.0,1.0,2.0,110.0,49818.0\\n1.0,1.0,2.0,81.0,27829.0\\n1.0,1.0,1.0,85.0,22102.0\\n1.0,1.0,2.0,85.0,33000.0\\n1.0,1.0,1.0,85.0,4221.0\\n1.0,1.0,0.0,85.0,10.0\\n1.0,1.0,2.0,81.0,48000.0\\n1.0,1.0,1.0,85.0,17412.0\\n1.0,1.0,1.0,85.0,22000.0\\n1.0,1.0,2.0,85.0,27985.0\\n1.0,1.0,2.0,85.0,40900.0\\n1.0,1.0,2.0,81.0,36348.0\\n1.0,1.0,2.0,81.0,36348.0\\n1.0,1.0,2.0,110.0,24764.0\\n1.0,1.0,2.0,81.0,39400.0\\n1.0,1.0,2.0,85.0,61000.0\\n1.0,1.0,2.0,85.0,51893.0\\n1.0,1.0,2.0,81.0,62603.0\\n1.0,1.0,2.0,81.0,77000.0\\n1.0,1.0,2.0,110.0,47000.0\\n1.0,1.0,1.0,85.0,15200.0\\n1.0,1.0,2.0,85.0,24246.0\\n1.0,1.0,2.0,85.0,25813.0\\n1.0,1.0,2.0,85.0,49000.0\\n1.0,1.0,0.0,85.0,1647.3626086956522\\n1.0,1.0,2.0,81.0,29500.0\\n1.0,1.0,2.0,110.0,31150.0\\n1.0,1.0,2.0,85.0,49500.0\\n1.0,1.0,2.0,81.0,31789.0\\n1.0,1.0,2.0,85.0,24900.0\\n1.0,1.0,2.0,85.0,25000.0\\n1.0,1.0,2.0,81.0,84520.0\\n1.0,1.0,2.0,85.0,28500.0\\n1.0,1.0,2.0,81.0,35000.0\\n1.0,1.0,2.0,81.0,77290.0\\n1.0,1.0,2.0,85.0,57816.0\\n1.0,1.0,2.0,85.0,30839.0\\n1.0,1.0,2.0,85.0,24500.0\\n1.0,1.0,2.0,85.0,86036.0\\n1.0,1.0,2.0,85.0,58500.0\\n1.0,1.0,2.0,85.0,39501.0\\n1.0,1.0,2.0,81.0,31883.0\\n1.0,1.0,2.0,85.0,20792.0\\n1.0,1.0,2.0,85.0,49885.0\\n1.0,1.0,2.0,85.0,62981.0\\n1.0,1.0,2.0,110.0,105000.0\\n1.0,1.0,2.0,110.0,61621.0\\n1.0,1.0,2.0,85.0,17000.0\\n1.0,1.0,2.0,81.0,76290.0\\n1.0,1.0,2.0,110.0,98000.0\\n1.0,1.0,2.0,85.0,68090.0\\n1.0,1.0,2.0,92.0,20000.0\\n1.0,1.0,2.0,110.0,23128.0\\n1.0,1.0,1.0,85.0,136000.0\\n1.0,1.0,2.0,85.0,58000.0\\n1.0,1.0,2.0,81.0,25850.0\\n1.0,1.0,2.0,110.0,117647.0\\n1.0,1.0,2.0,81.0,59380.0\\n1.0,1.0,2.0,81.0,22500.0\\n1.0,1.0,2.0,81.0,66714.0\\n1.0,1.0,2.0,81.0,77000.0\\n1.0,1.0,2.0,81.0,60000.0\\n1.0,1.0,2.0,81.0,23500.0\\n1.0,1.0,2.0,81.0,68021.0\\n1.0,1.0,2.0,110.0,105908.0\\n1.0,1.0,1.0,85.0,45000.0\\n1.0,1.0,2.0,85.0,28364.0\\n1.0,1.0,0.0,85.0,1647.3626086956522\\n0.0,1.0,1.0,85.0,8200.0\\n1.0,1.0,1.0,85.0,25316.0\\n1.0,1.0,0.0,85.0,8497.0\\n1.0,1.0,0.0,85.0,14999.0\\n1.0,1.0,1.0,85.0,12900.0\\n1.0,1.0,1.0,85.0,5000.0\\n1.0,1.0,1.0,85.0,9861.0\\n1.0,1.0,1.0,85.0,19000.0\\n1.0,1.0,1.0,85.0,18500.0\\n1.0,1.0,1.0,85.0,26983.0\\n1.0,1.0,1.0,85.0,20000.0\\n1.0,1.0,1.0,85.0,29900.0\\n1.0,1.0,1.0,85.0,26490.0\\n1.0,1.0,1.0,85.0,17500.0\\n1.0,1.0,1.0,110.0,38400.0\\n1.0,1.0,1.0,85.0,39000.0\\n1.0,1.0,1.0,85.0,20000.0\\n1.0,1.0,1.0,85.0,19500.0\\n1.0,1.0,1.0,85.0,24421.0\\n1.0,1.0,1.0,85.0,19950.0\\n1.0,1.0,1.0,85.0,24421.0\\n0.0,1.0,1.0,85.0,27124.0\\n0.0,1.0,1.0,110.0,13180.0\\n0.0,1.0,1.0,85.0,23382.0\\n0.0,1.0,1.0,85.0,33781.0\\n0.0,1.0,1.0,85.0,27800.0\\n0.0,1.0,1.0,85.0,4980.0\\n0.0,1.0,1.0,110.0,15997.0\\n0.0,1.0,1.0,85.0,17823.0\\n0.0,1.0,1.0,110.0,14800.0\\n1.0,1.0,1.0,85.0,18000.0\\n0.0,1.0,1.0,85.0,6820.0\\n0.0,1.0,1.0,85.0,14216.0\\n0.0,1.0,1.0,85.0,14231.0\\n0.0,1.0,1.0,85.0,13839.0\\n0.0,1.0,0.0,85.0,1.0\\n0.0,1.0,1.0,85.0,10205.0\\n0.0,1.0,1.0,85.0,1.0\\n0.0,1.0,1.0,81.0,27815.0\\n0.0,1.0,1.0,85.0,5939.0\\n0.0,1.0,1.0,85.0,19440.0\\n0.0,1.0,1.0,85.0,19200.0\\n0.0,1.0,1.0,85.0,12900.0\\n0.0,1.0,1.0,85.0,14391.0\\n0.0,1.0,0.0,85.0,1.0\\n0.0,1.0,1.0,110.0,24205.0\\n0.0,1.0,1.0,85.0,20000.0\\n0.0,1.0,0.0,110.0,10.0\\n0.0,1.0,1.0,85.0,9990.0\\n0.0,1.0,1.0,85.0,20000.0\\n0.0,1.0,1.0,85.0,9800.0\\n0.0,1.0,1.0,110.0,18000.0\\n0.0,1.0,1.0,110.0,12103.0\\n0.0,1.0,1.0,85.0,19279.0\\n0.0,1.0,0.0,85.0,1.0\\n0.0,1.0,1.0,85.0,13450.0\\n0.0,1.0,1.0,85.0,15900.0\\n0.0,1.0,1.0,85.0,28161.0\\n0.0,1.0,1.0,85.0,12000.0\\n0.0,1.0,1.0,85.0,10395.0\\n0.0,1.0,1.0,85.0,23000.0\\n1.0,1.0,1.0,85.0,14000.0\\n1.0,1.0,1.0,85.0,41300.0\\n1.0,1.0,1.0,85.0,6075.0\\n1.0,1.0,1.0,85.0,9400.0\\n1.0,1.0,1.0,85.0,14186.0\\n1.0,1.0,1.0,85.0,15500.0\\n1.0,1.0,1.0,85.0,20300.0\\n1.0,1.0,1.0,85.0,22111.0\\n1.0,1.0,1.0,85.0,28039.0\\n1.0,1.0,1.0,85.0,21132.0\\n1.0,1.0,1.0,85.0,14800.0\\n1.0,1.0,1.0,85.0,19200.0\\n1.0,1.0,1.0,85.0,15000.0\\n1.0,1.0,1.0,85.0,19500.0\\n1.0,1.0,1.0,85.0,18500.0\\n1.0,1.0,0.0,85.0,1647.3626086956522\\n1.0,1.0,1.0,85.0,19500.0\\n1.0,1.0,1.0,85.0,18000.0\\n1.0,1.0,1.0,85.0,32191.0\\n1.0,1.0,1.0,85.0,16900.0\\n1.0,1.0,1.0,85.0,14463.0\\n1.0,1.0,1.0,85.0,8015.0\\n1.0,1.0,1.0,85.0,6265.0\\n1.0,1.0,1.0,85.0,9000.0\\n1.0,1.0,1.0,85.0,26174.0\\n1.0,1.0,1.0,110.0,25080.0\\n1.0,1.0,0.0,85.0,8000.0\\n1.0,1.0,1.0,85.0,17500.0\\n1.0,1.0,1.0,85.0,19980.0\\n1.0,1.0,1.0,85.0,4500.0\\n1.0,1.0,1.0,85.0,14450.0\\n1.0,1.0,1.0,85.0,22792.0\\n1.0,1.0,1.0,85.0,18000.0\\n1.0,1.0,1.0,85.0,16749.0\\n1.0,1.0,1.0,85.0,27200.0\\n1.0,1.0,1.0,85.0,22455.0\\n1.0,1.0,1.0,85.0,21511.0\\n1.0,1.0,1.0,85.0,27085.0\\n1.0,1.0,1.0,85.0,21308.0\\n1.0,1.0,1.0,85.0,32823.0\\n1.0,1.0,1.0,85.0,6830.0\\n1.0,1.0,1.0,85.0,13500.0\\n1.0,1.0,1.0,85.0,17000.0\\n1.0,1.0,0.0,85.0,14999.0\\n1.0,1.0,1.0,85.0,26000.0\\n1.0,1.0,1.0,85.0,21270.0\\n1.0,1.0,1.0,85.0,10.0\\n1.0,1.0,1.0,85.0,17720.0\\n1.0,1.0,1.0,85.0,27425.0\\n1.0,1.0,1.0,85.0,16100.0\\n1.0,1.0,1.0,85.0,19137.0\\n1.0,1.0,1.0,85.0,7988.0\\n1.0,1.0,1.0,85.0,8500.0\\n1.0,1.0,1.0,85.0,13812.0\\n1.0,1.0,1.0,85.0,4700.0\\n1.0,1.0,1.0,85.0,25940.0\\n1.0,1.0,1.0,85.0,25000.0\\n1.0,1.0,1.0,85.0,6648.0\\n1.0,1.0,1.0,85.0,5610.0\\n1.0,1.0,1.0,85.0,13259.0\\n0.0,1.0,0.0,110.0,10.0\\n0.0,1.0,0.0,85.0,3500.0\\n0.0,1.0,0.0,85.0,0.0\\n0.0,1.0,0.0,110.0,5.0\\n0.0,1.0,0.0,85.0,50.0\\n0.0,1.0,0.0,85.0,10.0\\n0.0,1.0,0.0,85.0,3400.0\\n0.0,1.0,0.0,85.0,1647.3626086956522\\n0.0,1.0,0.0,85.0,10.0\\n0.0,1.0,0.0,85.0,10.0\\n0.0,1.0,0.0,110.0,10.0\\n0.0,1.0,0.0,110.0,10.0\\n0.0,1.0,0.0,85.0,5000.0\\n0.0,1.0,0.0,85.0,7100.0\\n0.0,1.0,0.0,110.0,20.0\\n0.0,1.0,0.0,85.0,3250.0\\n0.0,1.0,0.0,110.0,20.0\\n0.0,1.0,0.0,85.0,1647.3626086956522\\n0.0,1.0,0.0,85.0,25.0\\n0.0,1.0,0.0,85.0,25.0\\n0.0,1.0,0.0,85.0,25.0\\n0.0,1.0,0.0,110.0,1647.3626086956522\\n0.0,1.0,0.0,85.0,50.0\\n0.0,1.0,0.0,85.0,1647.3626086956522\\n0.0,1.0,0.0,110.0,10.0\\n0.0,1.0,0.0,85.0,5000.0\\n0.0,1.0,0.0,110.0,10.0\\n0.0,1.0,0.0,85.0,100.0\\n0.0,1.0,0.0,110.0,10.0\\n0.0,1.0,0.0,110.0,10.0\\n0.0,1.0,0.0,85.0,1647.3626086956522\\n0.0,1.0,0.0,85.0,6600.0\\n0.0,1.0,0.0,85.0,100.0\\n0.0,1.0,0.0,96.0,1647.3626086956522\\n0.0,1.0,0.0,85.0,1647.3626086956522\\n0.0,1.0,0.0,85.0,5000.0\\n0.0,1.0,0.0,85.0,1647.3626086956522\\n0.0,1.0,0.0,85.0,1647.3626086956522\\n0.0,1.0,0.0,85.0,10.0\\n0.0,1.0,0.0,85.0,10.0\\n0.0,1.0,0.0,85.0,10.0\\n0.0,1.0,0.0,85.0,12500.0\\n0.0,1.0,0.0,85.0,500.0\\n0.0,1.0,0.0,110.0,1647.3626086956522\\n0.0,1.0,0.0,85.0,50.0\\n0.0,1.0,0.0,85.0,50.0\\n0.0,1.0,0.0,85.0,100.0\\n0.0,1.0,0.0,85.0,60.0\\n0.0,1.0,0.0,85.0,1.0\\n0.0,1.0,0.0,85.0,10.0\\n0.0,1.0,0.0,85.0,18000.0\\n0.0,1.0,0.0,85.0,1.0\\n0.0,1.0,0.0,85.0,1.0\\n0.0,1.0,0.0,85.0,10.0\\n0.0,1.0,0.0,85.0,10.0\\n0.0,1.0,0.0,110.0,1647.3626086956522\\n0.0,1.0,0.0,85.0,1.0\\n0.0,1.0,0.0,85.0,1.0\\n0.0,1.0,0.0,110.0,1.0\\n0.0,1.0,0.0,110.0,1647.3626086956522\\n0.0,1.0,0.0,85.0,1647.3626086956522\\n0.0,1.0,0.0,85.0,1.0\\n0.0,1.0,0.0,85.0,1.0\\n0.0,1.0,0.0,85.0,25.0\\n0.0,1.0,0.0,85.0,1.0\\n0.0,1.0,0.0,85.0,10.0\\n0.0,1.0,0.0,85.0,1988.0\\n0.0,1.0,0.0,85.0,10.0\\n0.0,1.0,0.0,85.0,10.0\\n0.0,1.0,0.0,85.0,10.0\\n0.0,1.0,0.0,85.0,80.0\\n1.0,1.0,0.0,85.0,1.0\\n1.0,1.0,0.0,85.0,1647.3626086956522\\n1.0,1.0,0.0,85.0,1647.3626086956522\\n1.0,1.0,0.0,85.0,300.0\\n1.0,1.0,0.0,85.0,10.0\\n1.0,1.0,0.0,85.0,10.0\\n1.0,1.0,0.0,85.0,126.0\\n1.0,1.0,0.0,85.0,1797.0\\n1.0,1.0,0.0,85.0,1001.0\\n1.0,1.0,0.0,85.0,10.0\\n1.0,1.0,0.0,85.0,6000.0\\n1.0,1.0,0.0,85.0,1647.3626086956522\\n1.0,1.0,0.0,85.0,1647.3626086956522\\n1.0,1.0,0.0,85.0,1647.3626086956522\\n1.0,1.0,0.0,85.0,3000.0\\n1.0,1.0,0.0,85.0,20.0\\n1.0,1.0,0.0,85.0,5.0\\n1.0,1.0,0.0,85.0,5000.0\\n1.0,1.0,0.0,85.0,5500.0\\n1.0,1.0,0.0,85.0,1647.3626086956522\\n1.0,1.0,0.0,85.0,30.0\\n1.0,1.0,0.0,110.0,1647.3626086956522\\n1.0,1.0,0.0,110.0,10.0\\n1.0,1.0,0.0,85.0,10.0\\n1.0,1.0,0.0,110.0,10.0\\n1.0,1.0,0.0,110.0,5.0\\n1.0,1.0,0.0,85.0,47.0\\n1.0,1.0,0.0,110.0,10.0\\n1.0,1.0,0.0,85.0,50.0\\n1.0,1.0,0.0,85.0,100.0\\n1.0,1.0,0.0,85.0,10.0\\n1.0,1.0,0.0,85.0,1647.3626086956522\\n1.0,1.0,0.0,85.0,10.0\\n1.0,1.0,0.0,85.0,10.0\\n1.0,1.0,0.0,85.0,10.0\\n1.0,1.0,0.0,85.0,10.0\\n1.0,1.0,0.0,85.0,10.0\\n1.0,1.0,0.0,85.0,1.0\\n1.0,1.0,0.0,85.0,28.0\\n1.0,1.0,0.0,85.0,50.0\\n1.0,1.0,0.0,85.0,1.0\\n1.0,1.0,0.0,85.0,1.0\\n1.0,1.0,0.0,85.0,100.0\\n1.0,1.0,0.0,85.0,50.0\\n1.0,1.0,0.0,85.0,1647.3626086956522\\n1.0,1.0,0.0,85.0,10.0\\n1.0,1.0,0.0,110.0,1.0\\n1.0,1.0,0.0,85.0,22.0\\n1.0,1.0,0.0,85.0,10.0\\n1.0,1.0,0.0,85.0,4500.0\\n1.0,1.0,0.0,85.0,10.0\\n1.0,1.0,0.0,85.0,10.0\\n1.0,1.0,0.0,85.0,10.0\\n1.0,1.0,0.0,85.0,1647.3626086956522\\n1.0,1.0,0.0,110.0,1647.3626086956522\\n1.0,1.0,0.0,85.0,80.0\\n1.0,1.0,0.0,85.0,10.0\\n1.0,1.0,0.0,85.0,80.0\\n1.0,1.0,0.0,85.0,10.0\\n1.0,1.0,0.0,85.0,10.0\\n1.0,1.0,0.0,85.0,8000.0\\n1.0,1.0,0.0,85.0,42.0\\n1.0,1.0,0.0,85.0,43.0\\n1.0,1.0,0.0,85.0,0.0\\n1.0,1.0,0.0,85.0,1647.3626086956522\\n1.0,1.0,0.0,85.0,50.0\\n1.0,1.0,0.0,85.0,102.0\\n1.0,1.0,0.0,85.0,1647.3626086956522\\n1.0,1.0,0.0,85.0,6000.0\\n1.0,1.0,0.0,85.0,10.0\\n0.0,2.0,3.0,100.0,87000.0\\n0.0,2.0,1.0,100.0,28023.0\\n0.0,2.0,3.0,100.0,16800.0\\n0.0,2.0,3.0,100.0,36020.0\\n0.0,2.0,3.0,110.0,84000.0\\n0.0,2.0,3.0,100.0,64000.0\\n0.0,2.0,3.0,100.0,47011.0\\n0.0,2.0,3.0,77.0,34209.0\\n0.0,2.0,3.0,77.0,59540.0\\n0.0,2.0,1.0,100.0,49990.0\\n0.0,2.0,3.0,100.0,58021.0\\n0.0,2.0,3.0,100.0,97450.0\\n0.0,2.0,2.0,110.0,89000.0\\n0.0,2.0,3.0,110.0,42340.0\\n0.0,2.0,1.0,100.0,54923.0\\n0.0,2.0,3.0,110.0,51488.0\\n0.0,2.0,3.0,100.0,52500.0\\n0.0,2.0,2.0,110.0,26009.0\\n0.0,2.0,3.0,100.0,75700.0\\n0.0,2.0,3.0,100.0,36827.0\\n0.0,2.0,3.0,100.0,33000.0\\n0.0,2.0,3.0,100.0,37621.0\\n0.0,2.0,3.0,100.0,37456.0\\n0.0,2.0,3.0,100.0,48900.0\\n0.0,2.0,2.0,110.0,15200.0\\n0.0,2.0,2.0,100.0,63594.0\\n0.0,2.0,1.0,100.0,29171.0\\n0.0,2.0,3.0,70.0,90250.0\\n0.0,2.0,3.0,100.0,69000.0\\n0.0,2.0,3.0,100.0,49704.0\\n0.0,2.0,2.0,100.0,66535.0\\n0.0,2.0,1.0,110.0,14600.0\\n0.0,2.0,1.0,100.0,43344.0\\n0.0,2.0,2.0,100.0,43000.0\\n0.0,2.0,3.0,100.0,42000.0\\n0.0,2.0,3.0,100.0,92000.0\\n0.0,2.0,3.0,103.0,72700.0\\n0.0,2.0,3.0,103.0,20940.0\\n0.0,2.0,3.0,77.0,33952.0\\n0.0,2.0,3.0,100.0,54190.0\\n0.0,2.0,2.0,77.0,24826.0\\n0.0,2.0,3.0,100.0,29000.0\\n0.0,2.0,2.0,100.0,117593.0\\n0.0,2.0,2.0,100.0,85000.0\\n0.0,2.0,3.0,100.0,45537.0\\n0.0,2.0,3.0,110.0,80000.0\\n0.0,2.0,3.0,100.0,81545.0\\n0.0,2.0,3.0,100.0,105688.0\\n0.0,2.0,3.0,100.0,73359.0\\n0.0,2.0,2.0,100.0,63900.0\\n0.0,2.0,2.0,100.0,46300.0\\n0.0,2.0,2.0,100.0,87000.0\\n0.0,2.0,1.0,77.0,36000.0\\n0.0,2.0,3.0,100.0,106340.0\\n0.0,2.0,3.0,100.0,104590.0\\n0.0,2.0,3.0,77.0,11845.0\\n0.0,2.0,3.0,100.0,97000.0\\n0.0,2.0,3.0,100.0,103000.0\\n0.0,2.0,2.0,100.0,97000.0\\n0.0,2.0,2.0,100.0,87000.0\\n0.0,2.0,3.0,85.0,66750.0\\n0.0,2.0,3.0,100.0,99000.0\\n0.0,2.0,2.0,100.0,74349.0\\n0.0,2.0,2.0,100.0,79000.0\\n0.0,2.0,2.0,100.0,79000.0\\n0.0,2.0,2.0,100.0,121210.0\\n0.0,2.0,2.0,77.0,57702.0\\n0.0,2.0,3.0,100.0,104650.0\\n0.0,2.0,3.0,100.0,120840.0\\n0.0,2.0,3.0,100.0,117500.0\\n0.0,2.0,2.0,77.0,70000.0\\n0.0,2.0,3.0,100.0,112388.0\\n0.0,2.0,2.0,77.0,69377.0\\n0.0,2.0,3.0,100.0,187864.0\\n1.0,2.0,3.0,70.0,68527.0\\n1.0,2.0,2.0,81.0,62000.0\\n1.0,2.0,2.0,81.0,69000.0\\n1.0,2.0,3.0,81.0,95000.0\\n1.0,2.0,3.0,77.0,49900.0\\n1.0,2.0,3.0,81.0,87475.0\\n1.0,2.0,3.0,100.0,68000.0\\n1.0,2.0,3.0,81.0,48378.0\\n1.0,2.0,3.0,81.0,90000.0\\n1.0,2.0,2.0,81.0,70725.0\\n1.0,2.0,3.0,85.0,62000.0\\n1.0,2.0,2.0,81.0,80272.0\\n1.0,2.0,3.0,81.0,81000.0\\n1.0,2.0,2.0,81.0,84471.0\\n1.0,2.0,3.0,81.0,99750.0\\n1.0,2.0,2.0,81.0,91000.0\\n1.0,2.0,2.0,81.0,68000.0\\n1.0,2.0,3.0,81.0,85578.0\\n1.0,2.0,3.0,74.0,40144.0\\n1.0,2.0,3.0,118.0,155262.0\\n1.0,2.0,3.0,81.0,119373.0\\n1.0,2.0,3.0,85.0,50000.0\\n1.0,2.0,3.0,81.0,72900.0\\n1.0,2.0,3.0,81.0,102928.0\\n1.0,2.0,3.0,100.0,77668.0\\n1.0,2.0,2.0,100.0,144063.0\\n1.0,2.0,3.0,74.0,69000.0\\n1.0,2.0,2.0,81.0,157391.0\\n1.0,2.0,3.0,103.0,85000.0\\n1.0,2.0,3.0,81.0,199000.0\\n1.0,2.0,3.0,81.0,150000.0\\n1.0,2.0,3.0,81.0,107565.0\\n1.0,2.0,3.0,81.0,125324.0\\n1.0,2.0,3.0,81.0,123095.0\\n1.0,2.0,3.0,81.0,158088.0\\n1.0,2.0,3.0,81.0,178000.0\\n1.0,2.0,3.0,100.0,78000.0\\n1.0,2.0,3.0,85.0,68500.0\\n1.0,2.0,3.0,81.0,118000.0\\n1.0,2.0,2.0,81.0,144200.0\\n1.0,2.0,3.0,81.0,75900.0\\n1.0,2.0,3.0,81.0,88000.0\\n1.0,2.0,3.0,81.0,78000.0\\n1.0,2.0,3.0,81.0,98570.0\\n1.0,2.0,3.0,81.0,98723.0\\n1.0,2.0,3.0,100.0,153047.0\\n1.0,2.0,3.0,81.0,94089.0\\n1.0,2.0,3.0,81.0,64500.0\\n1.0,2.0,3.0,100.0,95000.0\\n1.0,2.0,3.0,100.0,127986.0\\n1.0,2.0,3.0,81.0,99875.0\\n1.0,2.0,3.0,81.0,131800.0\\n1.0,2.0,3.0,77.0,36600.0\\n0.0,2.0,2.0,110.0,21379.0\\n0.0,2.0,2.0,110.0,21379.0\\n0.0,2.0,2.0,110.0,36527.0\\n0.0,2.0,2.0,110.0,24278.0\\n0.0,2.0,3.0,110.0,45922.0\\n1.0,2.0,3.0,81.0,89000.0\\n1.0,2.0,3.0,70.0,122625.0\\n1.0,2.0,3.0,81.0,117583.0\\n1.0,2.0,3.0,81.0,149790.0\\n1.0,2.0,3.0,81.0,167322.0\\n1.0,2.0,3.0,81.0,70000.0\\n1.0,2.0,2.0,81.0,64081.0\\n2.0,2.0,3.0,77.0,16088.0\\n1.0,2.0,3.0,81.0,100311.0\\n1.0,2.0,3.0,81.0,84900.0\\n1.0,2.0,3.0,103.0,81490.0\\n1.0,2.0,3.0,70.0,88909.0\\n1.0,2.0,3.0,100.0,107791.0\\n1.0,2.0,3.0,118.0,153000.0\\n1.0,2.0,2.0,81.0,77619.0\\n2.0,2.0,2.0,77.0,39350.0\\n2.0,2.0,2.0,77.0,15300.0\\n1.0,2.0,3.0,100.0,100000.0\\n1.0,2.0,3.0,77.0,40665.0\\n1.0,2.0,2.0,70.0,71000.0\\n1.0,2.0,3.0,110.0,61000.0\\n1.0,2.0,3.0,81.0,82000.0\\n1.0,2.0,3.0,81.0,110900.0\\n1.0,2.0,3.0,81.0,99000.0\\n1.0,2.0,3.0,81.0,95900.0\\n0.0,2.0,1.0,77.0,29148.0\\n0.0,2.0,0.0,110.0,17.0\\n0.0,2.0,0.0,110.0,17.0\\n0.0,2.0,1.0,110.0,31900.0\\n0.0,2.0,1.0,110.0,13743.0\\n1.0,2.0,2.0,74.0,3898.0\\n1.0,2.0,2.0,74.0,3898.0\\n1.0,2.0,2.0,70.0,80754.0\\n1.0,2.0,2.0,74.0,3898.0\\n1.0,2.0,2.0,81.0,75035.0\\n1.0,2.0,2.0,74.0,3898.0\\n1.0,2.0,2.0,74.0,3898.0\\n1.0,2.0,2.0,74.0,3898.0\\n1.0,2.0,2.0,81.0,35000.0\\n0.0,2.0,1.0,110.0,15900.0\\n0.0,2.0,1.0,110.0,29195.0\\n0.0,2.0,1.0,110.0,25107.0\\n0.0,2.0,1.0,110.0,14754.0\\n0.0,2.0,1.0,110.0,25078.0\\n0.0,2.0,1.0,110.0,30298.0\\n0.0,2.0,1.0,110.0,23386.0\\n0.0,2.0,1.0,110.0,24853.0\\n0.0,2.0,2.0,110.0,14234.0\\n0.0,2.0,2.0,100.0,45085.0\\n0.0,2.0,1.0,110.0,24667.0\\n0.0,2.0,1.0,110.0,24245.0\\n0.0,2.0,1.0,110.0,28978.0\\n0.0,2.0,1.0,110.0,22368.0\\n0.0,2.0,2.0,110.0,53836.0\\n0.0,2.0,1.0,110.0,29980.0\\n0.0,2.0,1.0,110.0,29750.0\\n0.0,2.0,1.0,100.0,28928.0\\n0.0,2.0,1.0,100.0,7517.0\\n0.0,2.0,2.0,110.0,29644.0\\n0.0,2.0,2.0,100.0,42000.0\\n0.0,2.0,2.0,110.0,62000.0\\n0.0,2.0,1.0,77.0,12219.0\\n0.0,2.0,2.0,100.0,22475.0\\n0.0,2.0,2.0,77.0,43847.0\\n0.0,2.0,1.0,100.0,22200.0\\n0.0,2.0,2.0,77.0,37770.0\\n0.0,2.0,1.0,110.0,24938.0\\n0.0,2.0,1.0,100.0,43344.0\\n0.0,2.0,1.0,110.0,17000.0\\n0.0,2.0,2.0,100.0,32000.0\\n0.0,2.0,2.0,100.0,1300.0\\n1.0,2.0,2.0,74.0,25438.0\\n1.0,2.0,2.0,81.0,19000.0\\n1.0,2.0,2.0,81.0,90457.0\\n1.0,2.0,1.0,81.0,50000.0\\n1.0,2.0,2.0,81.0,37527.0\\n1.0,2.0,2.0,81.0,40306.0\\n1.0,2.0,1.0,74.0,11268.0\\n1.0,2.0,1.0,77.0,12179.0\\n1.0,2.0,2.0,77.0,6493.0\\n1.0,2.0,2.0,81.0,64000.0\\n1.0,2.0,2.0,81.0,30322.0\\n1.0,2.0,2.0,74.0,53951.0\\n1.0,2.0,2.0,81.0,28861.0\\n1.0,2.0,2.0,81.0,37527.0\\n1.0,2.0,2.0,81.0,37527.0\\n1.0,2.0,2.0,81.0,75000.0\\n1.0,2.0,2.0,81.0,49554.0\\n1.0,2.0,2.0,81.0,49800.0\\n1.0,2.0,2.0,77.0,87015.0\\n1.0,2.0,2.0,81.0,37527.0\\n1.0,2.0,2.0,81.0,53855.0\\n1.0,2.0,2.0,81.0,32900.0\\n1.0,2.0,1.0,77.0,15900.0\\n1.0,2.0,2.0,81.0,15146.0\\n1.0,2.0,2.0,81.0,62929.0\\n1.0,2.0,2.0,81.0,39727.0\\n1.0,2.0,2.0,81.0,48842.0\\n1.0,2.0,2.0,74.0,54444.0\\n1.0,2.0,2.0,100.0,49800.0\\n1.0,2.0,2.0,81.0,39041.0\\n1.0,2.0,2.0,81.0,30368.0\\n1.0,2.0,2.0,81.0,30368.0\\n1.0,2.0,2.0,81.0,46795.0\\n1.0,2.0,2.0,81.0,46795.0\\n1.0,2.0,2.0,81.0,100000.0\\n1.0,2.0,2.0,77.0,45073.0\\n1.0,2.0,2.0,81.0,47000.0\\n1.0,2.0,2.0,81.0,73000.0\\n1.0,2.0,2.0,81.0,53041.0\\n1.0,2.0,2.0,81.0,26986.0\\n1.0,2.0,2.0,100.0,14465.0\\n1.0,2.0,2.0,81.0,41000.0\\n1.0,2.0,2.0,81.0,86300.0\\n1.0,2.0,1.0,81.0,57000.0\\n1.0,2.0,2.0,70.0,93784.0\\n1.0,2.0,2.0,81.0,1550.0\\n1.0,2.0,2.0,81.0,21896.0\\n1.0,2.0,2.0,100.0,70090.0\\n1.0,2.0,2.0,81.0,65666.0\\n1.0,2.0,2.0,81.0,38000.0\\n1.0,2.0,2.0,81.0,83436.0\\n1.0,2.0,2.0,70.0,66767.0\\n1.0,2.0,2.0,81.0,69186.0\\n1.0,2.0,2.0,92.0,39754.0\\n1.0,2.0,2.0,92.0,39754.0\\n1.0,2.0,2.0,92.0,39754.0\\n1.0,2.0,2.0,92.0,79352.0\\n1.0,2.0,2.0,81.0,42113.0\\n1.0,2.0,2.0,81.0,72834.0\\n1.0,2.0,2.0,81.0,50000.0\\n1.0,2.0,2.0,81.0,46188.0\\n1.0,2.0,2.0,81.0,46188.0\\n1.0,2.0,2.0,81.0,52327.0\\n1.0,2.0,2.0,81.0,45066.0\\n1.0,2.0,2.0,110.0,62384.0\\n1.0,2.0,2.0,81.0,48939.0\\n0.0,2.0,1.0,110.0,18400.0\\n0.0,2.0,1.0,110.0,24106.0\\n0.0,2.0,1.0,110.0,19000.0\\n0.0,2.0,1.0,100.0,31600.0\\n0.0,2.0,1.0,110.0,28326.0\\n0.0,2.0,1.0,110.0,28305.0\\n0.0,2.0,1.0,110.0,24100.0\\n0.0,2.0,0.0,100.0,1501.0\\n0.0,2.0,1.0,110.0,28084.0\\n0.0,2.0,1.0,110.0,20210.0\\n0.0,2.0,1.0,100.0,50.0\\n0.0,2.0,1.0,110.0,23950.0\\n0.0,2.0,1.0,110.0,35600.0\\n0.0,2.0,1.0,110.0,24700.0\\n0.0,2.0,1.0,110.0,15000.0\\n0.0,2.0,1.0,110.0,23486.0\\n0.0,2.0,1.0,100.0,28791.0\\n0.0,2.0,1.0,110.0,14780.0\\n0.0,2.0,1.0,110.0,10296.0\\n0.0,2.0,0.0,100.0,1647.3626086956522\\n0.0,2.0,1.0,100.0,19018.0\\n0.0,2.0,1.0,110.0,28656.0\\n0.0,2.0,1.0,100.0,28563.0\\n0.0,2.0,1.0,100.0,29060.0\\n0.0,2.0,1.0,110.0,29050.0\\n0.0,2.0,1.0,110.0,19200.0\\n0.0,2.0,1.0,110.0,29921.0\\n0.0,2.0,1.0,110.0,28960.0\\n0.0,2.0,1.0,110.0,28960.0\\n0.0,2.0,1.0,110.0,14500.0\\n0.0,2.0,1.0,110.0,16724.0\\n0.0,2.0,1.0,110.0,29310.0\\n0.0,2.0,1.0,110.0,29782.0\\n0.0,2.0,1.0,110.0,23900.0\\n0.0,2.0,1.0,110.0,20800.0\\n0.0,2.0,1.0,77.0,23860.0\\n0.0,2.0,1.0,100.0,32000.0\\n0.0,2.0,1.0,110.0,29986.0\\n0.0,2.0,1.0,110.0,22842.0\\n0.0,2.0,0.0,110.0,3260.0\\n0.0,2.0,1.0,110.0,20100.0\\n0.0,2.0,1.0,110.0,29870.0\\n0.0,2.0,1.0,110.0,29350.0\\n0.0,2.0,1.0,110.0,28843.0\\n0.0,2.0,1.0,110.0,9000.0\\n0.0,2.0,1.0,110.0,19388.0\\n0.0,2.0,1.0,100.0,29200.0\\n0.0,2.0,1.0,110.0,14470.0\\n0.0,2.0,1.0,100.0,19000.0\\n0.0,2.0,1.0,100.0,24542.0\\n0.0,2.0,1.0,110.0,19800.0\\n0.0,2.0,1.0,110.0,25623.0\\n0.0,2.0,1.0,110.0,28988.0\\n0.0,2.0,1.0,110.0,13581.0\\n0.0,2.0,1.0,100.0,11300.0\\n1.0,2.0,1.0,92.0,17463.0\\n1.0,2.0,1.0,81.0,31600.0\\n1.0,2.0,1.0,77.0,16857.0\\n1.0,2.0,1.0,81.0,1501.0\\n1.0,2.0,1.0,77.0,22800.0\\n1.0,2.0,1.0,110.0,25520.0\\n1.0,2.0,1.0,110.0,24973.0\\n1.0,2.0,0.0,77.0,1.0\\n1.0,2.0,1.0,92.0,37246.0\\n1.0,2.0,0.0,74.0,1647.3626086956522\\n1.0,2.0,1.0,81.0,14250.0\\n1.0,2.0,1.0,81.0,18035.130066815145\\n1.0,2.0,1.0,100.0,28850.0\\n1.0,2.0,1.0,77.0,27100.0\\n1.0,2.0,1.0,81.0,1000.0\\n1.0,2.0,1.0,92.0,16483.0\\n1.0,2.0,1.0,92.0,25350.0\\n1.0,2.0,1.0,81.0,17415.0\\n1.0,2.0,1.0,77.0,13515.0\\n1.0,2.0,1.0,81.0,32490.0\\n1.0,2.0,0.0,66.0,8.0\\n1.0,2.0,1.0,100.0,28282.0\\n1.0,2.0,1.0,92.0,25887.0\\n1.0,2.0,1.0,110.0,28629.0\\n1.0,2.0,1.0,77.0,21628.0\\n1.0,2.0,3.0,118.0,68485.0\\n1.0,2.0,1.0,77.0,20900.0\\n1.0,2.0,1.0,81.0,17500.0\\n1.0,2.0,1.0,81.0,27318.0\\n1.0,2.0,1.0,92.0,6400.0\\n1.0,2.0,1.0,81.0,5555.0\\n1.0,2.0,1.0,92.0,18217.0\\n1.0,2.0,1.0,81.0,5551.0\\n1.0,2.0,1.0,92.0,14302.0\\n1.0,2.0,1.0,77.0,17370.0\\n1.0,2.0,0.0,66.0,10.0\\n1.0,2.0,1.0,92.0,1501.0\\n1.0,2.0,1.0,81.0,7144.0\\n1.0,2.0,1.0,66.0,6800.0\\n1.0,2.0,1.0,77.0,10871.0\\n1.0,2.0,1.0,77.0,8000.0\\n1.0,2.0,1.0,92.0,28850.0\\n1.0,2.0,1.0,70.0,13100.0\\n1.0,2.0,1.0,77.0,21488.0\\n1.0,2.0,1.0,81.0,7200.0\\n1.0,2.0,1.0,77.0,19600.0\\n1.0,2.0,1.0,81.0,20040.0\\n1.0,2.0,1.0,81.0,8495.0\\n1.0,2.0,1.0,100.0,24375.0\\n1.0,2.0,1.0,77.0,13208.0\\n1.0,2.0,1.0,77.0,22000.0\\n1.0,2.0,1.0,81.0,9212.0\\n1.0,2.0,1.0,77.0,24000.0\\n1.0,2.0,1.0,74.0,11176.0\\n1.0,2.0,1.0,77.0,25000.0\\n1.0,2.0,1.0,81.0,19327.0\\n1.0,2.0,1.0,81.0,19327.0\\n1.0,2.0,1.0,100.0,20468.0\\n1.0,2.0,1.0,92.0,27063.0\\n1.0,2.0,1.0,92.0,29464.0\\n1.0,2.0,1.0,81.0,40000.0\\n1.0,2.0,1.0,81.0,13149.0\\n1.0,2.0,1.0,92.0,12966.0\\n1.0,2.0,1.0,77.0,14008.0\\n1.0,2.0,1.0,77.0,16667.0\\n1.0,2.0,1.0,77.0,25000.0\\n1.0,2.0,1.0,100.0,24000.0\\n1.0,2.0,1.0,77.0,11084.0\\n1.0,2.0,1.0,92.0,23755.0\\n1.0,2.0,1.0,81.0,34820.0\\n1.0,2.0,1.0,92.0,25360.0\\n1.0,2.0,1.0,92.0,23309.0\\n0.0,2.0,0.0,110.0,7060.0\\n0.0,2.0,0.0,147.0,1647.3626086956522\\n0.0,2.0,0.0,110.0,1647.3626086956522\\n0.0,2.0,0.0,147.0,2000.0\\n0.0,2.0,0.0,147.0,5.0\\n0.0,2.0,0.0,110.0,30.0\\n0.0,2.0,0.0,147.0,5.0\\n0.0,2.0,0.0,110.0,10.0\\n0.0,2.0,0.0,147.0,10500.0\\n0.0,2.0,0.0,110.0,50.0\\n0.0,2.0,0.0,110.0,5.0\\n0.0,2.0,0.0,110.0,8000.0\\n0.0,2.0,0.0,110.0,10.0\\n0.0,2.0,0.0,81.0,10.0\\n0.0,2.0,0.0,147.0,300.0\\n0.0,2.0,0.0,147.0,12366.0\\n0.0,2.0,0.0,100.0,20.0\\n0.0,2.0,0.0,147.0,7.0\\n0.0,2.0,0.0,100.0,1500.0\\n0.0,2.0,0.0,110.0,12.0\\n0.0,2.0,0.0,110.0,1500.0\\n0.0,2.0,0.0,110.0,100.0\\n0.0,2.0,0.0,112.0,1500.0\\n0.0,2.0,0.0,110.0,301.0\\n0.0,2.0,0.0,110.0,100.0\\n0.0,2.0,0.0,110.0,1647.3626086956522\\n0.0,2.0,0.0,110.0,3000.0\\n0.0,2.0,0.0,110.0,7782.0\\n0.0,2.0,0.0,147.0,1647.3626086956522\\n0.0,2.0,0.0,110.0,51.0\\n0.0,2.0,0.0,100.0,1647.3626086956522\\n0.0,2.0,0.0,110.0,4950.0\\n0.0,2.0,0.0,100.0,1647.3626086956522\\n0.0,2.0,0.0,147.0,1647.3626086956522\\n0.0,2.0,0.0,147.0,1647.3626086956522\\n0.0,2.0,0.0,110.0,5.0\\n0.0,2.0,0.0,110.0,1647.3626086956522\\n0.0,2.0,0.0,100.0,10.0\\n0.0,2.0,0.0,110.0,1647.3626086956522\\n0.0,2.0,0.0,110.0,4999.0\\n0.0,2.0,0.0,110.0,12.0\\n0.0,2.0,0.0,110.0,8068.0\\n0.0,2.0,0.0,110.0,1647.3626086956522\\n0.0,2.0,0.0,100.0,1647.3626086956522\\n0.0,2.0,0.0,100.0,1647.3626086956522\\n0.0,2.0,0.0,110.0,1647.3626086956522\\n0.0,2.0,0.0,147.0,1.0\\n0.0,2.0,0.0,110.0,1500.0\\n0.0,2.0,0.0,100.0,1.0\\n0.0,2.0,0.0,100.0,1.0\\n0.0,2.0,0.0,110.0,5000.0\\n0.0,2.0,0.0,110.0,20.0\\n0.0,2.0,0.0,110.0,3000.0\\n0.0,2.0,0.0,110.0,20.0\\n0.0,2.0,0.0,110.0,20.0\\n0.0,2.0,0.0,110.0,20.0\\n0.0,2.0,0.0,100.0,10000.0\\n0.0,2.0,0.0,110.0,13200.0\\n1.0,2.0,0.0,77.0,1647.3626086956522\\n1.0,2.0,0.0,66.0,111.0\\n1.0,2.0,0.0,77.0,3698.0\\n1.0,2.0,0.0,92.0,5500.0\\n1.0,2.0,0.0,100.0,10182.0\\n1.0,2.0,0.0,70.0,1647.3626086956522\\n1.0,2.0,0.0,81.0,6.0\\n1.0,2.0,0.0,81.0,6.0\\n1.0,2.0,0.0,66.0,1459.0\\n1.0,2.0,0.0,66.0,5.0\\n1.0,2.0,0.0,92.0,7.0\\n1.0,2.0,0.0,81.0,3000.0\\n1.0,2.0,0.0,81.0,3000.0\\n1.0,2.0,0.0,81.0,1.0\\n1.0,2.0,0.0,77.0,2627.0\\n1.0,2.0,0.0,77.0,1647.3626086956522\\n1.0,2.0,0.0,77.0,1647.3626086956522\\n1.0,2.0,0.0,66.0,1647.3626086956522\\n1.0,2.0,0.0,77.0,1647.3626086956522\\n1.0,2.0,0.0,66.0,10.0\\n1.0,2.0,0.0,77.0,1647.3626086956522\\n1.0,2.0,0.0,77.0,10.0\\n1.0,2.0,0.0,77.0,5.0\\n1.0,2.0,0.0,77.0,1647.3626086956522\\n1.0,2.0,0.0,100.0,4.0\\n1.0,2.0,0.0,110.0,27714.0\\n1.0,2.0,0.0,78.0,1647.3626086956522\\n1.0,2.0,0.0,77.0,1647.3626086956522\\n1.0,2.0,0.0,77.0,10.0\\n1.0,2.0,0.0,77.0,8020.0\\n1.0,2.0,0.0,66.0,10.0\\n1.0,2.0,0.0,77.0,1.0\\n1.0,2.0,0.0,66.0,4999.0\\n1.0,2.0,0.0,66.0,4999.0\\n1.0,2.0,0.0,66.0,10.0\\n1.0,2.0,0.0,110.0,10.0\\n1.0,2.0,0.0,110.0,10.0\\n1.0,2.0,0.0,77.0,4000.0\\n1.0,2.0,0.0,77.0,1647.3626086956522\\n1.0,2.0,0.0,77.0,1.0\\n1.0,2.0,0.0,92.0,1647.3626086956522\\n1.0,2.0,0.0,70.0,1647.3626086956522\\n1.0,2.0,0.0,92.0,0.0\\n1.0,2.0,0.0,92.0,2500.0\\n1.0,2.0,0.0,92.0,1647.3626086956522\\n1.0,2.0,0.0,100.0,7500.0\\n1.0,2.0,0.0,92.0,40.0\\n1.0,2.0,0.0,92.0,5000.0\\n1.0,2.0,0.0,92.0,1999.0\\n1.0,2.0,0.0,92.0,25.0\\n1.0,2.0,0.0,92.0,25.0\\n1.0,2.0,0.0,92.0,5900.0\\n1.0,2.0,0.0,92.0,10.0\\n1.0,2.0,0.0,77.0,1162.0\\n1.0,2.0,0.0,81.0,1647.3626086956522\\n1.0,2.0,0.0,92.0,3500.0\\n1.0,2.0,0.0,92.0,1.0\\n1.0,2.0,0.0,77.0,1647.3626086956522\\n1.0,2.0,0.0,77.0,1.0\\n1.0,2.0,0.0,81.0,3.0\\n1.0,2.0,0.0,77.0,1647.3626086956522\\n1.0,2.0,0.0,92.0,1000.0\\n1.0,2.0,0.0,92.0,1647.3626086956522\\n1.0,2.0,0.0,81.0,6238.0\\n1.0,2.0,0.0,92.0,1647.3626086956522\\n1.0,2.0,0.0,81.0,4669.0\\n1.0,2.0,0.0,110.0,10.0\\n1.0,2.0,0.0,77.0,7000.0\\n1.0,2.0,0.0,81.0,10.0\\n1.0,2.0,0.0,92.0,8000.0\\n1.0,2.0,0.0,92.0,100.0\\n1.0,2.0,0.0,77.0,10.0\\n1.0,2.0,0.0,110.0,15058.0\\n1.0,2.0,0.0,77.0,1647.3626086956522\\n1.0,2.0,0.0,92.0,50.0\\n1.0,2.0,0.0,92.0,50.0\\n0.0,3.0,1.0,66.0,24005.0\\n0.0,3.0,1.0,66.0,20813.0\\n0.0,3.0,0.0,66.0,900.0\\n0.0,3.0,1.0,66.0,4500.0\\n0.0,3.0,1.0,66.0,5213.0\\n0.0,3.0,1.0,66.0,15300.0\\n0.0,3.0,1.0,66.0,9196.0\\n0.0,3.0,1.0,66.0,20000.0\\n0.0,3.0,0.0,66.0,5.0\\n0.0,3.0,1.0,66.0,5.0\\n0.0,3.0,3.0,66.0,3700.0\\n0.0,3.0,0.0,66.0,5300.0\\n0.0,3.0,1.0,66.0,8000.0\\n0.0,3.0,0.0,66.0,1.0\\n0.0,3.0,1.0,66.0,6960.0\\n0.0,3.0,1.0,66.0,14200.0\\n0.0,3.0,1.0,66.0,10500.0\\n0.0,3.0,1.0,66.0,13900.0\\n0.0,3.0,1.0,66.0,31300.0\\n0.0,3.0,1.0,66.0,5689.0\\n0.0,3.0,2.0,66.0,7999.0\\n0.0,3.0,3.0,66.0,20587.0\\n0.0,3.0,0.0,66.0,10.0\\n0.0,3.0,0.0,66.0,10.0\\n0.0,3.0,2.0,66.0,7600.0\\n0.0,3.0,1.0,66.0,11526.0\\n0.0,3.0,1.0,66.0,16400.0\\n0.0,3.0,1.0,66.0,17186.0\\n0.0,3.0,2.0,66.0,10486.0\\n0.0,3.0,3.0,66.0,52000.0\\n0.0,3.0,3.0,66.0,38000.0\\n0.0,3.0,1.0,66.0,4900.0\\n0.0,3.0,2.0,66.0,18273.0\\n0.0,3.0,2.0,66.0,54251.0\\n0.0,3.0,1.0,66.0,19980.0\\n0.0,3.0,3.0,66.0,19644.0\\n0.0,3.0,2.0,66.0,31700.0\\n0.0,3.0,2.0,66.0,5500.0\\n0.0,3.0,2.0,66.0,63350.0\\n0.0,3.0,3.0,66.0,39000.0\\n0.0,3.0,1.0,66.0,12460.0\\n0.0,3.0,3.0,66.0,63600.0\\n0.0,3.0,2.0,66.0,22500.0\\n0.0,3.0,3.0,66.0,12710.0\\n0.0,3.0,1.0,66.0,12710.0\\n0.0,3.0,1.0,66.0,21900.0\\n0.0,3.0,3.0,66.0,17653.0\\n0.0,3.0,2.0,66.0,8000.0\\n0.0,3.0,1.0,66.0,17900.0\\n0.0,3.0,2.0,66.0,35000.0\\n0.0,3.0,2.0,66.0,54251.0\\n0.0,3.0,1.0,66.0,12526.0\\n0.0,3.0,3.0,70.0,30000.0\\n0.0,3.0,2.0,70.0,57963.0\\n0.0,3.0,2.0,66.0,33500.0\\n0.0,3.0,2.0,66.0,10763.0\\n0.0,3.0,3.0,66.0,86390.0\\n0.0,3.0,3.0,66.0,88530.0\\n0.0,3.0,3.0,66.0,45636.0\\n0.0,3.0,2.0,66.0,99.0\\n1.0,3.0,2.0,55.0,54000.0\\n1.0,3.0,3.0,51.0,59000.0\\n1.0,3.0,3.0,51.0,38000.0\\n1.0,3.0,2.0,55.0,116184.0\\n1.0,3.0,3.0,51.0,48000.0\\n1.0,3.0,3.0,66.0,37000.0\\n1.0,3.0,3.0,66.0,61000.0\\n1.0,3.0,3.0,51.0,47740.0\\n1.0,3.0,3.0,51.0,38500.0\\n1.0,3.0,3.0,66.0,48909.0\\n1.0,3.0,2.0,51.0,60000.0\\n1.0,3.0,3.0,51.0,98000.0\\n1.0,3.0,2.0,51.0,82000.0\\n1.0,3.0,3.0,55.0,80000.0\\n1.0,3.0,2.0,51.0,55000.0\\n1.0,3.0,3.0,51.0,35922.0\\n1.0,3.0,3.0,51.0,32684.0\\n1.0,3.0,3.0,51.0,62000.0\\n1.0,3.0,3.0,51.0,35000.0\\n1.0,3.0,3.0,51.0,36934.0\\n1.0,3.0,3.0,70.0,87000.0\\n1.0,3.0,3.0,51.0,58850.0\\n1.0,3.0,3.0,51.0,53000.0\\n1.0,3.0,3.0,52.0,87429.0\\n1.0,3.0,3.0,51.0,35000.0\\n1.0,3.0,3.0,51.0,90000.0\\n1.0,3.0,3.0,51.0,9969.0\\n1.0,3.0,3.0,66.0,90800.0\\n1.0,3.0,3.0,51.0,52000.0\\n1.0,3.0,3.0,51.0,33600.0\\n1.0,3.0,3.0,51.0,54271.0\\n1.0,3.0,3.0,66.0,85000.0\\n1.0,3.0,3.0,55.0,53000.0\\n0.0,3.0,1.0,66.0,50.0\\n1.0,3.0,3.0,70.0,95969.0\\n1.0,3.0,3.0,55.0,142639.0\\n1.0,3.0,3.0,51.0,72000.0\\n1.0,3.0,3.0,70.0,115379.0\\n1.0,3.0,3.0,51.0,45600.0\\n1.0,3.0,3.0,51.0,77920.0\\n1.0,3.0,3.0,51.0,95535.0\\n1.0,3.0,3.0,70.0,88895.0\\n1.0,3.0,3.0,51.0,73519.0\\n0.0,3.0,0.0,66.0,505.0\\n1.0,3.0,3.0,55.0,161427.0\\n1.0,3.0,3.0,55.0,73000.0\\n0.0,3.0,0.0,66.0,5977.0\\n0.0,3.0,1.0,66.0,7472.0\\n0.0,3.0,1.0,66.0,8930.0\\n1.0,3.0,3.0,51.0,51000.0\\n1.0,3.0,3.0,51.0,41820.0\\n2.0,3.0,3.0,70.0,48525.0\\n2.0,3.0,1.0,66.0,300.0\\n2.0,3.0,1.0,66.0,10950.0\\n2.0,3.0,2.0,66.0,6393.0\\n2.0,3.0,3.0,70.0,82400.0\\n2.0,3.0,3.0,70.0,116000.0\\n2.0,3.0,3.0,70.0,115000.0\\n1.0,3.0,3.0,51.0,36115.0\\n1.0,3.0,3.0,70.0,91000.0\\n2.0,3.0,3.0,66.0,90700.0\\n1.0,3.0,2.0,51.0,82000.0\\n1.0,3.0,3.0,51.0,103854.0\\n1.0,3.0,3.0,51.0,103854.0\\n1.0,3.0,2.0,52.0,39962.0\\n1.0,3.0,3.0,55.0,115249.0\\n1.0,3.0,3.0,55.0,115249.0\\n1.0,3.0,3.0,55.0,115249.0\\n1.0,3.0,3.0,51.0,82000.0\\n1.0,3.0,3.0,51.0,15887.0\\n1.0,3.0,3.0,51.0,95000.0\\n1.0,3.0,3.0,66.0,50845.0\\n1.0,3.0,2.0,66.0,32301.0\\n1.0,3.0,3.0,66.0,55700.0\\n1.0,3.0,3.0,51.0,8900.0\\n1.0,3.0,3.0,70.0,53000.0\\n1.0,3.0,3.0,51.0,43142.0\\n1.0,3.0,3.0,51.0,59150.0\\n1.0,3.0,3.0,66.0,55000.0\\n1.0,3.0,3.0,51.0,25000.0\\n1.0,3.0,3.0,66.0,53400.0\\n1.0,3.0,3.0,66.0,55300.0\\n1.0,3.0,3.0,51.0,133081.0\\n1.0,3.0,3.0,51.0,29300.0\\n1.0,3.0,3.0,51.0,37100.0\\n1.0,3.0,2.0,51.0,55700.0\\n1.0,3.0,3.0,51.0,44070.0\\n1.0,3.0,3.0,51.0,29400.0\\n1.0,3.0,3.0,55.0,93000.0\\n1.0,3.0,2.0,51.0,52335.0\\n0.0,3.0,1.0,66.0,8000.0\\n0.0,3.0,1.0,66.0,1597.0\\n1.0,3.0,2.0,51.0,41896.0\\n1.0,3.0,2.0,51.0,34000.0\\n1.0,3.0,2.0,51.0,57900.0\\n1.0,3.0,1.0,55.0,23811.0\\n1.0,3.0,2.0,66.0,69650.0\\n1.0,3.0,2.0,51.0,45000.0\\n1.0,3.0,2.0,51.0,12612.0\\n1.0,3.0,2.0,51.0,13620.0\\n1.0,3.0,1.0,52.0,31104.0\\n1.0,3.0,1.0,52.0,31104.0\\n1.0,3.0,1.0,52.0,29334.0\\n1.0,3.0,2.0,70.0,89000.0\\n1.0,3.0,1.0,52.0,29679.0\\n1.0,3.0,2.0,70.0,89000.0\\n1.0,3.0,2.0,51.0,60400.0\\n1.0,3.0,1.0,51.0,38000.0\\n1.0,3.0,1.0,66.0,36444.0\\n1.0,3.0,1.0,66.0,33826.0\\n1.0,3.0,2.0,51.0,62000.0\\n1.0,3.0,1.0,66.0,22266.0\\n1.0,3.0,2.0,51.0,44000.0\\n1.0,3.0,1.0,66.0,26132.0\\n1.0,3.0,2.0,51.0,25367.0\\n1.0,3.0,2.0,51.0,49000.0\\n1.0,3.0,2.0,51.0,27336.0\\n1.0,3.0,2.0,66.0,82300.0\\n1.0,3.0,2.0,66.0,34465.0\\n1.0,3.0,2.0,66.0,40256.0\\n1.0,3.0,2.0,51.0,45000.0\\n1.0,3.0,2.0,51.0,57000.0\\n1.0,3.0,2.0,51.0,10400.0\\n1.0,3.0,2.0,51.0,29322.0\\n1.0,3.0,2.0,51.0,55700.0\\n1.0,3.0,2.0,51.0,47100.0\\n1.0,3.0,2.0,51.0,39470.0\\n1.0,3.0,2.0,51.0,47100.0\\n1.0,3.0,2.0,66.0,47662.0\\n1.0,3.0,2.0,66.0,41685.0\\n1.0,3.0,2.0,51.0,59000.0\\n1.0,3.0,1.0,51.0,7500.0\\n1.0,3.0,2.0,51.0,48753.0\\n1.0,3.0,2.0,51.0,28456.0\\n1.0,3.0,1.0,67.0,23656.0\\n1.0,3.0,2.0,51.0,12961.0\\n1.0,3.0,2.0,66.0,317000.0\\n0.0,3.0,0.0,66.0,10.0\\n0.0,3.0,1.0,66.0,3700.0\\n0.0,3.0,1.0,66.0,12500.0\\n0.0,3.0,1.0,66.0,10.0\\n0.0,3.0,1.0,66.0,44096.0\\n0.0,3.0,1.0,66.0,18000.0\\n0.0,3.0,1.0,66.0,15500.0\\n0.0,3.0,1.0,66.0,12099.0\\n0.0,3.0,1.0,66.0,10000.0\\n0.0,3.0,1.0,66.0,1839.0\\n0.0,3.0,1.0,66.0,10300.0\\n0.0,3.0,1.0,66.0,8500.0\\n0.0,3.0,1.0,66.0,10210.0\\n0.0,3.0,0.0,66.0,6900.0\\n0.0,3.0,1.0,66.0,8066.0\\n1.0,3.0,2.0,66.0,42619.0\\n1.0,3.0,2.0,51.0,66566.0\\n1.0,3.0,2.0,51.0,16000.0\\n1.0,3.0,2.0,51.0,8267.0\\n1.0,3.0,2.0,66.0,72000.0\\n1.0,3.0,1.0,66.0,14356.0\\n1.0,3.0,2.0,66.0,44000.0\\n1.0,3.0,2.0,66.0,19754.0\\n1.0,3.0,2.0,66.0,18835.0\\n1.0,3.0,2.0,51.0,46000.0\\n1.0,3.0,2.0,51.0,46751.0\\n1.0,3.0,2.0,51.0,52704.0\\n1.0,3.0,1.0,66.0,14887.0\\n1.0,3.0,2.0,66.0,74000.0\\n1.0,3.0,2.0,51.0,45000.0\\n1.0,3.0,2.0,66.0,52000.0\\n1.0,3.0,2.0,55.0,49392.0\\n1.0,3.0,2.0,51.0,27355.0\\n0.0,3.0,0.0,66.0,10.0\\n1.0,3.0,0.0,55.0,100.0\\n1.0,3.0,1.0,66.0,16852.0\\n1.0,3.0,1.0,66.0,48100.0\\n1.0,3.0,1.0,51.0,22100.0\\n1.0,3.0,1.0,51.0,10.0\\n1.0,3.0,1.0,66.0,29100.0\\n1.0,3.0,1.0,66.0,8990.0\\n1.0,3.0,1.0,51.0,18310.0\\n1.0,3.0,1.0,51.0,27941.0\\n1.0,3.0,1.0,55.0,24385.0\\n1.0,3.0,1.0,55.0,33400.0\\n1.0,3.0,1.0,66.0,18468.0\\n1.0,3.0,1.0,51.0,24019.0\\n1.0,3.0,1.0,66.0,12147.0\\n1.0,3.0,1.0,66.0,9968.0\\n1.0,3.0,0.0,51.0,5.0\\n1.0,3.0,1.0,66.0,23600.0\\n1.0,3.0,1.0,66.0,16128.0\\n1.0,3.0,1.0,55.0,35291.0\\n1.0,3.0,1.0,66.0,7500.0\\n1.0,3.0,1.0,55.0,28474.0\\n1.0,3.0,1.0,66.0,20000.0\\n1.0,3.0,1.0,55.0,19000.0\\n1.0,3.0,1.0,66.0,26673.0\\n1.0,3.0,1.0,55.0,100.0\\n1.0,3.0,1.0,55.0,100.0\\n0.0,3.0,1.0,66.0,50.0\\n0.0,3.0,1.0,66.0,8000.0\\n0.0,3.0,1.0,66.0,4063.0\\n0.0,3.0,1.0,66.0,13333.0\\n0.0,3.0,0.0,66.0,10.0\\n0.0,3.0,0.0,66.0,1647.3626086956522\\n0.0,3.0,1.0,66.0,10.0\\n0.0,3.0,0.0,66.0,10.0\\n0.0,3.0,0.0,66.0,50.0\\n0.0,3.0,1.0,66.0,13250.0\\n0.0,3.0,1.0,66.0,19983.0\\n0.0,3.0,0.0,66.0,2900.0\\n0.0,3.0,0.0,66.0,2612.0\\n0.0,3.0,0.0,66.0,10.0\\n1.0,3.0,1.0,51.0,21088.0\\n1.0,3.0,1.0,55.0,32500.0\\n1.0,3.0,1.0,51.0,100.0\\n1.0,3.0,1.0,66.0,9300.0\\n1.0,3.0,1.0,51.0,7100.0\\n1.0,3.0,1.0,51.0,29594.0\\n1.0,3.0,1.0,66.0,13488.0\\n1.0,3.0,1.0,66.0,16451.0\\n1.0,3.0,1.0,66.0,3850.0\\n1.0,3.0,1.0,51.0,20700.0\\n1.0,3.0,1.0,51.0,16000.0\\n1.0,3.0,1.0,51.0,50.0\\n1.0,3.0,1.0,74.0,19100.0\\n1.0,3.0,1.0,55.0,33000.0\\n1.0,3.0,0.0,55.0,1.0\\n1.0,3.0,1.0,55.0,32300.0\\n1.0,3.0,1.0,51.0,10.0\\n1.0,3.0,1.0,51.0,11000.0\\n1.0,3.0,0.0,51.0,5.0\\n1.0,3.0,1.0,55.0,19525.0\\n1.0,3.0,1.0,55.0,10824.0\\n1.0,3.0,1.0,55.0,19800.0\\n1.0,3.0,1.0,51.0,25000.0\\n1.0,3.0,1.0,66.0,5000.0\\n1.0,3.0,1.0,51.0,24487.0\\n1.0,3.0,1.0,51.0,17661.0\\n1.0,3.0,1.0,66.0,22500.0\\n1.0,3.0,1.0,66.0,19400.0\\n1.0,3.0,1.0,66.0,43600.0\\n1.0,3.0,1.0,66.0,11252.0\\n0.0,3.0,0.0,66.0,8000.0\\n0.0,3.0,0.0,66.0,51.0\\n1.0,3.0,0.0,55.0,1647.3626086956522\\n0.0,3.0,0.0,66.0,10.0\\n0.0,3.0,0.0,66.0,12.0\\n0.0,3.0,0.0,66.0,14.0\\n0.0,3.0,0.0,66.0,10.0\\n0.0,3.0,0.0,66.0,3000.0\\n0.0,3.0,0.0,66.0,10.0\\n0.0,3.0,0.0,66.0,2500.0\\n0.0,3.0,0.0,66.0,5.0\\n0.0,3.0,0.0,66.0,1647.3626086956522\\n0.0,3.0,0.0,66.0,1647.3626086956522\\n0.0,3.0,0.0,66.0,15.0\\n0.0,3.0,0.0,66.0,50.0\\n0.0,3.0,0.0,66.0,5.0\\n0.0,3.0,0.0,66.0,1647.3626086956522\\n0.0,3.0,0.0,66.0,10.0\\n0.0,3.0,0.0,66.0,10000.0\\n0.0,3.0,0.0,66.0,10.0\\n0.0,3.0,0.0,66.0,10.0\\n0.0,3.0,0.0,66.0,15.0\\n0.0,3.0,0.0,66.0,10.0\\n0.0,3.0,0.0,66.0,500.0\\n0.0,3.0,0.0,66.0,900.0\\n0.0,3.0,0.0,66.0,8000.0\\n0.0,3.0,0.0,66.0,4900.0\\n0.0,3.0,0.0,66.0,4.0\\n0.0,3.0,0.0,66.0,1567.0\\n0.0,3.0,0.0,66.0,10.0\\n0.0,3.0,0.0,66.0,12.0\\n0.0,3.0,0.0,66.0,4990.0\\n0.0,3.0,0.0,66.0,100.0\\n0.0,3.0,0.0,66.0,1200.0\\n0.0,3.0,0.0,66.0,100.0\\n0.0,3.0,0.0,66.0,51.0\\n0.0,3.0,0.0,66.0,10.0\\n0.0,3.0,0.0,66.0,10.0\\n0.0,3.0,0.0,66.0,8000.0\\n0.0,3.0,0.0,66.0,8000.0\\n0.0,3.0,0.0,66.0,8000.0\\n0.0,3.0,0.0,66.0,10.0\\n0.0,3.0,0.0,66.0,10.0\\n0.0,3.0,0.0,66.0,10.0\\n0.0,3.0,0.0,66.0,10.0\\n0.0,3.0,0.0,66.0,8000.0\\n0.0,3.0,0.0,66.0,1647.3626086956522\\n0.0,3.0,0.0,66.0,3.0\\n0.0,3.0,0.0,66.0,50.0\\n0.0,3.0,0.0,66.0,7500.0\\n0.0,3.0,0.0,66.0,10.0\\n0.0,3.0,0.0,66.0,3.0\\n0.0,3.0,0.0,66.0,50.0\\n0.0,3.0,0.0,66.0,1990.0\\n0.0,3.0,0.0,66.0,30.0\\n0.0,3.0,0.0,66.0,5.0\\n0.0,3.0,0.0,66.0,5.0\\n0.0,3.0,0.0,66.0,5.0\\n1.0,3.0,0.0,55.0,7.0\\n1.0,3.0,0.0,55.0,1.0\\n1.0,3.0,0.0,51.0,5.0\\n1.0,3.0,0.0,51.0,50.0\\n1.0,3.0,0.0,51.0,1647.3626086956522\\n1.0,3.0,0.0,51.0,15.0\\n1.0,3.0,0.0,51.0,12.0\\n1.0,3.0,0.0,51.0,5.0\\n1.0,3.0,0.0,51.0,12.0\\n1.0,3.0,0.0,51.0,50.0\\n1.0,3.0,0.0,51.0,12.0\\n1.0,3.0,0.0,51.0,5.0\\n1.0,3.0,0.0,51.0,10.0\\n1.0,3.0,0.0,51.0,10.0\\n1.0,3.0,0.0,51.0,10.0\\n1.0,3.0,0.0,51.0,10.0\\n1.0,3.0,0.0,51.0,15.0\\n1.0,3.0,0.0,51.0,10.0\\n1.0,3.0,0.0,55.0,8.0\\n1.0,3.0,0.0,66.0,100.0\\n1.0,3.0,0.0,51.0,10.0\\n1.0,3.0,0.0,51.0,100.0\\n1.0,3.0,0.0,51.0,15.0\\n1.0,3.0,0.0,51.0,5.0\\n1.0,3.0,0.0,55.0,10.0\\n1.0,3.0,0.0,51.0,150.0\\n1.0,3.0,0.0,51.0,10.0\\n1.0,3.0,0.0,51.0,10.0\\n1.0,3.0,0.0,55.0,1647.3626086956522\\n1.0,3.0,0.0,55.0,10.0\\n1.0,3.0,0.0,51.0,5.0\\n1.0,3.0,0.0,51.0,10.0\\n1.0,3.0,0.0,51.0,10.0\\n1.0,3.0,0.0,51.0,10.0\\n1.0,3.0,0.0,51.0,10.0\\n1.0,3.0,0.0,66.0,1647.3626086956522\\n1.0,3.0,0.0,51.0,15.0\\n1.0,3.0,0.0,51.0,1647.3626086956522\\n1.0,3.0,0.0,51.0,3.0\\n1.0,3.0,0.0,51.0,5.0\\n1.0,3.0,0.0,51.0,5.0\\n1.0,3.0,0.0,51.0,22.0\\n1.0,3.0,0.0,51.0,10.0\\n1.0,3.0,0.0,66.0,5550.0\\n1.0,3.0,0.0,66.0,5000.0\\n1.0,3.0,0.0,51.0,1647.3626086956522\\n1.0,3.0,0.0,51.0,1647.3626086956522\\n1.0,3.0,0.0,51.0,200.0\\n1.0,3.0,0.0,51.0,1647.3626086956522\\n1.0,3.0,0.0,51.0,10.0\\n1.0,3.0,0.0,51.0,100.0\\n1.0,3.0,0.0,51.0,5.0\\n1.0,3.0,0.0,51.0,5.0\\n1.0,3.0,0.0,66.0,1501.0\\n1.0,3.0,0.0,51.0,10.0\\n1.0,3.0,0.0,51.0,10.0\\n1.0,3.0,0.0,66.0,10.0\\n1.0,3.0,0.0,66.0,12.0\\n1.0,3.0,0.0,51.0,10.0\\n1.0,3.0,0.0,66.0,1647.3626086956522\\n1.0,3.0,0.0,51.0,8.0\\n1.0,3.0,0.0,51.0,10.0\\n1.0,3.0,0.0,51.0,1.0\\n1.0,3.0,0.0,51.0,12.0\\n1.0,3.0,0.0,66.0,3916.0\\n1.0,3.0,0.0,66.0,3000.0\\n0.0,4.0,3.0,100.0,154800.0\\n0.0,4.0,2.0,100.0,88000.0\\n0.0,4.0,3.0,125.0,134000.0\\n0.0,4.0,2.0,100.0,63791.0\\n0.0,4.0,3.0,125.0,96760.0\\n0.0,4.0,3.0,125.0,44000.0\\n1.0,4.0,3.0,100.0,157000.0\\n1.0,4.0,3.0,100.0,157000.0\\n1.0,4.0,3.0,100.0,145000.0\\n0.0,4.0,2.0,100.0,20710.0\\n0.0,4.0,3.0,125.0,54763.0\\n0.0,4.0,3.0,125.0,63000.0\\n0.0,4.0,3.0,100.0,50908.0\\n0.0,4.0,3.0,100.0,57866.0\\n0.0,4.0,3.0,100.0,69784.0\\n0.0,4.0,3.0,125.0,61500.0\\n0.0,4.0,3.0,125.0,33000.0\\n0.0,4.0,3.0,125.0,75690.0\\n0.0,4.0,3.0,125.0,91875.0\\n0.0,4.0,3.0,125.0,84700.0\\n0.0,4.0,2.0,125.0,89468.0\\n0.0,4.0,3.0,125.0,65500.0\\n0.0,4.0,2.0,100.0,74941.0\\n0.0,4.0,2.0,125.0,78762.0\\n0.0,4.0,3.0,100.0,53000.0\\n0.0,4.0,3.0,125.0,118656.0\\n0.0,4.0,3.0,100.0,15146.0\\n0.0,4.0,3.0,125.0,60244.0\\n0.0,4.0,3.0,100.0,32000.0\\n0.0,4.0,3.0,125.0,107959.0\\n0.0,4.0,2.0,100.0,78825.0\\n0.0,4.0,3.0,100.0,25259.0\\n0.0,4.0,3.0,125.0,157900.0\\n0.0,4.0,3.0,125.0,88000.0\\n0.0,4.0,3.0,100.0,82800.0\\n0.0,4.0,3.0,100.0,40231.0\\n0.0,4.0,3.0,101.0,94220.0\\n0.0,4.0,3.0,125.0,88617.0\\n0.0,4.0,3.0,100.0,106499.0\\n0.0,4.0,2.0,100.0,68920.0\\n0.0,4.0,3.0,125.0,134487.0\\n0.0,4.0,3.0,125.0,63000.0\\n0.0,4.0,3.0,100.0,105000.0\\n0.0,4.0,3.0,125.0,114100.0\\n0.0,4.0,3.0,125.0,95000.0\\n0.0,4.0,3.0,100.0,55775.0\\n0.0,4.0,2.0,125.0,64000.0\\n0.0,4.0,3.0,125.0,88346.0\\n0.0,4.0,3.0,125.0,86153.0\\n0.0,4.0,2.0,125.0,70550.0\\n0.0,4.0,2.0,125.0,103091.0\\n0.0,4.0,3.0,125.0,126671.0\\n0.0,4.0,2.0,100.0,85000.0\\n0.0,4.0,3.0,125.0,162675.0\\n0.0,4.0,3.0,100.0,79000.0\\n0.0,4.0,2.0,100.0,89000.0\\n0.0,4.0,3.0,125.0,215968.0\\n0.0,4.0,2.0,100.0,96000.0\\n0.0,4.0,2.0,100.0,96000.0\\n0.0,4.0,2.0,101.0,107100.0\\n0.0,4.0,2.0,100.0,99950.0\\n0.0,4.0,3.0,125.0,44000.0\\n0.0,4.0,3.0,100.0,89107.0\\n0.0,4.0,3.0,100.0,95000.0\\n0.0,4.0,3.0,100.0,92380.0\\n0.0,4.0,3.0,125.0,119270.0\\n0.0,4.0,2.0,100.0,109500.0\\n0.0,4.0,3.0,100.0,113000.0\\n0.0,4.0,3.0,125.0,117000.0\\n0.0,4.0,3.0,125.0,159000.0\\n0.0,4.0,2.0,100.0,114040.0\\n0.0,4.0,3.0,100.0,118000.0\\n0.0,4.0,3.0,100.0,92000.0\\n0.0,4.0,3.0,100.0,96000.0\\n0.0,4.0,3.0,125.0,92000.0\\n0.0,4.0,3.0,100.0,89000.0\\n0.0,4.0,3.0,100.0,94000.0\\n0.0,4.0,2.0,100.0,106000.0\\n0.0,4.0,3.0,125.0,189473.0\\n0.0,4.0,3.0,100.0,214000.0\\n0.0,4.0,2.0,125.0,99000.0\\n0.0,4.0,3.0,100.0,152400.0\\n1.0,4.0,3.0,103.0,42000.0\\n1.0,4.0,2.0,100.0,91558.0\\n1.0,4.0,2.0,81.0,80326.0\\n1.0,4.0,3.0,125.0,76978.0\\n1.0,4.0,3.0,100.0,26500.0\\n1.0,4.0,2.0,101.0,32294.0\\n1.0,4.0,2.0,101.0,32294.0\\n1.0,4.0,3.0,103.0,12100.0\\n1.0,4.0,3.0,103.0,49598.0\\n1.0,4.0,3.0,103.0,33500.0\\n1.0,4.0,3.0,125.0,94800.0\\n1.0,4.0,3.0,88.0,76500.0\\n1.0,4.0,3.0,100.0,33000.0\\n1.0,4.0,3.0,100.0,72000.0\\n1.0,4.0,2.0,88.0,46000.0\\n1.0,4.0,3.0,100.0,49850.0\\n1.0,4.0,2.0,100.0,53600.0\\n1.0,4.0,2.0,100.0,93165.0\\n1.0,4.0,3.0,103.0,33500.0\\n1.0,4.0,3.0,125.0,97300.0\\n1.0,4.0,3.0,125.0,109000.0\\n1.0,4.0,3.0,100.0,104915.0\\n1.0,4.0,3.0,103.0,79986.0\\n1.0,4.0,2.0,100.0,89824.0\\n1.0,4.0,2.0,88.0,38333.0\\n1.0,4.0,2.0,101.0,94308.0\\n1.0,4.0,2.0,100.0,83757.0\\n1.0,4.0,3.0,100.0,79678.0\\n1.0,4.0,2.0,100.0,88607.0\\n1.0,4.0,3.0,100.0,73295.0\\n1.0,4.0,3.0,125.0,105002.0\\n1.0,4.0,3.0,125.0,104058.0\\n1.0,4.0,3.0,100.0,61227.0\\n1.0,4.0,3.0,125.0,114000.0\\n1.0,4.0,3.0,100.0,66200.0\\n1.0,4.0,3.0,88.0,65391.0\\n1.0,4.0,3.0,125.0,96000.0\\n1.0,4.0,2.0,100.0,111991.0\\n1.0,4.0,3.0,88.0,58989.0\\n1.0,4.0,3.0,100.0,65295.0\\n1.0,4.0,3.0,103.0,50000.0\\n1.0,4.0,3.0,88.0,77161.0\\n1.0,4.0,2.0,100.0,84000.0\\n1.0,4.0,3.0,100.0,87000.0\\n1.0,4.0,3.0,125.0,134500.0\\n1.0,4.0,3.0,103.0,44000.0\\n1.0,4.0,3.0,100.0,115000.0\\n1.0,4.0,3.0,88.0,80000.0\\n1.0,4.0,3.0,88.0,85000.0\\n1.0,4.0,2.0,100.0,91223.0\\n1.0,4.0,3.0,100.0,149000.0\\n1.0,4.0,3.0,100.0,122327.0\\n1.0,4.0,3.0,88.0,84460.0\\n1.0,4.0,3.0,88.0,130000.0\\n1.0,4.0,3.0,100.0,155784.0\\n1.0,4.0,3.0,88.0,100000.0\\n1.0,4.0,3.0,100.0,80000.0\\n1.0,4.0,3.0,100.0,103100.0\\n1.0,4.0,2.0,100.0,88000.0\\n1.0,4.0,2.0,100.0,93000.0\\n1.0,4.0,2.0,100.0,85905.0\\n1.0,4.0,3.0,88.0,126100.0\\n1.0,4.0,3.0,103.0,42000.0\\n1.0,4.0,3.0,88.0,76000.0\\n1.0,4.0,2.0,100.0,31500.0\\n1.0,4.0,3.0,100.0,214999.0\\n1.0,4.0,3.0,88.0,46000.0\\n1.0,4.0,3.0,125.0,62100.0\\n1.0,4.0,3.0,103.0,15900.0\\n1.0,4.0,3.0,125.0,120000.0\\n1.0,4.0,3.0,88.0,39000.0\\n1.0,4.0,2.0,125.0,27679.0\\n1.0,4.0,3.0,103.0,71069.0\\n1.0,4.0,3.0,100.0,38000.0\\n1.0,4.0,3.0,100.0,39950.0\\n1.0,4.0,3.0,125.0,80000.0\\n0.0,4.0,2.0,125.0,52150.0\\n0.0,4.0,2.0,121.0,45848.0\\n0.0,4.0,2.0,100.0,22600.0\\n0.0,4.0,1.0,121.0,31206.0\\n0.0,4.0,2.0,125.0,27800.0\\n0.0,4.0,2.0,121.0,13990.0\\n0.0,4.0,1.0,121.0,13860.0\\n0.0,4.0,1.0,121.0,26960.0\\n0.0,4.0,1.0,121.0,27941.0\\n1.0,4.0,2.0,100.0,20346.0\\n1.0,4.0,2.0,100.0,36852.0\\n1.0,4.0,2.0,100.0,6120.0\\n1.0,4.0,2.0,100.0,14069.0\\n1.0,4.0,1.0,101.0,39525.0\\n1.0,4.0,2.0,103.0,32300.0\\n1.0,4.0,2.0,100.0,37850.0\\n0.0,4.0,1.0,100.0,31000.0\\n0.0,4.0,2.0,121.0,38749.0\\n0.0,4.0,2.0,100.0,20698.0\\n0.0,4.0,1.0,125.0,70670.0\\n0.0,4.0,2.0,100.0,15500.0\\n0.0,4.0,1.0,121.0,30900.0\\n0.0,4.0,1.0,100.0,26300.0\\n0.0,4.0,2.0,125.0,25494.0\\n0.0,4.0,2.0,125.0,25494.0\\n0.0,4.0,1.0,125.0,27921.0\\n0.0,4.0,2.0,121.0,9950.0\\n0.0,4.0,1.0,100.0,23177.0\\n0.0,4.0,1.0,100.0,22000.0\\n0.0,4.0,1.0,121.0,29861.0\\n0.0,4.0,1.0,121.0,11000.0\\n0.0,4.0,2.0,125.0,49590.0\\n0.0,4.0,2.0,125.0,31612.0\\n0.0,4.0,2.0,125.0,43788.0\\n0.0,4.0,1.0,100.0,29387.0\\n0.0,4.0,2.0,121.0,21900.0\\n0.0,4.0,1.0,100.0,21041.0\\n0.0,4.0,2.0,121.0,17615.0\\n0.0,4.0,2.0,125.0,25249.0\\n0.0,4.0,1.0,100.0,2400.0\\n0.0,4.0,2.0,125.0,25494.0\\n0.0,4.0,2.0,121.0,18500.0\\n0.0,4.0,2.0,121.0,22785.0\\n0.0,4.0,1.0,121.0,30020.0\\n0.0,4.0,2.0,100.0,30000.0\\n0.0,4.0,2.0,125.0,25494.0\\n0.0,4.0,2.0,125.0,25494.0\\n0.0,4.0,1.0,100.0,8100.0\\n0.0,4.0,1.0,100.0,22691.0\\n0.0,4.0,2.0,125.0,99591.0\\n0.0,4.0,2.0,125.0,24338.0\\n0.0,4.0,2.0,121.0,24152.0\\n0.0,4.0,2.0,100.0,16000.0\\n0.0,4.0,2.0,100.0,60146.0\\n0.0,4.0,1.0,100.0,27103.0\\n0.0,4.0,1.0,100.0,14990.0\\n0.0,4.0,2.0,125.0,150800.0\\n0.0,4.0,2.0,125.0,17450.0\\n0.0,4.0,2.0,100.0,29854.0\\n0.0,4.0,2.0,100.0,9050.0\\n0.0,4.0,2.0,100.0,31830.0\\n0.0,4.0,1.0,100.0,24900.0\\n0.0,4.0,1.0,100.0,22900.0\\n0.0,4.0,2.0,125.0,26400.0\\n0.0,4.0,2.0,100.0,24881.0\\n0.0,4.0,2.0,100.0,24680.0\\n0.0,4.0,1.0,100.0,28000.0\\n0.0,4.0,1.0,100.0,24853.0\\n0.0,4.0,2.0,100.0,23584.0\\n0.0,4.0,2.0,121.0,78000.0\\n0.0,4.0,2.0,100.0,12621.0\\n0.0,4.0,2.0,100.0,20017.0\\n1.0,4.0,2.0,100.0,35000.0\\n1.0,4.0,1.0,103.0,24873.0\\n1.0,4.0,2.0,100.0,5141.0\\n1.0,4.0,2.0,81.0,20800.0\\n1.0,4.0,2.0,125.0,25909.0\\n1.0,4.0,1.0,125.0,34386.0\\n1.0,4.0,2.0,125.0,28900.0\\n1.0,4.0,2.0,125.0,73000.0\\n1.0,4.0,2.0,125.0,14775.0\\n1.0,4.0,2.0,125.0,23672.0\\n1.0,4.0,1.0,81.0,9200.0\\n1.0,4.0,2.0,103.0,12073.0\\n1.0,4.0,1.0,103.0,25221.0\\n1.0,4.0,2.0,125.0,25350.0\\n1.0,4.0,1.0,100.0,15700.0\\n1.0,4.0,2.0,125.0,24724.0\\n1.0,4.0,2.0,121.0,12300.0\\n1.0,4.0,2.0,103.0,11600.0\\n1.0,4.0,2.0,103.0,16000.0\\n1.0,4.0,2.0,100.0,26000.0\\n1.0,4.0,2.0,103.0,7120.0\\n1.0,4.0,2.0,100.0,24178.0\\n1.0,4.0,2.0,125.0,28337.0\\n1.0,4.0,2.0,100.0,34000.0\\n1.0,4.0,2.0,100.0,19900.0\\n1.0,4.0,2.0,103.0,39379.0\\n1.0,4.0,2.0,125.0,27760.0\\n1.0,4.0,1.0,103.0,3158.0\\n1.0,4.0,2.0,81.0,26000.0\\n1.0,4.0,1.0,103.0,12950.0\\n1.0,4.0,2.0,81.0,21000.0\\n1.0,4.0,2.0,100.0,27664.0\\n1.0,4.0,2.0,100.0,42713.0\\n1.0,4.0,2.0,100.0,14980.0\\n1.0,4.0,1.0,100.0,12100.0\\n1.0,4.0,2.0,103.0,18120.0\\n1.0,4.0,1.0,100.0,7800.0\\n1.0,4.0,2.0,125.0,31950.0\\n1.0,4.0,2.0,103.0,15300.0\\n1.0,4.0,2.0,103.0,31892.0\\n1.0,4.0,2.0,125.0,47500.0\\n1.0,4.0,2.0,125.0,25249.0\\n1.0,4.0,1.0,103.0,11701.0\\n1.0,4.0,2.0,103.0,17899.0\\n1.0,4.0,2.0,100.0,16600.0\\n1.0,4.0,2.0,100.0,9354.0\\n1.0,4.0,2.0,100.0,13200.0\\n1.0,4.0,1.0,100.0,16300.0\\n1.0,4.0,2.0,100.0,31715.0\\n1.0,4.0,2.0,100.0,28200.0\\n1.0,4.0,2.0,103.0,41415.0\\n1.0,4.0,1.0,103.0,28547.0\\n1.0,4.0,1.0,101.0,23191.0\\n1.0,4.0,2.0,100.0,32100.0\\n1.0,4.0,1.0,103.0,21959.0\\n1.0,4.0,1.0,103.0,23401.0\\n1.0,4.0,2.0,100.0,20255.0\\n1.0,4.0,1.0,101.0,15258.0\\n1.0,4.0,1.0,100.0,1530.0\\n1.0,4.0,2.0,125.0,18300.0\\n1.0,4.0,2.0,125.0,70000.0\\n1.0,4.0,1.0,103.0,22000.0\\n0.0,4.0,1.0,100.0,30994.0\\n0.0,4.0,1.0,125.0,19750.0\\n0.0,4.0,0.0,100.0,1647.3626086956522\\n0.0,4.0,1.0,121.0,19500.0\\n0.0,4.0,1.0,125.0,21961.0\\n0.0,4.0,1.0,125.0,29600.0\\n0.0,4.0,1.0,125.0,13557.0\\n0.0,4.0,1.0,125.0,29984.0\\n0.0,4.0,1.0,121.0,7693.0\\n0.0,4.0,1.0,125.0,24000.0\\n0.0,4.0,1.0,121.0,30800.0\\n0.0,4.0,1.0,125.0,22550.0\\n0.0,4.0,1.0,125.0,10421.0\\n0.0,4.0,1.0,121.0,15422.0\\n0.0,4.0,1.0,125.0,19700.0\\n0.0,4.0,1.0,125.0,26280.0\\n0.0,4.0,1.0,125.0,9544.0\\n0.0,4.0,1.0,121.0,16011.0\\n0.0,4.0,1.0,121.0,28927.0\\n0.0,4.0,1.0,121.0,28777.0\\n0.0,4.0,1.0,121.0,26226.0\\n0.0,4.0,1.0,121.0,28168.0\\n0.0,4.0,1.0,125.0,24497.0\\n0.0,4.0,1.0,121.0,28900.0\\n0.0,4.0,1.0,121.0,12500.0\\n0.0,4.0,1.0,125.0,22770.0\\n0.0,4.0,1.0,121.0,14402.0\\n0.0,4.0,1.0,121.0,14000.0\\n0.0,4.0,1.0,100.0,14288.0\\n0.0,4.0,1.0,121.0,25097.0\\n0.0,4.0,1.0,121.0,8930.0\\n0.0,4.0,1.0,100.0,10000.0\\n0.0,4.0,1.0,125.0,25673.0\\n0.0,4.0,1.0,125.0,18890.0\\n0.0,4.0,1.0,125.0,11600.0\\n0.0,4.0,1.0,125.0,19400.0\\n0.0,4.0,1.0,125.0,62295.0\\n0.0,4.0,1.0,100.0,24628.0\\n0.0,4.0,1.0,125.0,20260.0\\n0.0,4.0,1.0,100.0,24100.0\\n0.0,4.0,1.0,121.0,19425.0\\n0.0,4.0,1.0,121.0,31090.0\\n0.0,4.0,1.0,121.0,29920.0\\n0.0,4.0,1.0,121.0,29028.0\\n0.0,4.0,1.0,121.0,33210.0\\n0.0,4.0,1.0,125.0,25074.0\\n0.0,4.0,1.0,100.0,25173.0\\n0.0,4.0,1.0,100.0,27000.0\\n0.0,4.0,1.0,125.0,31000.0\\n0.0,4.0,1.0,100.0,28518.0\\n0.0,4.0,1.0,125.0,53923.0\\n0.0,4.0,1.0,121.0,29920.0\\n0.0,4.0,1.0,125.0,53923.0\\n1.0,4.0,1.0,103.0,19900.0\\n1.0,4.0,1.0,125.0,28450.0\\n1.0,4.0,1.0,121.0,29150.0\\n1.0,4.0,0.0,81.0,1647.3626086956522\\n1.0,4.0,1.0,125.0,25150.0\\n1.0,4.0,0.0,103.0,1647.3626086956522\\n1.0,4.0,1.0,121.0,29600.0\\n1.0,4.0,1.0,121.0,29350.0\\n1.0,4.0,1.0,121.0,29500.0\\n1.0,4.0,1.0,121.0,10355.0\\n1.0,4.0,1.0,121.0,28990.0\\n1.0,4.0,1.0,103.0,22375.0\\n1.0,4.0,1.0,103.0,3030.0\\n1.0,4.0,1.0,121.0,24279.0\\n1.0,4.0,1.0,103.0,20000.0\\n1.0,4.0,1.0,100.0,30200.0\\n1.0,4.0,1.0,103.0,18121.0\\n1.0,4.0,1.0,121.0,25000.0\\n1.0,4.0,1.0,125.0,28540.0\\n1.0,4.0,1.0,121.0,29402.0\\n1.0,4.0,1.0,121.0,22764.0\\n1.0,4.0,0.0,103.0,1647.3626086956522\\n1.0,4.0,1.0,125.0,27000.0\\n1.0,4.0,1.0,103.0,15900.0\\n1.0,4.0,1.0,121.0,28100.0\\n1.0,4.0,1.0,103.0,17342.0\\n1.0,4.0,1.0,100.0,14500.0\\n1.0,4.0,1.0,125.0,25000.0\\n1.0,4.0,1.0,121.0,19460.0\\n1.0,4.0,1.0,125.0,12700.0\\n1.0,4.0,1.0,100.0,24940.0\\n1.0,4.0,1.0,103.0,17724.0\\n1.0,4.0,1.0,125.0,23200.0\\n1.0,4.0,1.0,121.0,23500.0\\n1.0,4.0,1.0,100.0,24750.0\\n1.0,4.0,1.0,103.0,19000.0\\n1.0,4.0,1.0,125.0,25999.0\\n1.0,4.0,1.0,100.0,4000.0\\n1.0,4.0,1.0,125.0,24980.0\\n1.0,4.0,0.0,103.0,1647.3626086956522\\n1.0,4.0,1.0,121.0,11000.0\\n1.0,4.0,1.0,121.0,21999.0\\n1.0,4.0,1.0,121.0,28800.0\\n1.0,4.0,1.0,121.0,28600.0\\n1.0,4.0,1.0,100.0,24600.0\\n1.0,4.0,1.0,100.0,24545.0\\n1.0,4.0,0.0,103.0,1647.3626086956522\\n1.0,4.0,1.0,125.0,29478.0\\n1.0,4.0,1.0,121.0,24700.0\\n1.0,4.0,1.0,103.0,3095.0\\n1.0,4.0,1.0,103.0,17950.0\\n1.0,4.0,1.0,100.0,18900.0\\n1.0,4.0,1.0,103.0,3095.0\\n1.0,4.0,1.0,103.0,3095.0\\n1.0,4.0,1.0,100.0,24950.0\\n1.0,4.0,1.0,121.0,23233.0\\n1.0,4.0,1.0,103.0,12020.0\\n1.0,4.0,1.0,125.0,24551.0\\n1.0,4.0,1.0,121.0,29446.0\\n1.0,4.0,1.0,100.0,14500.0\\n1.0,4.0,1.0,100.0,22500.0\\n1.0,4.0,1.0,121.0,28332.0\\n1.0,4.0,1.0,121.0,26637.0\\n1.0,4.0,1.0,100.0,7765.0\\n1.0,4.0,1.0,100.0,7765.0\\n1.0,4.0,1.0,100.0,7765.0\\n1.0,4.0,1.0,121.0,26424.0\\n1.0,4.0,1.0,100.0,4390.0\\n1.0,4.0,1.0,103.0,5750.0\\n1.0,4.0,1.0,121.0,23700.0\\n1.0,4.0,1.0,103.0,15018.0\\n1.0,4.0,1.0,125.0,29947.0\\n1.0,4.0,1.0,125.0,23200.0\\n1.0,4.0,1.0,121.0,24906.0\\n1.0,4.0,1.0,100.0,24600.0\\n1.0,4.0,0.0,103.0,1647.3626086956522\\n1.0,4.0,1.0,121.0,30000.0\\n1.0,4.0,1.0,121.0,29500.0\\n1.0,4.0,1.0,121.0,27900.0\\n1.0,4.0,1.0,103.0,24914.0\\n1.0,4.0,1.0,103.0,16185.0\\n1.0,4.0,1.0,100.0,21767.0\\n0.0,4.0,0.0,125.0,1647.3626086956522\\n0.0,4.0,0.0,125.0,1647.3626086956522\\n0.0,4.0,0.0,125.0,1647.3626086956522\\n0.0,4.0,0.0,125.0,1500.0\\n0.0,4.0,0.0,147.0,10.0\\n0.0,4.0,0.0,125.0,100.0\\n0.0,4.0,0.0,100.0,8700.0\\n0.0,4.0,0.0,121.0,1647.3626086956522\\n0.0,4.0,0.0,125.0,10.0\\n0.0,4.0,0.0,100.0,1647.3626086956522\\n0.0,4.0,0.0,125.0,10000.0\\n0.0,4.0,0.0,147.0,10.0\\n0.0,4.0,0.0,121.0,5000.0\\n0.0,4.0,0.0,147.0,3.0\\n0.0,4.0,0.0,147.0,7851.0\\n0.0,4.0,0.0,125.0,4000.0\\n0.0,4.0,0.0,154.0,1647.3626086956522\\n0.0,4.0,0.0,154.0,10.0\\n0.0,4.0,0.0,121.0,4894.0\\n0.0,4.0,0.0,154.0,1647.3626086956522\\n0.0,4.0,0.0,125.0,1647.3626086956522\\n0.0,4.0,0.0,155.0,1647.3626086956522\\n0.0,4.0,0.0,154.0,1647.3626086956522\\n0.0,4.0,0.0,125.0,1647.3626086956522\\n0.0,4.0,0.0,155.0,1647.3626086956522\\n0.0,4.0,0.0,121.0,1647.3626086956522\\n0.0,4.0,0.0,147.0,1.0\\n0.0,4.0,0.0,147.0,1.0\\n0.0,4.0,0.0,100.0,1647.3626086956522\\n0.0,4.0,0.0,121.0,10.0\\n0.0,4.0,0.0,125.0,8500.0\\n0.0,4.0,0.0,125.0,10.0\\n0.0,4.0,0.0,147.0,1647.3626086956522\\n0.0,4.0,0.0,125.0,15.0\\n0.0,4.0,0.0,125.0,1647.3626086956522\\n0.0,4.0,0.0,147.0,1647.3626086956522\\n0.0,4.0,0.0,100.0,1647.3626086956522\\n0.0,4.0,0.0,121.0,8000.0\\n0.0,4.0,0.0,100.0,10.0\\n0.0,4.0,0.0,147.0,10.0\\n0.0,4.0,0.0,147.0,1647.3626086956522\\n0.0,4.0,0.0,147.0,1647.3626086956522\\n0.0,4.0,0.0,147.0,1.0\\n0.0,4.0,0.0,147.0,1.0\\n0.0,4.0,0.0,121.0,5.0\\n0.0,4.0,0.0,125.0,1647.3626086956522\\n0.0,4.0,0.0,100.0,1647.3626086956522\\n0.0,4.0,0.0,100.0,1647.3626086956522\\n0.0,4.0,0.0,125.0,1647.3626086956522\\n0.0,4.0,0.0,121.0,10.0\\n0.0,4.0,0.0,121.0,1.0\\n0.0,4.0,0.0,100.0,1647.3626086956522\\n0.0,4.0,0.0,125.0,1647.3626086956522\\n0.0,4.0,0.0,120.0,1647.3626086956522\\n1.0,4.0,0.0,147.0,25.0\\n1.0,4.0,0.0,147.0,1647.3626086956522\\n1.0,4.0,0.0,100.0,1647.3626086956522\\n1.0,4.0,0.0,121.0,5.0\\n1.0,4.0,0.0,103.0,15.0\\n1.0,4.0,0.0,121.0,40.0\\n1.0,4.0,0.0,121.0,5000.0\\n1.0,4.0,0.0,100.0,1647.3626086956522\\n1.0,4.0,0.0,147.0,1852.0\\n1.0,4.0,0.0,147.0,500.0\\n1.0,4.0,0.0,121.0,1647.3626086956522\\n1.0,4.0,0.0,125.0,10.0\\n1.0,4.0,0.0,121.0,15.0\\n1.0,4.0,0.0,147.0,5.0\\n1.0,4.0,0.0,100.0,70.0\\n1.0,4.0,0.0,100.0,10.0\\n1.0,4.0,0.0,100.0,10.0\\n1.0,4.0,0.0,121.0,1390.0\\n1.0,4.0,0.0,147.0,10.0\\n1.0,4.0,0.0,121.0,350.0\\n1.0,4.0,0.0,100.0,8.0\\n1.0,4.0,0.0,147.0,1647.3626086956522\\n1.0,4.0,0.0,121.0,372.0\\n1.0,4.0,0.0,100.0,3500.0\\n1.0,4.0,0.0,100.0,7326.0\\n1.0,4.0,0.0,103.0,1647.3626086956522\\n1.0,4.0,0.0,125.0,1647.3626086956522\\n1.0,4.0,0.0,147.0,10.0\\n1.0,4.0,0.0,100.0,10555.0\\n1.0,4.0,0.0,147.0,10.0\\n1.0,4.0,0.0,147.0,450.0\\n1.0,4.0,0.0,125.0,1647.3626086956522\\n1.0,4.0,0.0,125.0,1647.3626086956522\\n1.0,4.0,0.0,103.0,1647.3626086956522\\n1.0,4.0,0.0,100.0,1647.3626086956522\\n1.0,4.0,0.0,122.0,1.0\\n1.0,4.0,0.0,100.0,1647.3626086956522\\n1.0,4.0,0.0,125.0,1647.3626086956522\\n1.0,4.0,0.0,147.0,10.0\\n1.0,4.0,0.0,121.0,1647.3626086956522\\n1.0,4.0,0.0,147.0,10.0\\n1.0,4.0,0.0,121.0,8900.0\\n1.0,4.0,0.0,100.0,4832.0\\n1.0,4.0,0.0,147.0,10.0\\n1.0,4.0,0.0,125.0,1647.3626086956522\\n0.0,4.0,0.0,154.0,11.0\\n0.0,4.0,0.0,147.0,1586.0\\n0.0,4.0,0.0,125.0,500.0\\n0.0,4.0,0.0,146.0,12500.0\\n0.0,4.0,0.0,121.0,1647.3626086956522\\n1.0,4.0,0.0,100.0,1647.3626086956522\\n1.0,4.0,0.0,81.0,5000.0\\n1.0,4.0,0.0,103.0,1647.3626086956522\\n1.0,4.0,0.0,100.0,1647.3626086956522\\n1.0,4.0,0.0,100.0,9300.0\\n1.0,4.0,0.0,103.0,1647.3626086956522\\n1.0,4.0,0.0,100.0,1647.3626086956522\\n1.0,4.0,0.0,100.0,1647.3626086956522\\n1.0,4.0,0.0,81.0,5000.0\\n1.0,4.0,0.0,100.0,1.0\\n1.0,4.0,0.0,100.0,1501.0\\n1.0,4.0,0.0,121.0,1647.3626086956522\\n1.0,4.0,0.0,125.0,3000.0\\n1.0,4.0,0.0,125.0,1647.3626086956522\\n0.0,4.0,0.0,154.0,9999.0\\n0.0,4.0,0.0,125.0,7.0\\n1.0,4.0,0.0,122.0,1647.3626086956522\\n0.0,4.0,0.0,147.0,14721.0\\n0.0,4.0,0.0,125.0,1647.3626086956522\\n1.0,4.0,0.0,122.0,1.0\\n1.0,4.0,0.0,121.0,1647.3626086956522\\n1.0,4.0,0.0,104.0,1.0\\n1.0,4.0,0.0,100.0,1647.3626086956522\\n0.0,5.0,3.0,66.0,161556.0\\n0.0,5.0,3.0,66.0,22000.0\\n0.0,5.0,2.0,66.0,8500.0\\n0.0,5.0,1.0,87.0,28337.0\\n0.0,5.0,1.0,88.0,100.0\\n0.0,5.0,1.0,88.0,100.0\\n0.0,5.0,1.0,88.0,5509.0\\n0.0,5.0,1.0,67.0,21085.0\\n0.0,5.0,1.0,87.0,9000.0\\n0.0,5.0,1.0,88.0,7954.0\\n0.0,5.0,1.0,87.0,14629.0\\n0.0,5.0,0.0,66.0,1647.3626086956522\\n0.0,5.0,3.0,88.0,49495.0\\n0.0,5.0,1.0,87.0,23650.0\\n0.0,5.0,2.0,87.0,24957.0\\n0.0,5.0,2.0,87.0,13900.0\\n0.0,5.0,1.0,87.0,14424.0\\n0.0,5.0,3.0,88.0,8900.0\\n0.0,5.0,0.0,66.0,1647.3626086956522\\n0.0,5.0,1.0,87.0,15912.0\\n0.0,5.0,1.0,87.0,22638.0\\n0.0,5.0,2.0,67.0,22607.0\\n0.0,5.0,1.0,87.0,23000.0\\n0.0,5.0,1.0,87.0,14400.0\\n0.0,5.0,1.0,87.0,27188.0\\n0.0,5.0,1.0,87.0,27188.0\\n0.0,5.0,1.0,87.0,19377.0\\n0.0,5.0,2.0,66.0,36780.0\\n0.0,5.0,2.0,56.0,13520.0\\n0.0,5.0,3.0,87.0,70760.0\\n0.0,5.0,1.0,87.0,24473.0\\n0.0,5.0,1.0,87.0,24473.0\\n0.0,5.0,1.0,87.0,24473.0\\n0.0,5.0,1.0,87.0,24473.0\\n0.0,5.0,3.0,66.0,9913.0\\n0.0,5.0,3.0,67.0,43384.0\\n0.0,5.0,1.0,66.0,16000.0\\n0.0,5.0,2.0,87.0,7327.0\\n0.0,5.0,2.0,87.0,26500.0\\n0.0,5.0,1.0,87.0,26879.0\\n0.0,5.0,2.0,87.0,31356.0\\n0.0,5.0,2.0,87.0,31356.0\\n0.0,5.0,2.0,87.0,31356.0\\n0.0,5.0,3.0,88.0,20500.0\\n0.0,5.0,2.0,66.0,14000.0\\n0.0,5.0,2.0,66.0,32713.0\\n0.0,5.0,2.0,66.0,75022.0\\n0.0,5.0,3.0,87.0,23300.0\\n0.0,5.0,3.0,66.0,22914.0\\n0.0,5.0,2.0,87.0,12176.0\\n0.0,5.0,2.0,87.0,31356.0\\n0.0,5.0,2.0,87.0,31356.0\\n0.0,5.0,2.0,87.0,31356.0\\n0.0,5.0,2.0,87.0,31356.0\\n0.0,5.0,2.0,66.0,32713.0\\n0.0,5.0,2.0,66.0,32713.0\\n0.0,5.0,2.0,66.0,4529.0\\n0.0,5.0,2.0,66.0,29790.0\\n0.0,5.0,1.0,87.0,26000.0\\n0.0,5.0,3.0,66.0,60000.0\\n0.0,5.0,3.0,66.0,90000.0\\n0.0,5.0,2.0,66.0,89910.0\\n0.0,5.0,3.0,87.0,63000.0\\n0.0,5.0,2.0,87.0,28000.0\\n0.0,5.0,3.0,66.0,48000.0\\n0.0,5.0,2.0,66.0,38000.0\\n0.0,5.0,2.0,66.0,15559.0\\n0.0,5.0,3.0,66.0,64103.0\\n0.0,5.0,3.0,87.0,51985.0\\n0.0,5.0,3.0,66.0,43000.0\\n1.0,5.0,2.0,55.0,56485.0\\n1.0,5.0,3.0,55.0,112000.0\\n1.0,5.0,2.0,55.0,19282.0\\n1.0,5.0,2.0,55.0,20971.0\\n1.0,5.0,2.0,54.0,23724.0\\n1.0,5.0,3.0,55.0,104171.0\\n1.0,5.0,3.0,54.0,49178.0\\n1.0,5.0,3.0,54.0,49178.0\\n1.0,5.0,3.0,54.0,49178.0\\n1.0,5.0,3.0,54.0,49178.0\\n1.0,5.0,3.0,54.0,49178.0\\n1.0,5.0,2.0,55.0,23110.0\\n1.0,5.0,2.0,55.0,32481.0\\n1.0,5.0,2.0,55.0,38046.0\\n1.0,5.0,2.0,54.0,48648.0\\n1.0,5.0,3.0,54.0,50100.0\\n1.0,5.0,2.0,54.0,42210.0\\n1.0,5.0,3.0,66.0,45000.0\\n1.0,5.0,3.0,56.0,86213.0\\n1.0,5.0,3.0,54.0,42208.0\\n1.0,5.0,3.0,66.0,81630.0\\n1.0,5.0,3.0,55.0,122617.0\\n1.0,5.0,3.0,55.0,84000.0\\n1.0,5.0,3.0,55.0,84000.0\\n1.0,5.0,3.0,55.0,84000.0\\n1.0,5.0,2.0,55.0,35774.0\\n1.0,5.0,3.0,55.0,121226.0\\n1.0,5.0,3.0,55.0,121226.0\\n1.0,5.0,3.0,66.0,120500.0\\n1.0,5.0,3.0,66.0,72945.0\\n1.0,5.0,3.0,66.0,85800.0\\n1.0,5.0,3.0,54.0,35305.0\\n1.0,5.0,2.0,55.0,23000.0\\n1.0,5.0,3.0,55.0,50000.0\\n1.0,5.0,2.0,55.0,23000.0\\n1.0,5.0,2.0,55.0,53000.0\\n1.0,5.0,3.0,55.0,38329.0\\n1.0,5.0,3.0,54.0,45000.0\\n1.0,5.0,3.0,55.0,81000.0\\n1.0,5.0,3.0,55.0,81000.0\\n1.0,5.0,3.0,56.0,68900.0\\n1.0,5.0,3.0,56.0,68900.0\\n1.0,5.0,3.0,55.0,93000.0\\n1.0,5.0,2.0,55.0,45206.0\\n1.0,5.0,2.0,55.0,19282.0\\n1.0,5.0,2.0,55.0,19282.0\\n1.0,5.0,2.0,55.0,26255.0\\n1.0,5.0,3.0,55.0,100000.0\\n1.0,5.0,3.0,55.0,160000.0\\n1.0,5.0,3.0,55.0,89263.0\\n1.0,5.0,2.0,55.0,25100.0\\n1.0,5.0,3.0,55.0,93500.0\\n1.0,5.0,3.0,54.0,42049.0\\n1.0,5.0,3.0,55.0,93500.0\\n1.0,5.0,3.0,55.0,97000.0\\n1.0,5.0,3.0,55.0,125988.0\\n1.0,5.0,3.0,55.0,72000.0\\n1.0,5.0,3.0,54.0,25668.0\\n1.0,5.0,3.0,55.0,148488.0\\n1.0,5.0,3.0,54.0,59000.0\\n1.0,5.0,3.0,55.0,65000.0\\n1.0,5.0,3.0,55.0,120000.0\\n1.0,5.0,3.0,54.0,20000.0\\n1.0,5.0,2.0,55.0,29000.0\\n1.0,5.0,3.0,55.0,98000.0\\n1.0,5.0,3.0,66.0,88000.0\\n1.0,5.0,3.0,66.0,44000.0\\n1.0,5.0,3.0,55.0,59535.0\\n1.0,5.0,3.0,55.0,82494.0\\n1.0,5.0,3.0,66.0,67250.0\\n1.0,5.0,3.0,66.0,99000.0\\n1.0,5.0,3.0,55.0,74000.0\\n0.0,5.0,2.0,87.0,17900.0\\n0.0,5.0,1.0,87.0,15250.0\\n0.0,5.0,1.0,87.0,19799.0\\n0.0,5.0,1.0,87.0,21352.0\\n0.0,5.0,1.0,87.0,13377.0\\n2.0,5.0,0.0,162.0,2900.0\\n2.0,5.0,1.0,162.0,5000.0\\n2.0,5.0,1.0,147.0,9000.0\\n2.0,5.0,3.0,162.0,45000.0\\n2.0,5.0,3.0,162.0,45000.0\\n1.0,5.0,3.0,54.0,4500.0\\n1.0,5.0,3.0,55.0,86000.0\\n1.0,5.0,3.0,55.0,6900.0\\n2.0,5.0,1.0,66.0,7000.0\\n2.0,5.0,3.0,66.0,49000.0\\n2.0,5.0,3.0,88.0,28000.0\\n1.0,5.0,3.0,55.0,62000.0\\n1.0,5.0,3.0,55.0,109501.0\\n1.0,5.0,3.0,55.0,72500.0\\n1.0,5.0,3.0,66.0,120985.0\\n0.0,5.0,0.0,56.0,10.0\\n1.0,5.0,2.0,54.0,57000.0\\n1.0,5.0,2.0,56.0,42253.0\\n1.0,5.0,2.0,55.0,65203.0\\n1.0,5.0,2.0,56.0,84496.0\\n1.0,5.0,2.0,54.0,51100.0\\n1.0,5.0,2.0,54.0,47948.0\\n1.0,5.0,2.0,66.0,30375.0\\n1.0,5.0,1.0,54.0,31500.0\\n1.0,5.0,2.0,55.0,15000.0\\n1.0,5.0,2.0,55.0,42000.0\\n1.0,5.0,2.0,56.0,14936.0\\n1.0,5.0,2.0,54.0,14000.0\\n1.0,5.0,2.0,55.0,28101.0\\n1.0,5.0,2.0,55.0,36281.0\\n1.0,5.0,2.0,54.0,31000.0\\n1.0,5.0,2.0,55.0,50000.0\\n1.0,5.0,1.0,66.0,26000.0\\n1.0,5.0,2.0,55.0,63000.0\\n1.0,5.0,2.0,55.0,23234.0\\n1.0,5.0,2.0,54.0,35000.0\\n1.0,5.0,2.0,55.0,49000.0\\n1.0,5.0,2.0,55.0,47000.0\\n1.0,5.0,2.0,55.0,131494.0\\n0.0,5.0,1.0,67.0,10.0\\n0.0,5.0,1.0,88.0,14235.0\\n0.0,5.0,0.0,56.0,10.0\\n0.0,5.0,0.0,56.0,10.0\\n0.0,5.0,1.0,66.0,10500.0\\n0.0,5.0,2.0,88.0,14967.0\\n0.0,5.0,0.0,88.0,10.0\\n0.0,5.0,1.0,87.0,14100.0\\n0.0,5.0,1.0,87.0,18900.0\\n0.0,5.0,1.0,87.0,8750.0\\n0.0,5.0,0.0,66.0,1647.3626086956522\\n0.0,5.0,1.0,88.0,100.0\\n0.0,5.0,1.0,88.0,14.0\\n0.0,5.0,2.0,147.0,16500.0\\n0.0,5.0,2.0,66.0,52000.0\\n1.0,5.0,2.0,54.0,44000.0\\n1.0,5.0,1.0,54.0,28000.0\\n1.0,5.0,1.0,66.0,35000.0\\n1.0,5.0,2.0,66.0,43900.0\\n1.0,5.0,0.0,56.0,1380.0\\n1.0,5.0,2.0,56.0,59943.0\\n1.0,5.0,0.0,66.0,1647.3626086956522\\n1.0,5.0,2.0,66.0,62858.0\\n1.0,5.0,0.0,54.0,10.0\\n1.0,5.0,0.0,54.0,10.0\\n1.0,5.0,0.0,55.0,1647.3626086956522\\n1.0,5.0,2.0,55.0,84375.0\\n1.0,5.0,1.0,54.0,2500.0\\n1.0,5.0,2.0,66.0,44451.0\\n1.0,5.0,1.0,66.0,32000.0\\n1.0,5.0,2.0,66.0,40000.0\\n1.0,5.0,2.0,54.0,27000.0\\n1.0,5.0,2.0,66.0,74900.0\\n1.0,5.0,2.0,66.0,44235.0\\n1.0,5.0,2.0,54.0,52700.0\\n1.0,5.0,2.0,66.0,51000.0\\n1.0,5.0,2.0,54.0,30120.0\\n1.0,5.0,2.0,55.0,23000.0\\n1.0,5.0,1.0,54.0,10419.0\\n1.0,5.0,2.0,55.0,43000.0\\n1.0,5.0,2.0,55.0,30000.0\\n1.0,5.0,2.0,54.0,15932.0\\n1.0,5.0,0.0,56.0,1647.3626086956522\\n0.0,5.0,1.0,162.0,17000.0\\n0.0,5.0,0.0,66.0,497.0\\n0.0,5.0,1.0,162.0,9000.0\\n0.0,5.0,1.0,162.0,10000.0\\n1.0,5.0,0.0,56.0,10.0\\n1.0,5.0,0.0,56.0,20.0\\n1.0,5.0,0.0,56.0,10.0\\n1.0,5.0,1.0,66.0,16000.0\\n1.0,5.0,0.0,56.0,10.0\\n1.0,5.0,0.0,56.0,1647.3626086956522\\n1.0,5.0,1.0,54.0,11314.0\\n1.0,5.0,1.0,54.0,9733.0\\n1.0,5.0,1.0,54.0,21543.0\\n1.0,5.0,1.0,54.0,10604.0\\n1.0,5.0,1.0,54.0,6017.0\\n1.0,5.0,1.0,66.0,15663.0\\n1.0,5.0,1.0,55.0,8900.0\\n1.0,5.0,0.0,56.0,5.0\\n0.0,5.0,1.0,163.0,21197.0\\n0.0,5.0,1.0,162.0,9336.0\\n0.0,5.0,0.0,90.0,10.0\\n0.0,5.0,1.0,162.0,17000.0\\n0.0,5.0,1.0,162.0,9000.0\\n0.0,5.0,1.0,162.0,40000.0\\n0.0,5.0,1.0,147.0,10.0\\n0.0,5.0,0.0,66.0,10.0\\n0.0,5.0,1.0,87.0,1.0\\n0.0,5.0,1.0,164.0,10564.0\\n0.0,5.0,1.0,164.0,10564.0\\n0.0,5.0,1.0,162.0,16771.0\\n0.0,5.0,1.0,162.0,18035.130066815145\\n0.0,5.0,1.0,162.0,10.0\\n0.0,5.0,1.0,162.0,10.0\\n0.0,5.0,1.0,162.0,9990.0\\n0.0,5.0,1.0,162.0,150.0\\n0.0,5.0,1.0,147.0,7500.0\\n0.0,5.0,1.0,87.0,24000.0\\n0.0,5.0,0.0,66.0,99.0\\n0.0,5.0,1.0,162.0,13948.0\\n0.0,5.0,1.0,88.0,7405.0\\n0.0,5.0,1.0,87.0,8.0\\n0.0,5.0,0.0,87.0,1647.3626086956522\\n1.0,5.0,1.0,54.0,16750.0\\n1.0,5.0,1.0,54.0,9340.0\\n1.0,5.0,1.0,54.0,34544.0\\n1.0,5.0,0.0,56.0,15.0\\n1.0,5.0,0.0,55.0,50.0\\n1.0,5.0,1.0,55.0,10.0\\n1.0,5.0,1.0,55.0,1.0\\n1.0,5.0,0.0,56.0,1647.3626086956522\\n1.0,5.0,0.0,54.0,10.0\\n1.0,5.0,1.0,55.0,63941.0\\n1.0,5.0,1.0,56.0,10.0\\n1.0,5.0,1.0,54.0,14800.0\\n1.0,5.0,1.0,54.0,12900.0\\n1.0,5.0,1.0,54.0,11611.0\\n1.0,5.0,1.0,55.0,8000.0\\n1.0,5.0,1.0,66.0,18700.0\\n1.0,5.0,1.0,66.0,17000.0\\n1.0,5.0,1.0,66.0,14000.0\\n1.0,5.0,1.0,55.0,18784.0\\n1.0,5.0,1.0,54.0,19550.0\\n1.0,5.0,0.0,55.0,1647.3626086956522\\n1.0,5.0,1.0,66.0,36036.0\\n1.0,5.0,1.0,54.0,9169.0\\n1.0,5.0,1.0,66.0,39900.0\\n1.0,5.0,1.0,66.0,28000.0\\n1.0,5.0,1.0,66.0,29200.0\\n1.0,5.0,1.0,66.0,29300.0\\n1.0,5.0,0.0,56.0,10.0\\n1.0,5.0,1.0,66.0,28000.0\\n1.0,5.0,1.0,66.0,28900.0\\n1.0,5.0,1.0,66.0,29200.0\\n1.0,5.0,1.0,54.0,11300.0\\n1.0,5.0,0.0,56.0,1647.3626086956522\\n1.0,5.0,0.0,57.0,10.0\\n1.0,5.0,0.0,56.0,50.0\\n1.0,5.0,0.0,56.0,50.0\\n1.0,5.0,0.0,66.0,1.0\\n1.0,5.0,0.0,56.0,10.0\\n1.0,5.0,0.0,56.0,10.0\\n1.0,5.0,0.0,55.0,1647.3626086956522\\n1.0,5.0,0.0,56.0,1647.3626086956522\\n1.0,5.0,0.0,56.0,10.0\\n1.0,5.0,0.0,56.0,10.0\\n1.0,5.0,0.0,56.0,10.0\\n1.0,5.0,0.0,56.0,10.0\\n1.0,5.0,0.0,56.0,10.0\\n1.0,5.0,0.0,55.0,10.0\\n1.0,5.0,0.0,56.0,100.0\\n1.0,5.0,0.0,56.0,1647.3626086956522\\n1.0,5.0,0.0,56.0,9.0\\n1.0,5.0,0.0,56.0,10.0\\n1.0,5.0,0.0,56.0,9998.0\\n1.0,5.0,0.0,56.0,10.0\\n1.0,5.0,0.0,55.0,1.0\\n1.0,5.0,0.0,55.0,1.0\\n1.0,5.0,0.0,55.0,1.0\\n1.0,5.0,0.0,55.0,1.0\\n1.0,5.0,0.0,55.0,1.0\\n1.0,5.0,0.0,55.0,1.0\\n1.0,5.0,0.0,56.0,10.0\\n1.0,5.0,0.0,56.0,1647.3626086956522\\n1.0,5.0,0.0,56.0,1647.3626086956522\\n1.0,5.0,0.0,56.0,20.0\\n1.0,5.0,0.0,56.0,10.0\\n1.0,5.0,0.0,56.0,1647.3626086956522\\n1.0,5.0,0.0,66.0,10.0\\n1.0,5.0,0.0,54.0,10.0\\n1.0,5.0,0.0,56.0,100.0\\n1.0,5.0,0.0,56.0,100.0\\n1.0,5.0,0.0,56.0,5.0\\n1.0,5.0,0.0,56.0,5.0\\n1.0,5.0,0.0,66.0,10.0\\n1.0,5.0,0.0,55.0,1647.3626086956522\\n1.0,5.0,0.0,56.0,150.0\\n1.0,5.0,0.0,55.0,1647.3626086956522\\n1.0,5.0,0.0,55.0,1647.3626086956522\\n1.0,5.0,0.0,66.0,100.0\\n1.0,5.0,0.0,56.0,1.0\\n1.0,5.0,0.0,56.0,50.0\\n1.0,5.0,0.0,56.0,11.0\\n0.0,6.0,0.0,77.0,1647.3626086956522\\n1.0,6.0,0.0,77.0,101.0\\n1.0,6.0,0.0,77.0,101.0\\n1.0,6.0,0.0,77.0,101.0\\n1.0,6.0,0.0,77.0,101.0\\n1.0,6.0,0.0,77.0,1647.3626086956522\\n0.0,7.0,2.0,118.0,70000.0\\n0.0,7.0,2.0,118.0,16163.0\\n0.0,7.0,3.0,118.0,122518.0\\n0.0,7.0,1.0,118.0,14478.0\\n0.0,7.0,3.0,118.0,34987.0\\n0.0,7.0,2.0,118.0,45000.0\\n0.0,7.0,2.0,118.0,16613.0\\n0.0,7.0,3.0,118.0,64000.0\\n0.0,7.0,1.0,118.0,28918.0\\n0.0,7.0,3.0,118.0,33837.0\\n0.0,7.0,3.0,147.0,31200.0\\n0.0,7.0,3.0,118.0,24200.0\\n0.0,7.0,2.0,118.0,47458.0\\n0.0,7.0,1.0,165.0,332.0\\n0.0,7.0,3.0,118.0,29220.0\\n0.0,7.0,1.0,118.0,14478.0\\n0.0,7.0,1.0,118.0,1935.0\\n0.0,7.0,3.0,118.0,19450.0\\n0.0,7.0,3.0,118.0,49000.0\\n0.0,7.0,3.0,118.0,10000.0\\n0.0,7.0,3.0,118.0,16955.0\\n0.0,7.0,3.0,118.0,99000.0\\n0.0,7.0,2.0,118.0,42700.0\\n0.0,7.0,3.0,118.0,65000.0\\n0.0,7.0,3.0,118.0,58577.0\\n0.0,7.0,3.0,118.0,42710.0\\n0.0,7.0,3.0,118.0,38002.0\\n0.0,7.0,3.0,118.0,73598.0\\n0.0,7.0,2.0,147.0,49606.0\\n0.0,7.0,2.0,147.0,49606.0\\n0.0,7.0,2.0,147.0,49606.0\\n0.0,7.0,2.0,147.0,49606.0\\n0.0,7.0,3.0,118.0,72118.0\\n0.0,7.0,2.0,147.0,65000.0\\n0.0,7.0,3.0,119.0,34873.0\\n0.0,7.0,3.0,118.0,47540.0\\n0.0,7.0,3.0,120.0,40271.0\\n0.0,7.0,3.0,118.0,58078.0\\n0.0,7.0,3.0,118.0,43747.0\\n0.0,7.0,3.0,118.0,33000.0\\n0.0,7.0,3.0,147.0,29311.0\\n0.0,7.0,1.0,118.0,14470.0\\n0.0,7.0,3.0,118.0,56000.0\\n0.0,7.0,3.0,118.0,56000.0\\n0.0,7.0,3.0,118.0,56000.0\\n0.0,7.0,3.0,118.0,48100.0\\n0.0,7.0,2.0,118.0,69600.0\\n0.0,7.0,3.0,147.0,79000.0\\n0.0,7.0,3.0,118.0,64000.0\\n0.0,7.0,2.0,118.0,77931.0\\n0.0,7.0,3.0,118.0,62100.0\\n0.0,7.0,3.0,118.0,101000.0\\n0.0,7.0,2.0,118.0,110247.0\\n0.0,7.0,3.0,118.0,78058.0\\n0.0,7.0,3.0,118.0,71856.0\\n0.0,7.0,3.0,119.0,72000.0\\n0.0,7.0,3.0,118.0,90000.0\\n0.0,7.0,3.0,147.0,144015.0\\n0.0,7.0,3.0,118.0,98000.0\\n0.0,7.0,3.0,118.0,85100.0\\n0.0,7.0,3.0,118.0,126000.0\\n0.0,7.0,2.0,118.0,77931.0\\n0.0,7.0,3.0,118.0,68570.0\\n0.0,7.0,3.0,118.0,87445.0\\n0.0,7.0,3.0,118.0,149750.0\\n0.0,7.0,3.0,118.0,99950.0\\n0.0,7.0,3.0,118.0,90000.0\\n0.0,7.0,2.0,118.0,113100.0\\n0.0,7.0,3.0,118.0,180000.0\\n1.0,7.0,0.0,118.0,11.0\\n1.0,7.0,0.0,146.0,10.0\\n1.0,7.0,0.0,165.0,2000.0\\n1.0,7.0,1.0,165.0,5000.0\\n1.0,7.0,1.0,96.0,50.0\\n1.0,7.0,3.0,96.0,89000.0\\n0.0,7.0,1.0,119.0,38765.0\\n0.0,7.0,1.0,119.0,34133.0\\n0.0,7.0,2.0,118.0,54000.0\\n0.0,7.0,1.0,118.0,19532.0\\n0.0,7.0,3.0,118.0,67470.0\\n1.0,7.0,3.0,96.0,48400.0\\n1.0,7.0,3.0,96.0,7455.0\\n1.0,7.0,3.0,96.0,49900.0\\n1.0,7.0,2.0,96.0,38000.0\\n1.0,7.0,3.0,96.0,85159.0\\n1.0,7.0,2.0,96.0,21978.0\\n1.0,7.0,1.0,98.0,19422.0\\n2.0,7.0,2.0,118.0,35276.0\\n2.0,7.0,1.0,118.0,19311.0\\n2.0,7.0,1.0,165.0,13550.0\\n2.0,7.0,1.0,118.0,19000.0\\n2.0,7.0,3.0,147.0,50200.0\\n2.0,7.0,1.0,118.0,6700.0\\n2.0,7.0,3.0,118.0,43700.0\\n2.0,7.0,3.0,118.0,65000.0\\n2.0,7.0,3.0,118.0,130000.0\\n2.0,7.0,3.0,118.0,110000.0\\n2.0,7.0,3.0,118.0,85000.0\\n0.0,7.0,2.0,118.0,26059.0\\n0.0,7.0,1.0,118.0,886.0\\n0.0,7.0,0.0,165.0,10.0\\n0.0,7.0,0.0,165.0,5000.0\\n0.0,7.0,1.0,118.0,19000.0\\n0.0,7.0,1.0,118.0,15824.0\\n0.0,7.0,2.0,118.0,1.0\\n0.0,7.0,2.0,118.0,16800.0\\n0.0,7.0,0.0,165.0,10.0\\n0.0,7.0,0.0,118.0,10.0\\n0.0,7.0,1.0,118.0,10100.0\\n0.0,7.0,0.0,118.0,10.0\\n0.0,7.0,1.0,165.0,17153.0\\n0.0,7.0,0.0,118.0,1.0\\n0.0,7.0,2.0,118.0,14000.0\\n0.0,7.0,1.0,119.0,27678.0\\n0.0,7.0,1.0,165.0,23049.0\\n0.0,7.0,1.0,119.0,21377.0\\n0.0,7.0,0.0,165.0,10.0\\n0.0,7.0,1.0,118.0,1.0\\n0.0,7.0,1.0,118.0,18035.130066815145\\n0.0,7.0,1.0,118.0,10100.0\\n0.0,7.0,1.0,165.0,14600.0\\n0.0,7.0,1.0,118.0,11107.0\\n0.0,7.0,2.0,118.0,17500.0\\n0.0,7.0,1.0,118.0,28000.0\\n0.0,7.0,1.0,118.0,9000.0\\n0.0,7.0,0.0,118.0,10.0\\n0.0,7.0,2.0,118.0,11700.0\\n0.0,7.0,1.0,118.0,28684.0\\n0.0,7.0,1.0,118.0,47.0\\n0.0,7.0,0.0,118.0,1.0\\n0.0,7.0,0.0,118.0,1.0\\n0.0,7.0,1.0,165.0,23825.0\\n0.0,7.0,1.0,118.0,18035.130066815145\\n0.0,7.0,1.0,118.0,18035.130066815145\\n0.0,7.0,0.0,165.0,11.0\\n0.0,7.0,0.0,165.0,11.0\\n0.0,7.0,1.0,118.0,27896.0\\n0.0,7.0,0.0,118.0,1.0\\n0.0,7.0,2.0,118.0,31686.0\\n0.0,7.0,1.0,165.0,21123.0\\n0.0,7.0,1.0,165.0,32001.0\\n0.0,7.0,2.0,118.0,18988.0\\n0.0,7.0,1.0,165.0,21123.0\\n0.0,7.0,2.0,118.0,102001.0\\n0.0,7.0,0.0,165.0,1647.3626086956522\\n0.0,7.0,1.0,165.0,10290.0\\n0.0,7.0,1.0,118.0,120.0\\n0.0,7.0,0.0,165.0,99.0\\n0.0,7.0,0.0,146.0,15.0\\n0.0,7.0,0.0,165.0,50.0\\n0.0,7.0,1.0,165.0,200.0\\n0.0,7.0,1.0,118.0,15101.0\\n0.0,7.0,1.0,165.0,16800.0\\n0.0,7.0,1.0,165.0,15.0\\n0.0,7.0,1.0,118.0,1.0\\n0.0,7.0,1.0,165.0,24459.0\\n0.0,7.0,1.0,165.0,15851.0\\n0.0,7.0,0.0,146.0,15.0\\n0.0,7.0,1.0,118.0,10.0\\n0.0,7.0,1.0,118.0,13714.0\\n0.0,7.0,0.0,165.0,10.0\\n0.0,7.0,1.0,165.0,9900.0\\n0.0,7.0,1.0,165.0,7800.0\\n0.0,7.0,1.0,118.0,18500.0\\n0.0,7.0,0.0,118.0,10.0\\n0.0,7.0,1.0,165.0,5550.0\\n0.0,7.0,1.0,167.0,14328.0\\n0.0,7.0,1.0,118.0,1.0\\n0.0,7.0,1.0,118.0,18035.130066815145\\n0.0,7.0,1.0,118.0,50.0\\n0.0,7.0,0.0,165.0,15.0\\n0.0,7.0,0.0,146.0,15.0\\n0.0,7.0,0.0,165.0,14900.0\\n0.0,7.0,0.0,165.0,5000.0\\n0.0,7.0,0.0,165.0,1136.0\\n0.0,7.0,0.0,165.0,1000.0\\n0.0,7.0,0.0,165.0,11.0\\n0.0,7.0,0.0,147.0,1647.3626086956522\\n0.0,7.0,0.0,165.0,11.0\\n0.0,7.0,0.0,118.0,4307.0\\n0.0,7.0,0.0,147.0,99.0\\n0.0,7.0,0.0,118.0,1647.3626086956522\\n0.0,7.0,0.0,147.0,6500.0\\n0.0,7.0,0.0,147.0,3500.0\\n0.0,7.0,0.0,147.0,20.0\\n0.0,7.0,0.0,147.0,19900.0\\n0.0,7.0,0.0,147.0,1647.3626086956522\\n0.0,7.0,0.0,118.0,11.0\\n0.0,7.0,0.0,147.0,500.0\\n0.0,7.0,0.0,147.0,500.0\\n0.0,7.0,0.0,165.0,20.0\\n0.0,7.0,0.0,165.0,2860.0\\n0.0,7.0,0.0,147.0,5.0\\n0.0,7.0,0.0,147.0,3000.0\\n0.0,7.0,0.0,165.0,1647.3626086956522\\n0.0,7.0,0.0,147.0,57.0\\n0.0,7.0,0.0,165.0,4000.0\\n0.0,7.0,0.0,165.0,1647.3626086956522\\n0.0,7.0,0.0,165.0,4100.0\\n0.0,7.0,0.0,147.0,1647.3626086956522\\n0.0,7.0,0.0,118.0,2.0\\n0.0,7.0,0.0,147.0,10.0\\n0.0,7.0,0.0,165.0,10.0\\n0.0,7.0,0.0,118.0,10.0\\n0.0,7.0,0.0,165.0,9900.0'"
      ]
     },
     "execution_count": 63,
     "metadata": {},
     "output_type": "execute_result"
    }
   ],
   "source": [
    "# checking the content of payload\n",
    "payload"
   ]
  },
  {
   "cell_type": "code",
   "execution_count": 253,
   "metadata": {},
   "outputs": [],
   "source": [
    "# payload=\"0.0,0.0,2.0,141.0,80000.0\"     # by this one you can try a single value to be predicted"
   ]
  },
  {
   "cell_type": "code",
   "execution_count": 64,
   "metadata": {},
   "outputs": [],
   "source": [
    "# Create sagemaker runtime object to send request to endpoint and get response\n",
    "sagemaker_runtime = boto3.client(\"sagemaker-runtime\", region_name=boto3.Session().region_name)\n",
    "\n",
    "# Invoke endpoint to get prediction results\n",
    "response = sagemaker_runtime.invoke_endpoint(\n",
    "                            EndpointName=endpoint_name,  # endpoint name we created (should be unique)\n",
    "                            Body=payload, # prediction data\n",
    "                            ContentType = 'text/csv')  # type of data\n",
    "\n",
    "# Optional - to see prediction result\n",
    "# print(response['Body'].read().decode('utf-8'))"
   ]
  },
  {
   "cell_type": "code",
   "execution_count": 65,
   "metadata": {},
   "outputs": [],
   "source": [
    "# The prediction result is in json format and \"Body\" key contains the prediction values.\n",
    " \n",
    "results2 = response['Body'].read()   # results2 = response['Body'].read().decode('utf-8')"
   ]
  },
  {
   "cell_type": "code",
   "execution_count": 67,
   "metadata": {},
   "outputs": [],
   "source": [
    "# results2"
   ]
  },
  {
   "cell_type": "code",
   "execution_count": 68,
   "metadata": {},
   "outputs": [],
   "source": [
    "# prediction results(probability values) as numpy array\n",
    "results2 = np.fromstring(results2, sep='\\n')"
   ]
  },
  {
   "cell_type": "code",
   "execution_count": 69,
   "metadata": {},
   "outputs": [
    {
     "data": {
      "text/plain": [
       "array([15970.21582031, 15887.58984375, 16116.35449219, ...,\n",
       "       35987.32421875, 34214.22265625, 42065.0078125 ])"
      ]
     },
     "execution_count": 69,
     "metadata": {},
     "output_type": "execute_result"
    }
   ],
   "source": [
    "results2"
   ]
  },
  {
   "cell_type": "code",
   "execution_count": 70,
   "metadata": {},
   "outputs": [
    {
     "data": {
      "text/plain": [
       "(3183,)"
      ]
     },
     "execution_count": 70,
     "metadata": {},
     "output_type": "execute_result"
    }
   ],
   "source": [
    "results2.shape"
   ]
  },
  {
   "cell_type": "code",
   "execution_count": 71,
   "metadata": {},
   "outputs": [
    {
     "data": {
      "text/plain": [
       "(3183,)"
      ]
     },
     "execution_count": 71,
     "metadata": {},
     "output_type": "execute_result"
    }
   ],
   "source": [
    "y.shape"
   ]
  },
  {
   "cell_type": "code",
   "execution_count": 72,
   "metadata": {},
   "outputs": [
    {
     "name": "stdout",
     "output_type": "stream",
     "text": [
      " r2_score: 0.9226945994208223 \n",
      " mae: 1257.1303233854658 \n",
      " mse: 4358154.293919976 \n",
      " rmse: 2087.6192885485552\n"
     ]
    }
   ],
   "source": [
    "eval_metrics(y, results2)"
   ]
  },
  {
   "cell_type": "code",
   "execution_count": 73,
   "metadata": {},
   "outputs": [],
   "source": [
    "test_data[\"predicted_price2\"] = results2"
   ]
  },
  {
   "cell_type": "code",
   "execution_count": 74,
   "metadata": {},
   "outputs": [
    {
     "data": {
      "text/html": [
       "<div>\n",
       "<style scoped>\n",
       "    .dataframe tbody tr th:only-of-type {\n",
       "        vertical-align: middle;\n",
       "    }\n",
       "\n",
       "    .dataframe tbody tr th {\n",
       "        vertical-align: top;\n",
       "    }\n",
       "\n",
       "    .dataframe thead th {\n",
       "        text-align: right;\n",
       "    }\n",
       "</style>\n",
       "<table border=\"1\" class=\"dataframe\">\n",
       "  <thead>\n",
       "    <tr style=\"text-align: right;\">\n",
       "      <th></th>\n",
       "      <th>price</th>\n",
       "      <th>age</th>\n",
       "      <th>hp_kW</th>\n",
       "      <th>km</th>\n",
       "      <th>Gearing_Type</th>\n",
       "      <th>make_model</th>\n",
       "      <th>predicted_price</th>\n",
       "      <th>predicted_price2</th>\n",
       "    </tr>\n",
       "  </thead>\n",
       "  <tbody>\n",
       "    <tr>\n",
       "      <th>1846</th>\n",
       "      <td>13990</td>\n",
       "      <td>1.0</td>\n",
       "      <td>66.0</td>\n",
       "      <td>12099.0</td>\n",
       "      <td>Automatic</td>\n",
       "      <td>Opel Corsa</td>\n",
       "      <td>13578.894531</td>\n",
       "      <td>13578.894531</td>\n",
       "    </tr>\n",
       "    <tr>\n",
       "      <th>1671</th>\n",
       "      <td>12500</td>\n",
       "      <td>3.0</td>\n",
       "      <td>66.0</td>\n",
       "      <td>52000.0</td>\n",
       "      <td>Automatic</td>\n",
       "      <td>Opel Corsa</td>\n",
       "      <td>10880.681641</td>\n",
       "      <td>10880.681641</td>\n",
       "    </tr>\n",
       "    <tr>\n",
       "      <th>1497</th>\n",
       "      <td>13900</td>\n",
       "      <td>1.0</td>\n",
       "      <td>81.0</td>\n",
       "      <td>13149.0</td>\n",
       "      <td>Manual</td>\n",
       "      <td>Opel Astra</td>\n",
       "      <td>14091.145508</td>\n",
       "      <td>14091.145508</td>\n",
       "    </tr>\n",
       "    <tr>\n",
       "      <th>149</th>\n",
       "      <td>15950</td>\n",
       "      <td>3.0</td>\n",
       "      <td>66.0</td>\n",
       "      <td>53900.0</td>\n",
       "      <td>Semi-automatic</td>\n",
       "      <td>Audi A1</td>\n",
       "      <td>16133.251953</td>\n",
       "      <td>16133.251953</td>\n",
       "    </tr>\n",
       "    <tr>\n",
       "      <th>2352</th>\n",
       "      <td>16800</td>\n",
       "      <td>1.0</td>\n",
       "      <td>103.0</td>\n",
       "      <td>23401.0</td>\n",
       "      <td>Manual</td>\n",
       "      <td>Opel Insignia</td>\n",
       "      <td>18953.675781</td>\n",
       "      <td>18953.675781</td>\n",
       "    </tr>\n",
       "    <tr>\n",
       "      <th>3007</th>\n",
       "      <td>25490</td>\n",
       "      <td>2.0</td>\n",
       "      <td>147.0</td>\n",
       "      <td>49606.0</td>\n",
       "      <td>Automatic</td>\n",
       "      <td>Renault Espace</td>\n",
       "      <td>26104.083984</td>\n",
       "      <td>26104.083984</td>\n",
       "    </tr>\n",
       "    <tr>\n",
       "      <th>2114</th>\n",
       "      <td>15980</td>\n",
       "      <td>3.0</td>\n",
       "      <td>125.0</td>\n",
       "      <td>88346.0</td>\n",
       "      <td>Automatic</td>\n",
       "      <td>Opel Insignia</td>\n",
       "      <td>16086.406250</td>\n",
       "      <td>16086.406250</td>\n",
       "    </tr>\n",
       "    <tr>\n",
       "      <th>1805</th>\n",
       "      <td>8850</td>\n",
       "      <td>2.0</td>\n",
       "      <td>70.0</td>\n",
       "      <td>89000.0</td>\n",
       "      <td>Manual</td>\n",
       "      <td>Opel Corsa</td>\n",
       "      <td>8797.889648</td>\n",
       "      <td>8797.889648</td>\n",
       "    </tr>\n",
       "    <tr>\n",
       "      <th>1304</th>\n",
       "      <td>17400</td>\n",
       "      <td>2.0</td>\n",
       "      <td>110.0</td>\n",
       "      <td>62000.0</td>\n",
       "      <td>Automatic</td>\n",
       "      <td>Opel Astra</td>\n",
       "      <td>15223.293945</td>\n",
       "      <td>15223.293945</td>\n",
       "    </tr>\n",
       "    <tr>\n",
       "      <th>1256</th>\n",
       "      <td>10980</td>\n",
       "      <td>3.0</td>\n",
       "      <td>100.0</td>\n",
       "      <td>107791.0</td>\n",
       "      <td>Manual</td>\n",
       "      <td>Opel Astra</td>\n",
       "      <td>10500.507812</td>\n",
       "      <td>10500.507812</td>\n",
       "    </tr>\n",
       "  </tbody>\n",
       "</table>\n",
       "</div>"
      ],
      "text/plain": [
       "      price  age  hp_kW        km    Gearing_Type      make_model  \\\n",
       "1846  13990  1.0   66.0   12099.0       Automatic      Opel Corsa   \n",
       "1671  12500  3.0   66.0   52000.0       Automatic      Opel Corsa   \n",
       "1497  13900  1.0   81.0   13149.0          Manual      Opel Astra   \n",
       "149   15950  3.0   66.0   53900.0  Semi-automatic         Audi A1   \n",
       "2352  16800  1.0  103.0   23401.0          Manual   Opel Insignia   \n",
       "3007  25490  2.0  147.0   49606.0       Automatic  Renault Espace   \n",
       "2114  15980  3.0  125.0   88346.0       Automatic   Opel Insignia   \n",
       "1805   8850  2.0   70.0   89000.0          Manual      Opel Corsa   \n",
       "1304  17400  2.0  110.0   62000.0       Automatic      Opel Astra   \n",
       "1256  10980  3.0  100.0  107791.0          Manual      Opel Astra   \n",
       "\n",
       "      predicted_price  predicted_price2  \n",
       "1846     13578.894531      13578.894531  \n",
       "1671     10880.681641      10880.681641  \n",
       "1497     14091.145508      14091.145508  \n",
       "149      16133.251953      16133.251953  \n",
       "2352     18953.675781      18953.675781  \n",
       "3007     26104.083984      26104.083984  \n",
       "2114     16086.406250      16086.406250  \n",
       "1805      8797.889648       8797.889648  \n",
       "1304     15223.293945      15223.293945  \n",
       "1256     10500.507812      10500.507812  "
      ]
     },
     "execution_count": 74,
     "metadata": {},
     "output_type": "execute_result"
    }
   ],
   "source": [
    "test_data.sample(10, random_state=41)"
   ]
  },
  {
   "cell_type": "markdown",
   "metadata": {},
   "source": [
    "# jason info:"
   ]
  },
  {
   "cell_type": "code",
   "execution_count": 79,
   "metadata": {},
   "outputs": [],
   "source": [
    "import json"
   ]
  },
  {
   "cell_type": "code",
   "execution_count": 80,
   "metadata": {},
   "outputs": [
    {
     "data": {
      "text/plain": [
       "'0.0,0.0,2.0,141.0,80000.0'"
      ]
     },
     "execution_count": 80,
     "metadata": {},
     "output_type": "execute_result"
    }
   ],
   "source": [
    "event = {\n",
    "  \"data\": \"0.0,0.0,2.0,141.0,80000.0\"\n",
    "}\n",
    "\n",
    "data = json.loads(json.dumps(event))\n",
    "\n",
    "payload = data[\"data\"]\n",
    "payload"
   ]
  },
  {
   "cell_type": "code",
   "execution_count": 81,
   "metadata": {},
   "outputs": [
    {
     "data": {
      "text/plain": [
       "dict"
      ]
     },
     "execution_count": 81,
     "metadata": {},
     "output_type": "execute_result"
    }
   ],
   "source": [
    "type(event)"
   ]
  },
  {
   "cell_type": "code",
   "execution_count": 82,
   "metadata": {},
   "outputs": [
    {
     "data": {
      "text/plain": [
       "str"
      ]
     },
     "execution_count": 82,
     "metadata": {},
     "output_type": "execute_result"
    }
   ],
   "source": [
    "type(payload)"
   ]
  },
  {
   "cell_type": "code",
   "execution_count": 83,
   "metadata": {},
   "outputs": [],
   "source": [
    "my_dict = {\n",
    "    \"age\": 2,\n",
    "    \"hp_kW\": 141,\n",
    "    \"km\": 80000,\n",
    "    'Gearing_Type':'Automatic',\n",
    "    \"make_model\": 'Audi A1'}"
   ]
  },
  {
   "cell_type": "code",
   "execution_count": 84,
   "metadata": {},
   "outputs": [],
   "source": [
    "df = pd.DataFrame.from_dict([my_dict])"
   ]
  },
  {
   "cell_type": "code",
   "execution_count": 86,
   "metadata": {},
   "outputs": [],
   "source": [
    "df2 = column_trans.transform(df)"
   ]
  },
  {
   "cell_type": "code",
   "execution_count": 87,
   "metadata": {},
   "outputs": [
    {
     "data": {
      "text/html": [
       "<div>\n",
       "<style scoped>\n",
       "    .dataframe tbody tr th:only-of-type {\n",
       "        vertical-align: middle;\n",
       "    }\n",
       "\n",
       "    .dataframe tbody tr th {\n",
       "        vertical-align: top;\n",
       "    }\n",
       "\n",
       "    .dataframe thead th {\n",
       "        text-align: right;\n",
       "    }\n",
       "</style>\n",
       "<table border=\"1\" class=\"dataframe\">\n",
       "  <thead>\n",
       "    <tr style=\"text-align: right;\">\n",
       "      <th></th>\n",
       "      <th>Gearing_Type</th>\n",
       "      <th>make_model</th>\n",
       "      <th>age</th>\n",
       "      <th>hp_kW</th>\n",
       "      <th>km</th>\n",
       "    </tr>\n",
       "  </thead>\n",
       "  <tbody>\n",
       "    <tr>\n",
       "      <th>0</th>\n",
       "      <td>0.0</td>\n",
       "      <td>0.0</td>\n",
       "      <td>2</td>\n",
       "      <td>141</td>\n",
       "      <td>80000</td>\n",
       "    </tr>\n",
       "  </tbody>\n",
       "</table>\n",
       "</div>"
      ],
      "text/plain": [
       "   Gearing_Type  make_model  age  hp_kW     km\n",
       "0           0.0         0.0    2    141  80000"
      ]
     },
     "execution_count": 87,
     "metadata": {},
     "output_type": "execute_result"
    }
   ],
   "source": [
    "df2"
   ]
  },
  {
   "cell_type": "code",
   "execution_count": 88,
   "metadata": {},
   "outputs": [],
   "source": [
    "df2.to_csv('df2.csv', index=False, header=False)"
   ]
  },
  {
   "cell_type": "code",
   "execution_count": 89,
   "metadata": {},
   "outputs": [],
   "source": [
    "with open('df2.csv', 'r') as f:\n",
    "    payload = f.read().strip('\\n')"
   ]
  },
  {
   "cell_type": "code",
   "execution_count": 90,
   "metadata": {},
   "outputs": [
    {
     "data": {
      "text/plain": [
       "'0.0,0.0,2,141,80000'"
      ]
     },
     "execution_count": 90,
     "metadata": {},
     "output_type": "execute_result"
    }
   ],
   "source": [
    "payload"
   ]
  },
  {
   "cell_type": "code",
   "execution_count": 91,
   "metadata": {},
   "outputs": [],
   "source": [
    "event = {\n",
    "  \"data\": payload\n",
    "  \n",
    "}"
   ]
  },
  {
   "cell_type": "code",
   "execution_count": 92,
   "metadata": {},
   "outputs": [
    {
     "data": {
      "text/plain": [
       "{'data': '0.0,0.0,2,141,80000'}"
      ]
     },
     "execution_count": 92,
     "metadata": {},
     "output_type": "execute_result"
    }
   ],
   "source": [
    "event"
   ]
  },
  {
   "cell_type": "code",
   "execution_count": 93,
   "metadata": {},
   "outputs": [
    {
     "data": {
      "text/plain": [
       "{'ResponseMetadata': {'RequestId': '77c46e0d-ee7d-4ade-bd62-fbca9d7a8bbc',\n",
       "  'HTTPStatusCode': 200,\n",
       "  'HTTPHeaders': {'x-amzn-requestid': '77c46e0d-ee7d-4ade-bd62-fbca9d7a8bbc',\n",
       "   'content-type': 'application/x-amz-json-1.1',\n",
       "   'date': 'Mon, 26 Aug 2024 08:39:22 GMT',\n",
       "   'content-length': '0'},\n",
       "  'RetryAttempts': 0}}"
      ]
     },
     "execution_count": 93,
     "metadata": {},
     "output_type": "execute_result"
    }
   ],
   "source": [
    "# Create a low-level SageMaker service client.\n",
    "sagemaker_client = boto3.client('sagemaker', region_name=region)\n",
    "\n",
    "# Delete endpoint\n",
    "sagemaker_client.delete_endpoint(EndpointName=endpoint_name)"
   ]
  },
  {
   "cell_type": "markdown",
   "metadata": {},
   "source": [
    "## Creating transformer file"
   ]
  },
  {
   "cell_type": "code",
   "execution_count": 173,
   "metadata": {},
   "outputs": [],
   "source": [
    "ord_enc = OrdinalEncoder(handle_unknown='use_encoded_value', unknown_value=-1)\n",
    "column_trans = make_column_transformer((ord_enc, cat), remainder='passthrough')"
   ]
  },
  {
   "cell_type": "code",
   "execution_count": 180,
   "metadata": {},
   "outputs": [],
   "source": [
    "scaler = column_trans.fit(X)"
   ]
  },
  {
   "cell_type": "code",
   "execution_count": 181,
   "metadata": {},
   "outputs": [],
   "source": [
    "import pickle\n",
    "pickle.dump(scaler, open(\"transformer\", 'wb'))"
   ]
  },
  {
   "cell_type": "code",
   "execution_count": 182,
   "metadata": {},
   "outputs": [],
   "source": [
    "richard_transformer = pickle.load(open('transformer', 'rb'))"
   ]
  },
  {
   "cell_type": "code",
   "execution_count": 184,
   "metadata": {
    "scrolled": true
   },
   "outputs": [
    {
     "data": {
      "text/plain": [
       "array([[0.00e+00, 0.00e+00, 2.00e+00, 1.41e+02, 8.00e+04]])"
      ]
     },
     "execution_count": 184,
     "metadata": {},
     "output_type": "execute_result"
    }
   ],
   "source": [
    "richard_transformer.transform(df)"
   ]
  },
  {
   "cell_type": "code",
   "execution_count": null,
   "metadata": {},
   "outputs": [],
   "source": []
  }
 ],
 "metadata": {
  "colab": {
   "collapsed_sections": [],
   "name": "modeling_auto_scout.ipynb",
   "provenance": []
  },
  "kernelspec": {
   "display_name": "conda_python3",
   "language": "python",
   "name": "conda_python3"
  },
  "language_info": {
   "codemirror_mode": {
    "name": "ipython",
    "version": 3
   },
   "file_extension": ".py",
   "mimetype": "text/x-python",
   "name": "python",
   "nbconvert_exporter": "python",
   "pygments_lexer": "ipython3",
   "version": "3.10.14"
  },
  "vscode": {
   "interpreter": {
    "hash": "ca11b7385a386c9a87deee64c61933703dff8169172974971cc10f21a8115786"
   }
  }
 },
 "nbformat": 4,
 "nbformat_minor": 4
}
